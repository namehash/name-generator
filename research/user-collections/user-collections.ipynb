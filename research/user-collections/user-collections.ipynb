{
 "cells": [
  {
   "cell_type": "markdown",
   "id": "3a5b71b6",
   "metadata": {},
   "source": [
    "# Generator prototypes for user collections"
   ]
  },
  {
   "cell_type": "code",
   "execution_count": 22,
   "id": "975a2c09",
   "metadata": {},
   "outputs": [],
   "source": [
    "bag_of_words = [\n",
    "    'aragorn',\n",
    "    'bilbo',\n",
    "    'baggins',\n",
    "    'boromir',\n",
    "    'eowyn',\n",
    "    'faramir',\n",
    "    'frodo',\n",
    "    'galadriel',\n",
    "    'gandalf',\n",
    "    'gollum',\n",
    "    'legolas',\n",
    "    'pippin',\n",
    "    'samwise',\n",
    "    'saruman',\n",
    "    'sauron',\n",
    "    'smaug'\n",
    "]"
   ]
  },
  {
   "cell_type": "markdown",
   "id": "16aa05ee",
   "metadata": {},
   "source": [
    "I got the from [wiki](https://en.wikipedia.org/wiki/List_of_Middle-earth_characters). To be honest, I cherry-picked them, taking only those which I heard of :D\n",
    "\n",
    "Also, not all the words are covered in the w2v version I am using, for example I tried adding Theoden, but there is no such word in the word2vec :("
   ]
  },
  {
   "cell_type": "markdown",
   "id": "fa86ea1d",
   "metadata": {},
   "source": [
    "## Word2Vec"
   ]
  },
  {
   "cell_type": "code",
   "execution_count": 59,
   "id": "693e20ba",
   "metadata": {},
   "outputs": [],
   "source": [
    "import random\n",
    "from collections import defaultdict\n",
    "from copy import copy\n",
    "from operator import itemgetter\n",
    "\n",
    "\n",
    "import gensim.downloader\n",
    "from gensim.models import Word2Vec, KeyedVectors\n",
    "\n",
    "from pprint import pprint"
   ]
  },
  {
   "cell_type": "code",
   "execution_count": 3,
   "id": "12735467",
   "metadata": {},
   "outputs": [],
   "source": [
    "external_model_path = gensim.downloader.load('glove-twitter-200', return_path=True)\n",
    "w2v = KeyedVectors.load_word2vec_format(external_model_path)"
   ]
  },
  {
   "cell_type": "markdown",
   "id": "d869b737",
   "metadata": {},
   "source": [
    "### Possible strategies"
   ]
  },
  {
   "cell_type": "markdown",
   "id": "cd966225",
   "metadata": {},
   "source": [
    "#### Sampling positives for empty input"
   ]
  },
  {
   "cell_type": "code",
   "execution_count": 28,
   "id": "cb745a0b",
   "metadata": {},
   "outputs": [
    {
     "name": "stdout",
     "output_type": "stream",
     "text": [
      "['pippin', 'saruman', 'frodo']\n"
     ]
    },
    {
     "data": {
      "text/plain": [
       "[('gandalf', 0.7178667783737183),\n",
       " ('sauron', 0.6690242886543274),\n",
       " ('legolas', 0.6201995015144348),\n",
       " ('aragorn', 0.6091588735580444),\n",
       " ('gollum', 0.5979213118553162),\n",
       " ('boromir', 0.5526005029678345),\n",
       " ('baggins', 0.5374102592468262),\n",
       " ('arwen', 0.5329122543334961),\n",
       " ('gimli', 0.5312138795852661),\n",
       " ('tyrion', 0.5231751799583435)]"
      ]
     },
     "execution_count": 28,
     "metadata": {},
     "output_type": "execute_result"
    }
   ],
   "source": [
    "# empty input\n",
    "positives = random.sample(bag_of_words, k=3)\n",
    "print(positives)\n",
    "w2v.most_similar(positive=positives)"
   ]
  },
  {
   "cell_type": "markdown",
   "id": "5df05eeb",
   "metadata": {},
   "source": [
    "#### All words as positives for empty input"
   ]
  },
  {
   "cell_type": "code",
   "execution_count": 48,
   "id": "58888245",
   "metadata": {},
   "outputs": [
    {
     "name": "stdout",
     "output_type": "stream",
     "text": [
      "['aragorn', 'bilbo', 'baggins', 'boromir', 'eowyn', 'faramir', 'frodo', 'galadriel', 'gandalf', 'gollum', 'legolas', 'pippin', 'samwise', 'saruman', 'sauron', 'smaug']\n"
     ]
    },
    {
     "data": {
      "text/plain": [
       "[('arwen', 0.694290816783905),\n",
       " ('gimli', 0.6431220173835754),\n",
       " ('thranduil', 0.6006397008895874),\n",
       " ('thorin', 0.5981868505477905),\n",
       " ('tauriel', 0.5963426828384399),\n",
       " ('smeagol', 0.5961745977401733),\n",
       " ('tyrion', 0.596038818359375),\n",
       " ('lotr', 0.5953423380851746),\n",
       " ('tywin', 0.5831868648529053),\n",
       " ('javert', 0.581065833568573)]"
      ]
     },
     "execution_count": 48,
     "metadata": {},
     "output_type": "execute_result"
    }
   ],
   "source": [
    "# empty input\n",
    "positives = copy(bag_of_words)\n",
    "print(positives)\n",
    "w2v.most_similar(positive=positives)"
   ]
  },
  {
   "cell_type": "markdown",
   "id": "4ff05ec0",
   "metadata": {},
   "source": [
    "#### Sampling words for input with weights"
   ]
  },
  {
   "cell_type": "code",
   "execution_count": 49,
   "id": "d3f181cc",
   "metadata": {},
   "outputs": [
    {
     "name": "stdout",
     "output_type": "stream",
     "text": [
      "[('baggins', 0.25), ('sauron', 0.25)]\n"
     ]
    },
    {
     "data": {
      "text/plain": [
       "[('shire', 0.5350311994552612),\n",
       " ('greenway', 0.5055404305458069),\n",
       " ('meadow', 0.489088773727417),\n",
       " ('racetrack', 0.4845874011516571),\n",
       " ('frodo', 0.47548049688339233),\n",
       " ('ridge', 0.46909940242767334),\n",
       " ('grove', 0.4554486572742462),\n",
       " ('tavern', 0.449339359998703),\n",
       " ('hills', 0.4483398497104645),\n",
       " ('bilbo', 0.44480064511299133)]"
      ]
     },
     "execution_count": 49,
     "metadata": {},
     "output_type": "execute_result"
    }
   ],
   "source": [
    "# non-empty input\n",
    "input_name = 'meadows'\n",
    "positives = [(name, 0.25) for name in random.sample(bag_of_words, k=2)]\n",
    "print(positives)\n",
    "w2v.most_similar(positive=positives + [(input_name, 0.5)])"
   ]
  },
  {
   "cell_type": "code",
   "execution_count": 55,
   "id": "8239f3e6",
   "metadata": {},
   "outputs": [
    {
     "name": "stdout",
     "output_type": "stream",
     "text": [
      "[('gandalf', 0.25), ('boromir', 0.25)]\n"
     ]
    },
    {
     "data": {
      "text/plain": [
       "[('bows', 0.5288364887237549),\n",
       " ('legolas', 0.5241125226020813),\n",
       " ('bandana', 0.5125737190246582),\n",
       " ('tie', 0.509882390499115),\n",
       " ('headband', 0.5009905099868774),\n",
       " ('cross', 0.49508795142173767),\n",
       " ('aragorn', 0.4888427257537842),\n",
       " ('rings', 0.48588308691978455),\n",
       " ('frodo', 0.4845319092273712),\n",
       " ('lord', 0.48201265931129456)]"
      ]
     },
     "execution_count": 55,
     "metadata": {},
     "output_type": "execute_result"
    }
   ],
   "source": [
    "# non-empty input\n",
    "input_name = 'bow'\n",
    "positives = [(name, 0.25) for name in random.sample(bag_of_words, k=2)]\n",
    "print(positives)\n",
    "w2v.most_similar(positive=positives + [(input_name, 0.5)])"
   ]
  },
  {
   "cell_type": "markdown",
   "id": "1a9249d5",
   "metadata": {},
   "source": [
    "Those above definitely weren't the first generated suggestions, `legolas` appeared only after gendalf did.\n",
    "\n",
    "So maybe we should think about sampling more iconic names, which we can detect by measuring average distance with all the others. At least it was my hypothesis, and it turned out to be true for this example. This way the selected words may provide more leaning towards the topic. It could also work the other way, so this is a field for experimenting."
   ]
  },
  {
   "cell_type": "code",
   "execution_count": 60,
   "id": "43ad6ef6",
   "metadata": {},
   "outputs": [
    {
     "name": "stdout",
     "output_type": "stream",
     "text": [
      "[('gandalf', 0.512717),\n",
      " ('frodo', 0.50498706),\n",
      " ('aragorn', 0.47652453),\n",
      " ('legolas', 0.47038412),\n",
      " ('gollum', 0.4569007),\n",
      " ('saruman', 0.4318012),\n",
      " ('sauron', 0.42934752),\n",
      " ('galadriel', 0.41067117),\n",
      " ('boromir', 0.3977174),\n",
      " ('bilbo', 0.38802972),\n",
      " ('baggins', 0.38202074),\n",
      " ('pippin', 0.3767573),\n",
      " ('faramir', 0.3521212),\n",
      " ('smaug', 0.35127968),\n",
      " ('eowyn', 0.31487483),\n",
      " ('samwise', 0.31416324)]\n"
     ]
    }
   ],
   "source": [
    "scores = defaultdict(list)\n",
    "for word in bag_of_words:\n",
    "    for word2 in bag_of_words:\n",
    "        if word == word2: continue\n",
    "            \n",
    "        scores[word].append(w2v.similarity(word, word2))\n",
    "\n",
    "avg_scores = {word: np.mean(scores) for word, scores in scores.items()}\n",
    "pprint(sorted(avg_scores.items(), key=itemgetter(1), reverse=True))"
   ]
  },
  {
   "cell_type": "markdown",
   "id": "e9f5eb3d",
   "metadata": {},
   "source": [
    "#### All the words as positives"
   ]
  },
  {
   "cell_type": "code",
   "execution_count": 68,
   "id": "aec4bae4",
   "metadata": {},
   "outputs": [
    {
     "name": "stdout",
     "output_type": "stream",
     "text": [
      "[('aragorn', 0.0375), ('bilbo', 0.0375), ('baggins', 0.0375), ('boromir', 0.0375), ('eowyn', 0.0375), ('faramir', 0.0375), ('frodo', 0.0375), ('galadriel', 0.0375), ('gandalf', 0.0375), ('gollum', 0.0375), ('legolas', 0.0375), ('pippin', 0.0375), ('samwise', 0.0375), ('saruman', 0.0375), ('sauron', 0.0375), ('smaug', 0.0375)]\n"
     ]
    },
    {
     "data": {
      "text/plain": [
       "[('shire', 0.5253511071205139),\n",
       " ('thranduil', 0.5192374587059021),\n",
       " ('tywin', 0.508065402507782),\n",
       " ('meadow', 0.4798588752746582),\n",
       " ('fassbender', 0.4752791225910187),\n",
       " ('hedlund', 0.4702310860157013),\n",
       " ('primrose', 0.46888819336891174),\n",
       " ('hitchcock', 0.46849772334098816),\n",
       " ('claflin', 0.4677443504333496),\n",
       " ('arwen', 0.46700409054756165)]"
      ]
     },
     "execution_count": 68,
     "metadata": {},
     "output_type": "execute_result"
    }
   ],
   "source": [
    "# non-empty input\n",
    "input_name = 'meadows'\n",
    "positives = [(name, 0.6 / len(bag_of_words)) for name in bag_of_words]\n",
    "print(positives)\n",
    "w2v.most_similar(positive=positives + [(input_name, 0.4)])"
   ]
  },
  {
   "cell_type": "code",
   "execution_count": 70,
   "id": "f8d5fd8b",
   "metadata": {},
   "outputs": [
    {
     "name": "stdout",
     "output_type": "stream",
     "text": [
      "[('aragorn', 0.0375), ('bilbo', 0.0375), ('baggins', 0.0375), ('boromir', 0.0375), ('eowyn', 0.0375), ('faramir', 0.0375), ('frodo', 0.0375), ('galadriel', 0.0375), ('gandalf', 0.0375), ('gollum', 0.0375), ('pippin', 0.0375), ('samwise', 0.0375), ('saruman', 0.0375), ('sauron', 0.0375), ('smaug', 0.0375)]\n"
     ]
    },
    {
     "data": {
      "text/plain": [
       "[('legolas', 0.5950618982315063),\n",
       " ('arwen', 0.5251522660255432),\n",
       " ('rings', 0.5174819231033325),\n",
       " ('bows', 0.5130518674850464),\n",
       " ('tyrion', 0.49903130531311035),\n",
       " ('headband', 0.49528932571411133),\n",
       " ('lord', 0.49409282207489014),\n",
       " ('lotr', 0.4822024703025818),\n",
       " ('bling', 0.4780886173248291),\n",
       " ('ring', 0.47767069935798645)]"
      ]
     },
     "execution_count": 70,
     "metadata": {},
     "output_type": "execute_result"
    }
   ],
   "source": [
    "# non-empty input\n",
    "input_name = 'bow'\n",
    "positives = [(name, 0.6 / len(bag_of_words)) for name in bag_of_words if not name == 'legolas']\n",
    "print(positives)\n",
    "w2v.most_similar(positive=positives + [(input_name, 0.4)])"
   ]
  },
  {
   "cell_type": "code",
   "execution_count": 71,
   "id": "653bdc2d",
   "metadata": {},
   "outputs": [
    {
     "name": "stdout",
     "output_type": "stream",
     "text": [
      "[('aragorn', 0.0375), ('bilbo', 0.0375), ('baggins', 0.0375), ('boromir', 0.0375), ('eowyn', 0.0375), ('faramir', 0.0375), ('frodo', 0.0375), ('galadriel', 0.0375), ('gandalf', 0.0375), ('gollum', 0.0375), ('legolas', 0.0375), ('pippin', 0.0375), ('samwise', 0.0375), ('saruman', 0.0375), ('sauron', 0.0375), ('smaug', 0.0375)]\n"
     ]
    },
    {
     "data": {
      "text/plain": [
       "[('arwen', 0.5389956831932068),\n",
       " ('rings', 0.5178107023239136),\n",
       " ('tyrion', 0.509496808052063),\n",
       " ('bows', 0.503146767616272),\n",
       " ('lotr', 0.49924659729003906),\n",
       " ('hobbit', 0.4895883798599243),\n",
       " ('headband', 0.4891901910305023),\n",
       " ('lord', 0.4891796410083771),\n",
       " ('thranduil', 0.48799988627433777),\n",
       " ('smeagol', 0.48408451676368713)]"
      ]
     },
     "execution_count": 71,
     "metadata": {},
     "output_type": "execute_result"
    }
   ],
   "source": [
    "# non-empty input\n",
    "input_name = 'bow'\n",
    "positives = [(name, 0.6 / len(bag_of_words)) for name in bag_of_words]\n",
    "print(positives)\n",
    "w2v.most_similar(positive=positives + [(input_name, 0.4)])"
   ]
  },
  {
   "cell_type": "markdown",
   "id": "fdef5241",
   "metadata": {},
   "source": [
    "It works pretty great, but needed some weights tuning, and I'm not entirely sure it will work that way for the other topics, maybe they need different weights. So it's a field to research too!\n",
    "\n",
    "W2V also does not generate the names, we have inserted as positives, so I needed to remove the `legolas` from positives to get it, but I think we can try to create a work around this in implementation. We need to be sure this will work well, though.\n",
    "\n",
    "`arwen` is also a good suggestions coming from the w2v, as she is the one legolas falls in love with in Hobbit films. And she shoots from the bow too. If I remember it right :)\n",
    "\n",
    "Basically adding all the names seems to be more stable, at least for a small number of words."
   ]
  },
  {
   "cell_type": "markdown",
   "id": "bf24c6be",
   "metadata": {},
   "source": [
    "#### Adding negatives for the most similar words with input to prevent from obvious suggestions"
   ]
  },
  {
   "cell_type": "code",
   "execution_count": 77,
   "id": "0e5ca6b1",
   "metadata": {},
   "outputs": [
    {
     "name": "stdout",
     "output_type": "stream",
     "text": [
      "[('aragorn', 0.0375), ('bilbo', 0.0375), ('baggins', 0.0375), ('boromir', 0.0375), ('eowyn', 0.0375), ('faramir', 0.0375), ('frodo', 0.0375), ('galadriel', 0.0375), ('gandalf', 0.0375), ('gollum', 0.0375), ('legolas', 0.0375), ('pippin', 0.0375), ('samwise', 0.0375), ('saruman', 0.0375), ('sauron', 0.0375), ('smaug', 0.0375)]\n"
     ]
    },
    {
     "data": {
      "text/plain": [
       "[('creek', 0.5875210762023926),\n",
       " ('hills', 0.5491596460342407),\n",
       " ('hill', 0.533150851726532),\n",
       " ('mckinley', 0.5321338772773743),\n",
       " ('greenwood', 0.5306721329689026),\n",
       " ('oaks', 0.5208395719528198),\n",
       " ('primrose', 0.5163178443908691),\n",
       " ('salem', 0.5148237347602844),\n",
       " ('brook', 0.5136245489120483),\n",
       " ('valley', 0.5130434036254883)]"
      ]
     },
     "execution_count": 77,
     "metadata": {},
     "output_type": "execute_result"
    }
   ],
   "source": [
    "# non-empty input\n",
    "input_name = 'meadows'\n",
    "positives = [(name, 0.6 / len(bag_of_words)) for name in bag_of_words]\n",
    "print(positives)\n",
    "w2v.most_similar(positive=positives + [(input_name, 0.4)], negative=[('meadow', 0.1),\n",
    "                                                                     ('greenway', 0.1),\n",
    "                                                                     ('ridge', 0.1),\n",
    "                                                                     ('grove', 0.1)])"
   ]
  },
  {
   "cell_type": "code",
   "execution_count": 78,
   "id": "f5754e5e",
   "metadata": {},
   "outputs": [
    {
     "data": {
      "text/plain": [
       "[('meadow', 0.5784050226211548),\n",
       " ('greenway', 0.560979962348938),\n",
       " ('ridge', 0.5486966371536255),\n",
       " ('grove', 0.5073105692863464),\n",
       " ('hills', 0.49844449758529663),\n",
       " ('creek', 0.498390793800354),\n",
       " ('racetrack', 0.4840754568576813),\n",
       " ('richland', 0.47176942229270935),\n",
       " ('greenwood', 0.4684500992298126),\n",
       " ('lancaster', 0.46673813462257385)]"
      ]
     },
     "execution_count": 78,
     "metadata": {},
     "output_type": "execute_result"
    }
   ],
   "source": [
    "w2v.most_similar('meadows')"
   ]
  },
  {
   "cell_type": "markdown",
   "id": "cc08f65a",
   "metadata": {},
   "source": [
    "Doesn't seem to work at all! :)\n",
    "\n",
    "And it has too complicated logic, not explainable for sure, I just had an idea and tried out :D"
   ]
  },
  {
   "cell_type": "code",
   "execution_count": 79,
   "id": "735b5294",
   "metadata": {},
   "outputs": [
    {
     "name": "stdout",
     "output_type": "stream",
     "text": [
      "[('aragorn', 0.0375), ('bilbo', 0.0375), ('baggins', 0.0375), ('boromir', 0.0375), ('eowyn', 0.0375), ('faramir', 0.0375), ('frodo', 0.0375), ('galadriel', 0.0375), ('gandalf', 0.0375), ('gollum', 0.0375), ('legolas', 0.0375), ('pippin', 0.0375), ('samwise', 0.0375), ('saruman', 0.0375), ('sauron', 0.0375), ('smaug', 0.0375)]\n"
     ]
    },
    {
     "data": {
      "text/plain": [
       "[('shire', 0.5264033079147339),\n",
       " ('thranduil', 0.5127642154693604),\n",
       " ('tywin', 0.5043323040008545),\n",
       " ('primrose', 0.47820809483528137),\n",
       " ('hedlund', 0.4708022475242615),\n",
       " ('hitchcock', 0.4665117859840393),\n",
       " ('fassbender', 0.4655265510082245),\n",
       " ('claflin', 0.46373462677001953),\n",
       " ('steed', 0.46329405903816223),\n",
       " ('wayland', 0.46223318576812744)]"
      ]
     },
     "execution_count": 79,
     "metadata": {},
     "output_type": "execute_result"
    }
   ],
   "source": [
    "# non-empty input\n",
    "input_name = 'meadows'\n",
    "positives = [(name, 0.6 / len(bag_of_words)) for name in bag_of_words]\n",
    "print(positives)\n",
    "w2v.most_similar(positive=positives + [(input_name, 0.4)], negative=[('meadow', 0.01),\n",
    "                                                                     ('greenway', 0.01),\n",
    "                                                                     ('ridge', 0.01),\n",
    "                                                                     ('grove', 0.01)])"
   ]
  },
  {
   "cell_type": "markdown",
   "id": "8bf2cf59",
   "metadata": {},
   "source": [
    "For smaller weights it seems to have almost no effect, only removing the negative words from the suggestions, which we can do by hand without applying some weird strategies."
   ]
  },
  {
   "cell_type": "markdown",
   "id": "1a3f6a4b",
   "metadata": {},
   "source": [
    "### Research"
   ]
  },
  {
   "cell_type": "markdown",
   "id": "ac13a035",
   "metadata": {},
   "source": [
    "#### Inter-domain similarities"
   ]
  },
  {
   "cell_type": "code",
   "execution_count": 39,
   "id": "af2aecc8",
   "metadata": {},
   "outputs": [
    {
     "data": {
      "text/plain": [
       "0.2811519"
      ]
     },
     "execution_count": 39,
     "metadata": {},
     "output_type": "execute_result"
    }
   ],
   "source": [
    "w2v.similarity('legolas', 'arrow')"
   ]
  },
  {
   "cell_type": "code",
   "execution_count": 40,
   "id": "cb6817ec",
   "metadata": {},
   "outputs": [
    {
     "data": {
      "text/plain": [
       "0.21900098"
      ]
     },
     "execution_count": 40,
     "metadata": {},
     "output_type": "execute_result"
    }
   ],
   "source": [
    "w2v.similarity('legolas', 'bow')"
   ]
  },
  {
   "cell_type": "code",
   "execution_count": 41,
   "id": "633490ae",
   "metadata": {},
   "outputs": [
    {
     "data": {
      "text/plain": [
       "0.10048075"
      ]
     },
     "execution_count": 41,
     "metadata": {},
     "output_type": "execute_result"
    }
   ],
   "source": [
    "w2v.similarity('legolas', 'bowman')"
   ]
  },
  {
   "cell_type": "code",
   "execution_count": 37,
   "id": "9c5a7dbd",
   "metadata": {},
   "outputs": [
    {
     "data": {
      "text/plain": [
       "0.31756023"
      ]
     },
     "execution_count": 37,
     "metadata": {},
     "output_type": "execute_result"
    }
   ],
   "source": [
    "w2v.similarity('shire', 'meadows')"
   ]
  },
  {
   "cell_type": "code",
   "execution_count": 38,
   "id": "9cf4bedb",
   "metadata": {},
   "outputs": [
    {
     "data": {
      "text/plain": [
       "0.06317839"
      ]
     },
     "execution_count": 38,
     "metadata": {},
     "output_type": "execute_result"
    }
   ],
   "source": [
    "w2v.similarity('rohan', 'horse')"
   ]
  },
  {
   "cell_type": "code",
   "execution_count": 45,
   "id": "36621e2e",
   "metadata": {},
   "outputs": [
    {
     "data": {
      "text/plain": [
       "0.39044446"
      ]
     },
     "execution_count": 45,
     "metadata": {},
     "output_type": "execute_result"
    }
   ],
   "source": [
    "w2v.similarity('shire', 'frodo')"
   ]
  },
  {
   "cell_type": "code",
   "execution_count": 46,
   "id": "4fcc990b",
   "metadata": {},
   "outputs": [
    {
     "data": {
      "text/plain": [
       "0.3783192"
      ]
     },
     "execution_count": 46,
     "metadata": {},
     "output_type": "execute_result"
    }
   ],
   "source": [
    "w2v.similarity('shire', 'hobbit')"
   ]
  },
  {
   "cell_type": "markdown",
   "id": "8ca9cc7e",
   "metadata": {},
   "source": [
    "#### Adjectives' similarities"
   ]
  },
  {
   "cell_type": "code",
   "execution_count": 80,
   "id": "90bc3799",
   "metadata": {},
   "outputs": [
    {
     "data": {
      "text/plain": [
       "0.08787117"
      ]
     },
     "execution_count": 80,
     "metadata": {},
     "output_type": "execute_result"
    }
   ],
   "source": [
    "w2v.similarity('legolas', 'accurate')"
   ]
  },
  {
   "cell_type": "code",
   "execution_count": 81,
   "id": "9ad1ac60",
   "metadata": {},
   "outputs": [
    {
     "data": {
      "text/plain": [
       "0.13840021"
      ]
     },
     "execution_count": 81,
     "metadata": {},
     "output_type": "execute_result"
    }
   ],
   "source": [
    "w2v.similarity('legolas', 'brave')"
   ]
  },
  {
   "cell_type": "code",
   "execution_count": 85,
   "id": "ea0dba8b",
   "metadata": {},
   "outputs": [
    {
     "data": {
      "text/plain": [
       "0.23254476"
      ]
     },
     "execution_count": 85,
     "metadata": {},
     "output_type": "execute_result"
    }
   ],
   "source": [
    "w2v.similarity('legolas', 'handsome')"
   ]
  },
  {
   "cell_type": "code",
   "execution_count": 86,
   "id": "9f47c7c2",
   "metadata": {},
   "outputs": [
    {
     "data": {
      "text/plain": [
       "0.31121325"
      ]
     },
     "execution_count": 86,
     "metadata": {},
     "output_type": "execute_result"
    }
   ],
   "source": [
    "w2v.similarity('legolas', 'elf')"
   ]
  },
  {
   "cell_type": "markdown",
   "id": "5ed2537c",
   "metadata": {},
   "source": [
    "## Adjectives"
   ]
  },
  {
   "cell_type": "code",
   "execution_count": 88,
   "id": "1ef987ac",
   "metadata": {},
   "outputs": [],
   "source": [
    "# took them from here -> https://grammar.yourdictionary.com/parts-of-speech/adjectives/list-of-adjective-words.html\n",
    "all_adjectives = \\\n",
    "['adorable', 'adventurous', 'aggressive', 'agreeable', 'alert', 'alive', 'amused', 'angry', 'annoyed', \n",
    " 'annoying', 'anxious', 'arrogant', 'ashamed', 'attractive', 'average', 'awful', 'bad', 'beautiful', \n",
    " 'better', 'bewildered', 'black', 'bloody', 'blue', 'blue-eyed', 'blushing', 'bored', 'brainy', 'brave', \n",
    " 'breakable', 'bright', 'busy', 'calm', 'careful', 'cautious', 'charming', 'cheerful', 'clean', 'clear', \n",
    " 'clever', 'cloudy', 'clumsy', 'colorful', 'combative', 'comfortable', 'concerned', 'condemned', 'confused', \n",
    " 'cooperative', 'courageous', 'crazy', 'creepy', 'crowded', 'cruel', 'curious', 'cute', 'dangerous', 'dark', \n",
    " 'dead', 'defeated', 'defiant', 'delightful', 'depressed', 'determined', 'different', 'difficult', 'disgusted', \n",
    " 'distinct', 'disturbed', 'dizzy', 'doubtful', 'drab', 'dull', 'eager', 'easy', 'elated', 'elegant', 'embarrassed',\n",
    " 'enchanting', 'encouraging', 'energetic', 'enthusiastic', 'envious', 'evil', 'excited', 'expensive', 'exuberant',\n",
    " 'fair', 'faithful', 'famous', 'fancy', 'fantastic', 'fierce', 'filthy', 'fine', 'foolish', 'fragile', 'frail', \n",
    " 'frantic', 'friendly', 'frightened', 'funny', 'gentle', 'gifted', 'glamorous', 'gleaming', 'glorious', 'good', \n",
    " 'gorgeous', 'graceful', 'grieving', 'grotesque', 'grumpy', 'handsome', 'happy', 'healthy', 'helpful', 'helpless', \n",
    " 'hilarious', 'homeless', 'homely', 'horrible', 'hungry', 'hurt', 'ill', 'important', 'impossible', 'inexpensive', \n",
    " 'innocent', 'inquisitive', 'itchy', 'jealous', 'jittery', 'jolly', 'joyous', 'kind', 'lazy', 'light', 'lively', \n",
    " 'lonely', 'long', 'lovely', 'lucky', 'magnificent', 'misty', 'modern', 'motionless', 'muddy', 'mushy', \n",
    " 'mysterious', 'nasty', 'naughty', 'nervous', 'nice', 'nutty', 'obedient', 'obnoxious', 'odd', 'old-fashioned', \n",
    " 'open', 'outrageous', 'outstanding', 'panicky', 'perfect', 'plain', 'pleasant', 'poised', 'poor', 'powerful', \n",
    " 'precious', 'prickly', 'proud', 'putrid', 'puzzled', 'quaint', 'real', 'relieved', 'repulsive', 'rich', 'scary', \n",
    " 'selfish', 'shiny', 'shy', 'silly', 'sleepy', 'smiling', 'smoggy', 'sore', 'sparkling', 'splendid', 'spotless', \n",
    " 'stormy', 'strange', 'stupid', 'successful', 'super', 'talented', 'tame', 'tasty', 'tender', 'tense', 'terrible', \n",
    " 'thankful', 'thoughtful', 'thoughtless', 'tired', 'tough', 'troubled', 'ugliest', 'ugly', 'uninterested', \n",
    " 'unsightly', 'unusual', 'upset', 'uptight', 'vast', 'victorious', 'vivacious', 'wandering', 'weary', 'wicked', \n",
    " 'wide-eyed', 'wild', 'witty', 'worried', 'worrisome', 'wrong', 'zany', 'zealous']"
   ]
  },
  {
   "cell_type": "code",
   "execution_count": 90,
   "id": "0a746d5f",
   "metadata": {},
   "outputs": [
    {
     "data": {
      "text/plain": [
       "(228, 228)"
      ]
     },
     "execution_count": 90,
     "metadata": {},
     "output_type": "execute_result"
    }
   ],
   "source": [
    "adjectives = [adj for adj in all_adjectives if adj in w2v]\n",
    "len(adjectives), len(all_adjectives)"
   ]
  },
  {
   "cell_type": "code",
   "execution_count": 91,
   "id": "e87d9a4e",
   "metadata": {},
   "outputs": [],
   "source": [
    "def get_3_best_adjectives(word: str) -> list[str]:\n",
    "    scores = {adj: w2v.similarity(word, adj) for adj in adjectives}\n",
    "    return sorted(adjectives, key=lambda x: scores[x], reverse=True)[:3]"
   ]
  },
  {
   "cell_type": "code",
   "execution_count": 93,
   "id": "1a073e2a",
   "metadata": {},
   "outputs": [
    {
     "name": "stdout",
     "output_type": "stream",
     "text": [
      "        aragorn -> ['obedient', 'misty', 'glorious']\n",
      "          bilbo -> ['victorious', 'long', 'grumpy']\n",
      "        baggins -> ['agreeable', 'cooperative', 'wandering']\n",
      "        boromir -> ['misty', 'obedient', 'defiant']\n",
      "          eowyn -> ['misty', 'disturbed', 'obedient']\n",
      "        faramir -> ['bewildered', 'putrid', 'obedient']\n",
      "          frodo -> ['misty', 'grumpy', 'adorable']\n",
      "      galadriel -> ['zealous', 'misty', 'obedient']\n",
      "        gandalf -> ['misty', 'dark', 'angry']\n",
      "         gollum -> ['precious', 'grotesque', 'misty']\n",
      "        legolas -> ['adorable', 'misty', 'charming']\n",
      "         pippin -> ['jolly', 'nutty', 'misty']\n",
      "        samwise -> ['obedient', 'courageous', 'defiant']\n",
      "        saruman -> ['bewildered', 'misty', 'unsightly']\n",
      "         sauron -> ['misty', 'unsightly', 'grotesque']\n",
      "          smaug -> ['misty', 'dead', 'mysterious']\n"
     ]
    }
   ],
   "source": [
    "for word in bag_of_words:\n",
    "    print(f'{word: >15} -> {get_3_best_adjectives(word)}')"
   ]
  },
  {
   "cell_type": "markdown",
   "id": "df743848",
   "metadata": {},
   "source": [
    "Those are not the best suggestions, but they definitely have good examples, like:\n",
    "\n",
    "* glorious aragorn\n",
    "* precious/grotesque gollum\n",
    "* charming legolas\n",
    "* jolly/nutty pippin\n",
    "* courageous samwise\n",
    "* bewildered/unslightly saruman\n",
    "* mysterious smaug\n",
    "\n",
    "And we also have some strange examples:\n",
    "\n",
    "* long bilbo\n",
    "* grumpy frodo\n",
    "* dark/angry gandalf :D\n",
    "\n",
    "This generator prototype seems to be an interesting enhancement for the empty input with somewhat smaller weight than others.\n",
    "\n",
    "I am not sure how to use it with input words, the only way I can think of is using it without the bag of words, just for the input word to find a corresponding adjectives. Another way would be to extract all the adjectives from the bag of words and use them with input if that is noun.\n",
    "\n",
    "We could also use this for suggesting names to add to the collection. For example, we process the wikipedia, extract all the names and also pass them through a few generators. This way we will not only suggest the raw names, but already processed ones."
   ]
  },
  {
   "cell_type": "markdown",
   "id": "d7050b18",
   "metadata": {},
   "source": [
    "### Substring Matching"
   ]
  },
  {
   "cell_type": "markdown",
   "id": "bb08e419",
   "metadata": {},
   "source": [
    "We could use the bag of words as the input to substring match generator to get new suggestions for empty input.\n",
    "\n",
    "The other way around is we can extract affixes, remove the popular ones, so only the topic-related will stay, and then we can use them for the input words, but I am not sure how to compose them well with the input."
   ]
  },
  {
   "cell_type": "code",
   "execution_count": 94,
   "id": "1d06283f",
   "metadata": {},
   "outputs": [],
   "source": [
    "with open('../../data/suggestable_domains.csv', 'r', encoding='utf-8') as f:\n",
    "    domains = f.read().strip('\\n').split('\\n')"
   ]
  },
  {
   "cell_type": "code",
   "execution_count": 95,
   "id": "b859f66f",
   "metadata": {},
   "outputs": [],
   "source": [
    "def substring_match(word: str) -> list[str]:\n",
    "    return [line for line in domains if word in line]"
   ]
  },
  {
   "cell_type": "code",
   "execution_count": 96,
   "id": "47c1067b",
   "metadata": {},
   "outputs": [
    {
     "name": "stdout",
     "output_type": "stream",
     "text": [
      "['-legolas.eth,0.695852534562212,taken',\n",
      " 'legendlegolas.eth,0.9285714285721828,taken',\n",
      " 'legolasgreenleaf.eth,0.9285714285714477,taken',\n",
      " '🧝\\u200d♂legolas.eth,0.33410138248847926,taken',\n",
      " '0xlegolas.eth,0.7649769585253455,taken',\n",
      " 'legolasofthewoodlandrealm.eth,0.9285714285714286,taken',\n",
      " '🧝🏻\\u200d♂legolas.eth,0.3317972350230415,taken',\n",
      " 'legolas.eth,0.9285714913851298,available',\n",
      " '🧝🏼\\u200d♂legolas.eth,0.3317972350230415,taken',\n",
      " 'legolasexchange.eth,0.9285714285747219,available',\n",
      " '_legolas.eth,0.9101382488479263,taken',\n",
      " 'legolas-exchange.eth,0.6774193548387097,available']\n"
     ]
    }
   ],
   "source": [
    "pprint(substring_match('legolas'))"
   ]
  },
  {
   "cell_type": "code",
   "execution_count": 97,
   "id": "d689cf25",
   "metadata": {},
   "outputs": [
    {
     "name": "stdout",
     "output_type": "stream",
     "text": [
      "['gandalf.eth,0.9285715041313891,taken',\n",
      " 'blockchaingandalf.eth,0.9285714285714286,taken',\n",
      " '$gandalf.eth,0.33870967741935487,taken',\n",
      " 'btcgandalf.eth,0.9285714285714616,taken',\n",
      " 'gandalfcrypto.eth,0.9285714285715281,taken',\n",
      " 'gandalf🧙\\u200d♂.eth,0.33410138248847926,taken',\n",
      " 'gandalftherich.eth,0.9285714285715743,on_sale',\n",
      " 'gandalf868.eth,0.7626728110599078,taken',\n",
      " 'neongandalf.eth,0.9285714285716994,taken',\n",
      " 'greygandalf.eth,0.9285714285723679,taken',\n",
      " 'gandalfthejedi.eth,0.9285714285714315,taken',\n",
      " 'gandalfthegrey.eth,0.9285714285714501,taken',\n",
      " 'gandalfthewhite.eth,0.928571428571635,taken',\n",
      " 'gandalfthegrail.eth,0.9285714285714295,taken',\n",
      " 'gandalfeducator.eth,0.9285714285716153,taken',\n",
      " 'gandalfthegwei.eth,0.9285714285714286,taken',\n",
      " 'gandalf1818.eth,0.76036866359447,taken',\n",
      " 'gandalfgreyhame.eth,0.9285714285714286,taken',\n",
      " 'gandalfmd.eth,0.9285714285743195,taken',\n",
      " 'gandalf-the-rich.eth,0.6774193548387097,taken',\n",
      " 'pinkgandalf.eth,0.9285714285735718,taken',\n",
      " 'ethgandalf.eth,0.9285714285714896,taken',\n",
      " 'gabbagandalf.eth,0.9285714285714677,on_sale',\n",
      " 'cryptogandalf.eth,0.9285714285715271,taken',\n",
      " 'gandalfthegray.eth,0.9285714285714527,taken',\n",
      " 'gandalftown.eth,0.9285714285760783,taken',\n",
      " 'gandalfwhite.eth,0.9285714285822136,taken',\n",
      " 'gandalfgrey.eth,0.9285714285723679,taken',\n",
      " 'gandalfthewizard.eth,0.9285714285714514,taken',\n",
      " 'gandalfsplug.eth,0.928571428571429,taken',\n",
      " 'gandalfthegay.eth,0.9285714285714898,taken',\n",
      " 'gandalfshoard.eth,0.9285714285714286,taken',\n",
      " '0xgandalf.eth,0.7649769585253455,on_sale',\n",
      " '_gandalf.eth,0.9101382488479263,taken',\n",
      " 'gandalfelgris.eth,0.9285714285714286,taken',\n",
      " '🧙\\u200d♂gandalf.eth,0.33410138248847926,taken',\n",
      " 'gandalfthebrown.eth,0.928571428571452,available',\n",
      " 'gandalfinithegrey.eth,0.9285714285714286,taken',\n",
      " 'wildgandalf.eth,0.9285714285734811,taken',\n",
      " 'gandalfsdad.eth,0.9285714285714289,taken',\n",
      " 'gandalf326.eth,0.7626728110599078,taken',\n",
      " 'gandalf1.eth,0.7672811059907835,on_sale']\n"
     ]
    }
   ],
   "source": [
    "pprint(substring_match('gandalf'))"
   ]
  },
  {
   "cell_type": "markdown",
   "id": "6ae8ffe1",
   "metadata": {},
   "source": [
    "`gandalfthegrey`, `gandalfwhite`, `gandalfwizard`, `gandalfthejedi` xd, `gandalf🧙\\u200d♂`, `greygandalf` - those are interesting and related affixes. If we have the way to compose them nicely with the input names, then it may be quite cool!\n",
    "\n",
    "For this one specifically we could somehow :) detect, that `gendalf` is a name, so these affixes could get used in the `PersonNameGenerator` producing suggestions like `josiahthebrown`, `josiahthewizard` instead of boring and topic-unrelated affixes."
   ]
  },
  {
   "cell_type": "code",
   "execution_count": 98,
   "id": "6339df05",
   "metadata": {},
   "outputs": [
    {
     "name": "stdout",
     "output_type": "stream",
     "text": [
      "['frodohobbs.eth,0.9285714285715324,taken',\n",
      " 'masterfrodo.eth,0.9285714285750503,on_sale',\n",
      " 'cryptofrodo.eth,0.928571428571541,taken',\n",
      " 'frodozee.eth,0.9285714285714928,taken',\n",
      " 'drunkfrodo.eth,0.928571428572046,taken',\n",
      " 'frodon.eth,0.9285714285744536,on_sale',\n",
      " 'frodonsacquet.eth,0.9285714285714286,taken',\n",
      " '_frodo.eth,0.9147465437788018,taken',\n",
      " 'frodobagless.eth,0.9285714285714288,taken',\n",
      " 'alfrodo.eth,0.928571428578812,taken',\n",
      " 'frodobalings.eth,0.9285714285714286,taken',\n",
      " 'frodobolson.eth,0.9285714285714286,taken',\n",
      " 'frodolives.eth,0.9285714285739415,on_sale',\n",
      " 'frodooo.eth,0.928571428572022,taken',\n",
      " 'forfrodo.eth,0.9285714289196829,on_sale',\n",
      " 'frodoholder.eth,0.9285714285724552,taken',\n",
      " 'frodokem.eth,0.9285714285714286,taken',\n",
      " 'frodobagner.eth,0.9285714285714286,taken',\n",
      " 'frodo.eth,0.9285715148708166,taken',\n",
      " 'frododickbags.eth,0.9285714285714286,taken',\n",
      " '0xfrodo.eth,0.7695852534562212,taken',\n",
      " 'frodobagners.eth,0.9285714285714286,taken',\n",
      " 'frodos.eth,0.9285714286057772,taken',\n",
      " 'hazimfrodo.eth,0.9285714285714286,taken',\n",
      " 'mrfrodo.eth,0.9285714285746974,taken',\n",
      " 'ifrodo.eth,0.9285714287529752,taken',\n",
      " 'frodo42069.eth,0.7626728110599078,taken',\n",
      " 'frodobagsof.eth,0.9285714285714602,taken',\n",
      " 'frodobaggins.eth,0.9285714285714396,taken']\n"
     ]
    }
   ],
   "source": [
    "pprint(substring_match('frodo'))"
   ]
  },
  {
   "cell_type": "code",
   "execution_count": 99,
   "id": "507c3adc",
   "metadata": {},
   "outputs": [
    {
     "name": "stdout",
     "output_type": "stream",
     "text": [
      "['gollumnft.eth,0.9285714285714286,taken',\n",
      " 'gollums.eth,0.9285714285867164,on_sale',\n",
      " '_gollum.eth,0.912442396313364,taken',\n",
      " '0xgollum.eth,0.7672811059907835,taken',\n",
      " 'gollumvault.eth,0.9285714285715748,taken',\n",
      " 'gollum.eth,0.9285714683464906,taken',\n",
      " 'ensgollum.eth,0.928571428571449,taken',\n",
      " 'mrgollum.eth,0.9285714285729352,taken']\n"
     ]
    }
   ],
   "source": [
    "pprint(substring_match('gollum'))"
   ]
  },
  {
   "cell_type": "code",
   "execution_count": 100,
   "id": "3243b526",
   "metadata": {},
   "outputs": [
    {
     "name": "stdout",
     "output_type": "stream",
     "text": [
      "['theeyeofsauron.eth,0.9285714285714304,taken',\n",
      " 'eyeofsauron.eth,0.9285714285714519,taken',\n",
      " 'metasauron.eth,0.9285714285717702,taken',\n",
      " 'sonsofsauron.eth,0.9285714285714597,taken',\n",
      " 'greateyeofsauron.eth,0.9285714285714286,taken',\n",
      " '0xsauron.eth,0.7672811059907835,taken',\n",
      " 'sauron.eth,0.9285714647432534,taken',\n",
      " '_sauron.eth,0.912442396313364,taken']\n"
     ]
    }
   ],
   "source": [
    "pprint(substring_match('sauron'))"
   ]
  },
  {
   "cell_type": "markdown",
   "id": "9e42645f",
   "metadata": {},
   "source": [
    "I really like `eyeofsauron` :)\n",
    "\n",
    "The biggest challenge with all of this is to extract those affixes wisely. In case of all affixes we could select them by hand, here we would need to not only make sure they are not boring like those for `gollum`, but also filter out all the meaningless, like the ones generated for `frodo`."
   ]
  },
  {
   "cell_type": "markdown",
   "id": "6605e280",
   "metadata": {},
   "source": [
    "# Topics / Meta-topics"
   ]
  },
  {
   "cell_type": "markdown",
   "id": "380d204f",
   "metadata": {},
   "source": [
    "For now I don't have any utterly new suggestions, but only to bias the W2V by the words related to the topic."
   ]
  },
  {
   "cell_type": "code",
   "execution_count": null,
   "id": "7712265a",
   "metadata": {},
   "outputs": [],
   "source": []
  }
 ],
 "metadata": {
  "kernelspec": {
   "display_name": "asdf-py310",
   "language": "python",
   "name": "asdf-py310"
  },
  "language_info": {
   "codemirror_mode": {
    "name": "ipython",
    "version": 3
   },
   "file_extension": ".py",
   "mimetype": "text/x-python",
   "name": "python",
   "nbconvert_exporter": "python",
   "pygments_lexer": "ipython3",
   "version": "3.10.5"
  }
 },
 "nbformat": 4,
 "nbformat_minor": 5
}
