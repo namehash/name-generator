{
 "cells": [
  {
   "cell_type": "code",
   "execution_count": 1,
   "id": "aa2da9cf-db27-4d94-8602-75b54f83e9d2",
   "metadata": {},
   "outputs": [],
   "source": [
    "import elasticsearch\n",
    "from elasticsearch import Elasticsearch\n",
    "\n",
    "import os\n",
    "from dotenv import load_dotenv\n",
    "from pprint import pprint"
   ]
  },
  {
   "cell_type": "markdown",
   "id": "599eb2d3-7c29-4b65-95fe-0bfef6e9dda6",
   "metadata": {},
   "source": [
    "# Elasticsearch"
   ]
  },
  {
   "cell_type": "code",
   "execution_count": 8,
   "id": "40d8ab43-5aaa-4ff6-bcd9-991bafc46373",
   "metadata": {},
   "outputs": [
    {
     "data": {
      "text/plain": [
       "True"
      ]
     },
     "execution_count": 8,
     "metadata": {},
     "output_type": "execute_result"
    }
   ],
   "source": [
    "load_dotenv()"
   ]
  },
  {
   "cell_type": "code",
   "execution_count": 11,
   "id": "ee175054-d5b7-453c-bfc2-d280e0313012",
   "metadata": {},
   "outputs": [],
   "source": [
    "def connect_to_elasticsearch(\n",
    "        scheme: str,\n",
    "        host: str,\n",
    "        port: int,\n",
    "        username: str,\n",
    "        password: str,\n",
    ") -> Elasticsearch:\n",
    "    return Elasticsearch(\n",
    "        hosts=[{\n",
    "            'scheme': scheme,\n",
    "            'host': host,\n",
    "            'port': port\n",
    "        }],\n",
    "        basic_auth=(username, password),\n",
    "        http_compress=True,\n",
    "        request_timeout=10,\n",
    "    )\n",
    "\n",
    "\n",
    "def index_exists(elastic: Elasticsearch, index_name: str) -> bool:\n",
    "    return elastic.indices.exists(index=index_name)\n",
    "\n",
    "\n",
    "def show_mapping(index: str):\n",
    "    mapping = elastic.indices.get_mapping(index=index)\n",
    "    fields = mapping[os.getenv('ES_INDEX')]['mappings']['properties']\n",
    "    \n",
    "    for field in fields:\n",
    "        pprint(field)\n",
    "        pprint(fields[field])"
   ]
  },
  {
   "cell_type": "code",
   "execution_count": 12,
   "id": "34c7b28d-c160-43a6-91e5-ab6e12399949",
   "metadata": {},
   "outputs": [],
   "source": [
    "index_name = os.getenv('ES_INDEX')\n",
    "\n",
    "elastic = connect_to_elasticsearch(\n",
    "    os.getenv('ES_SCHEME'),\n",
    "    os.getenv('ES_HOST'),\n",
    "    int(os.getenv('ES_PORT')),\n",
    "    os.getenv('ES_USERNAME'),\n",
    "    os.getenv('ES_PASSWORD')\n",
    ")\n",
    "\n",
    "assert index_exists(elastic, index_name)"
   ]
  },
  {
   "cell_type": "code",
   "execution_count": 177,
   "id": "f302b367-7f18-4f8b-9c19-bb6ff3f8de96",
   "metadata": {},
   "outputs": [],
   "source": [
    "# show_mapping(index_name)"
   ]
  },
  {
   "cell_type": "code",
   "execution_count": 124,
   "id": "ac53754c-15c6-45f9-9e82-f11562eacd38",
   "metadata": {},
   "outputs": [],
   "source": [
    "def perform_query(query, limit_names=100) -> dict:\n",
    "\n",
    "    response = elastic.search(\n",
    "        index=index_name,\n",
    "        query=query,\n",
    "        source=True,\n",
    "        fields=['metadata.id', 'data.collection_name', 'metadata.members_count', \n",
    "                'template.collection_types'],\n",
    "        script_fields={\n",
    "            \"script_names\": {\n",
    "                \"script\": {\n",
    "                    \"source\": f\"params['_source'].data.names.stream()\"\n",
    "                             + f\".limit({limit_names})\"\n",
    "                             + \".collect(Collectors.toList())\"\n",
    "                }\n",
    "            }\n",
    "        }\n",
    "    )\n",
    "\n",
    "    first_hit = response['hits']['hits'][0]\n",
    "    \n",
    "    return first_hit"
   ]
  },
  {
   "cell_type": "code",
   "execution_count": 125,
   "id": "ac192375-da7e-404c-a918-a14cb8052b4a",
   "metadata": {},
   "outputs": [],
   "source": [
    "def get_collection_hit_by_id(id_: str):\n",
    "    return perform_query({'match': {'metadata.id.keyword': id_}})"
   ]
  },
  {
   "cell_type": "markdown",
   "id": "4e131873-f780-43dd-b34c-e290147f132b",
   "metadata": {},
   "source": [
    "# Experiments"
   ]
  },
  {
   "cell_type": "code",
   "execution_count": 194,
   "id": "f5ca8c67-8954-4782-9f60-6c06d3b15188",
   "metadata": {},
   "outputs": [],
   "source": [
    "import random\n",
    "\n",
    "random.seed(311) "
   ]
  },
  {
   "cell_type": "code",
   "execution_count": 136,
   "id": "7d714d5a-531c-457e-970d-6bc0bb38edf8",
   "metadata": {},
   "outputs": [],
   "source": [
    "def get_normalized_tokenized_tuples(hit: dict) -> list[tuple[str, list[str]]]:\n",
    "    return [(r['normalized_name'], r['tokenized_name']) for r in hit['fields']['script_names']]"
   ]
  },
  {
   "cell_type": "code",
   "execution_count": 240,
   "id": "5fd9e05b-8d50-4a72-9aa1-7c00d3269fdd",
   "metadata": {},
   "outputs": [],
   "source": [
    "def show_comparison(before_names: list[str], after_names: list[str]):\n",
    "    for b, a in zip(before_names, after_names):\n",
    "        print(f'{b: <20} --->\\t{a}')"
   ]
  },
  {
   "cell_type": "code",
   "execution_count": 126,
   "id": "041e2bd4-83f8-4955-9291-8873da897e91",
   "metadata": {
    "scrolled": true
   },
   "outputs": [],
   "source": [
    "def show_collection_names(hit: dict, n : int | None = None):\n",
    "    hit_f = hit['fields']\n",
    "    \n",
    "    print(f\"=== collection: {hit_f['data.collection_name'][0]} ({hit_f['metadata.id'][0]}) ===\")\n",
    "    print(f\"members count: {hit_f['metadata.members_count'][0]}\")\n",
    "    print(f\"collection types: {hit_f['template.collection_types'][1::2]}\")\n",
    "    \n",
    "    print('\\n' + '====='*12 + '\\n')\n",
    "    \n",
    "    for n_name, t_name in map(lambda r: (r['normalized_name'], r['tokenized_name']), hit_f['script_names']):\n",
    "        print(f'{n_name: <30} {t_name}\\n')"
   ]
  },
  {
   "cell_type": "code",
   "execution_count": 129,
   "id": "2d1aefb5-6de6-42b4-aa8e-d4e39b23e80e",
   "metadata": {
    "scrolled": true
   },
   "outputs": [
    {
     "name": "stdout",
     "output_type": "stream",
     "text": [
      "=== collection: Fruit vegetables (Q8475074) ===\n",
      "members count: 44.0\n",
      "collection types: ['taxon']\n",
      "\n",
      "============================================================\n",
      "\n",
      "maize                          ['maize']\n",
      "\n",
      "tomato                         ['tomato']\n",
      "\n",
      "eggplant                       ['eggplant']\n",
      "\n",
      "cucumber                       ['cucumber']\n",
      "\n",
      "pea                            ['pea']\n",
      "\n",
      "chayote                        ['chayote']\n",
      "\n",
      "jalapeno                       ['jalapeno']\n",
      "\n",
      "capsicum                       ['capsicum']\n",
      "\n",
      "breadfruit                     ['breadfruit']\n",
      "\n",
      "calabash                       ['calabash']\n",
      "\n",
      "tomatillo                      ['tomatillo']\n",
      "\n",
      "luffa                          ['luffa']\n",
      "\n",
      "waxgourd                       ['wax', 'gourd']\n",
      "\n",
      "tinda                          ['tinda']\n",
      "\n",
      "chiqua                         ['chi', 'qua']\n",
      "\n",
      "cordia                         ['cordia']\n",
      "\n",
      "fresnochile                    ['fresno', 'chile']\n",
      "\n",
      "blighiasapida                  ['blighia', 'sapida']\n",
      "\n",
      "asparagusbean                  ['asparagus', 'bean']\n",
      "\n",
      "luffaaegyptiaca                ['luffa', 'aegyptiaca']\n",
      "\n",
      "newmexicochile                 ['new', 'mexico', 'chile']\n",
      "\n",
      "physalisperuviana              ['physalis', 'peruviana']\n",
      "\n",
      "cocciniagrandis                ['coccinia', 'grandis']\n",
      "\n",
      "cucumisanguria                 ['cucumis', 'anguria']\n",
      "\n",
      "bigjimpepper                   ['big', 'jim', 'pepper']\n",
      "\n",
      "luffaacutangula                ['luffa', 'acutangula']\n",
      "\n",
      "santafegrande                  ['santa', 'fe', 'grande']\n",
      "\n",
      "melothriascabra                ['melothria', 'scabra']\n",
      "\n",
      "momordicadioica                ['momordica', 'dioica']\n",
      "\n",
      "momordicacharantia             ['momordica', 'charantia']\n",
      "\n",
      "armeniancucumber               ['armenian', 'cucumber']\n",
      "\n",
      "cyclantherapedata              ['cyclanthera', 'pedata']\n",
      "\n",
      "sandiapepper                   ['sandia', 'pepper']\n",
      "\n",
      "chimayopepper                  ['chimayo', 'pepper']\n",
      "\n",
      "newmexicono9                   ['new', 'mexico', 'no', '9']\n",
      "\n",
      "physalispruinosa               ['physalis', 'pruinosa']\n",
      "\n",
      "trichosanthesdioica            ['trichosanthes', 'dioica']\n",
      "\n",
      "trichosanthescucumerina        ['trichosanthes', 'cucumerina']\n",
      "\n",
      "solanumsisymbriifolium         ['solanum', 'sisymbriifolium']\n",
      "\n",
      "cucumisprophetarum             ['cucumis', 'prophetarum']\n",
      "\n",
      "garciniapedunculata            ['garcinia', 'pedunculata']\n",
      "\n",
      "orientalpicklingmelon          ['oriental', 'pickling', 'melon']\n",
      "\n",
      "solanumpimpinellifolium        ['solanum', 'pimpinellifolium']\n",
      "\n",
      "trichosanthespilosa            ['trichosanthes', 'pilosa']\n",
      "\n"
     ]
    }
   ],
   "source": [
    "c_vegefruits = get_collection_hit_by_id('Q8475074')\n",
    "show_collection_names(c_vegefruits)"
   ]
  },
  {
   "cell_type": "code",
   "execution_count": 192,
   "id": "10830e66-9191-45ce-a112-7e1b95716366",
   "metadata": {},
   "outputs": [
    {
     "name": "stdout",
     "output_type": "stream",
     "text": [
      "=== collection: Potato dishes (Q3244225) ===\n",
      "members count: 114.0\n",
      "collection types: ['potato dish']\n",
      "\n",
      "============================================================\n",
      "\n",
      "curlyfries                     ['curly', 'fries']\n",
      "\n",
      "poutine                        ['poutine']\n",
      "\n",
      "potatochip                     ['potato', 'chip']\n",
      "\n",
      "cottagepie                     ['cottage', 'pie']\n",
      "\n",
      "frenchfries                    ['french', 'fries']\n",
      "\n",
      "hashbrowns                     ['hash', 'browns']\n",
      "\n",
      "rosti                          ['rosti']\n",
      "\n",
      "kapsalon                       ['kapsalon']\n",
      "\n",
      "aligot                         ['aligot']\n",
      "\n",
      "knish                          ['knish']\n",
      "\n",
      "latka                          ['latka']\n",
      "\n",
      "latke                          ['latke']\n",
      "\n",
      "tatertots                      ['tater', 'tots']\n",
      "\n",
      "kugel                          ['kugel']\n",
      "\n",
      "cepelinai                      ['cepelinai']\n",
      "\n",
      "lefse                          ['lefse']\n",
      "\n",
      "colcannon                      ['colcannon']\n",
      "\n",
      "chipbutty                      ['chip', 'butty']\n",
      "\n",
      "homefries                      ['home', 'fries']\n",
      "\n",
      "baeckeoffe                     ['baeckeoffe']\n",
      "\n",
      "tartiflette                    ['tartiflette']\n",
      "\n",
      "nikujaga                       ['nikujaga']\n",
      "\n",
      "potatosalad                    ['potato', 'salad']\n",
      "\n",
      "salchipapa                     ['salchipapa']\n",
      "\n",
      "bakedpotato                    ['baked', 'potato']\n",
      "\n",
      "aloogobi                       ['aloo', 'gobi']\n",
      "\n",
      "ajiaco                         ['ajiaco']\n",
      "\n",
      "pyttipanna                     ['pyttipanna']\n",
      "\n",
      "truffade                       ['truffade']\n",
      "\n",
      "boxty                          ['boxty']\n",
      "\n",
      "coddle                         ['coddle']\n",
      "\n",
      "pommesanna                     ['pommes', 'anna']\n",
      "\n",
      "shepherdspie                   ['shepherds', 'pie']\n",
      "\n",
      "spicebag                       ['spice', 'bag']\n",
      "\n",
      "kroppkaka                      ['kroppkaka']\n",
      "\n",
      "hutspot                        ['hutspot']\n",
      "\n",
      "kopytka                        ['kopytka']\n",
      "\n",
      "schupfnudel                    ['schupfnudel']\n",
      "\n",
      "germanfries                    ['german', 'fries']\n",
      "\n",
      "champ                          ['champ']\n",
      "\n",
      "mashedpotato                   ['mashed', 'potato']\n",
      "\n",
      "stovies                        ['stovies']\n",
      "\n",
      "potetball                      ['potetball']\n",
      "\n",
      "raspeball                      ['raspeball']\n",
      "\n",
      "wooltonpie                     ['woolton', 'pie']\n",
      "\n",
      "potatobread                    ['potato', 'bread']\n",
      "\n",
      "pickert                        ['pickert']\n",
      "\n",
      "crocche                        ['crocche']\n",
      "\n",
      "potatopancake                  ['potato', 'pancake']\n",
      "\n",
      "tombet                         ['tombet']\n",
      "\n",
      "potatobabka                    ['potato', 'babka']\n",
      "\n",
      "kugelis                        ['kugelis']\n",
      "\n",
      "bonda                          ['bonda']\n",
      "\n",
      "trinxat                        ['trinxat']\n",
      "\n",
      "dumaloo                        ['dum', 'aloo']\n",
      "\n",
      "paparellena                    ['papa', 'rellena']\n",
      "\n",
      "maluns                         ['maluns']\n",
      "\n",
      "aloogosht                      ['aloo', 'gosht']\n",
      "\n",
      "chapalele                      ['chapalele']\n",
      "\n",
      "mitraillette                   ['mitraillette']\n",
      "\n",
      "batatavada                     ['batata', 'vada']\n",
      "\n",
      "szalot                         ['szalot']\n",
      "\n",
      "aloopie                        ['aloo', 'pie']\n",
      "\n",
      "potatowedges                   ['potato', 'wedges']\n",
      "\n",
      "patatasbravas                  ['patatas', 'bravas']\n",
      "\n",
      "pitepalt                       ['pitepalt']\n",
      "\n",
      "pela                           ['pela']\n",
      "\n",
      "llapingacho                    ['llapingacho']\n",
      "\n",
      "patatnik                       ['patatnik']\n",
      "\n",
      "saltpotatoes                   ['salt', 'potatoes']\n",
      "\n",
      "mashedpotatoes                 ['mashed', 'potatoes']\n",
      "\n",
      "himmelunderde                  ['himmel', 'und', 'erde']\n",
      "\n",
      "potatoscone                    ['potato', 'scone']\n",
      "\n",
      "gamjajeon                      ['gamjajeon']\n",
      "\n",
      "bangersandmash                 ['bangers', 'and', 'mash']\n",
      "\n",
      "batataharra                    ['batata', 'harra']\n",
      "\n",
      "potatoskins                    ['potato', 'skins']\n",
      "\n",
      "spanishomelette                ['spanish', 'omelette']\n",
      "\n",
      "poutinerapee                   ['poutine', 'rapee']\n",
      "\n",
      "muniniimo                      ['muniniimo']\n",
      "\n",
      "bubbleandsqueak                ['bubble', 'and', 'squeak']\n",
      "\n",
      "tornadopotato                  ['tornado', 'potato']\n",
      "\n",
      "potatowaffle                   ['potato', 'waffle']\n",
      "\n",
      "crispsandwich                  ['crisp', 'sandwich']\n",
      "\n",
      "rewenabread                    ['rewena', 'bread']\n",
      "\n",
      "gefillde                       ['gefillde']\n",
      "\n",
      "rumbledethumps                 ['rumbledethumps']\n",
      "\n",
      "pommesdauphine                 ['pommes', 'dauphine']\n",
      "\n",
      "funeralpotatoes                ['funeral', 'potatoes']\n",
      "\n",
      "papetvaudois                   ['papet', 'vaudois']\n",
      "\n",
      "papasarrugadas                 ['papas', 'arrugadas']\n",
      "\n",
      "alplermagronen                 ['alplermagronen']\n",
      "\n",
      "duchesspotatoes                ['duchess', 'potatoes']\n",
      "\n",
      "gratindauphinois               ['gratin', 'dauphinois']\n",
      "\n",
      "kartoffelkase                  ['kartoffelkase']\n",
      "\n",
      "friedpotatoes                  ['fried', 'potatoes']\n",
      "\n",
      "bauernfruhstuck                ['bauernfruhstuck']\n",
      "\n",
      "hachisparmentier               ['hachis', 'parmentier']\n",
      "\n",
      "bryndzovehalusky               ['bryndzove', 'halusky']\n",
      "\n",
      "potatodoughnut                 ['potato', 'doughnut']\n",
      "\n"
     ]
    }
   ],
   "source": [
    "c_pdishes = get_collection_hit_by_id('Q3244225')\n",
    "show_collection_names(c_pdishes)"
   ]
  },
  {
   "cell_type": "code",
   "execution_count": 131,
   "id": "07a652f1-3a5c-45a3-807a-aca07e215395",
   "metadata": {
    "scrolled": true
   },
   "outputs": [
    {
     "name": "stdout",
     "output_type": "stream",
     "text": [
      "=== collection: Middle-earth characters (Q1204735) ===\n",
      "members count: 79.0\n",
      "collection types: [\"character from Tolkien's legendarium\"]\n",
      "\n",
      "============================================================\n",
      "\n",
      "sauron                         ['sauron']\n",
      "\n",
      "galadriel                      ['galadriel']\n",
      "\n",
      "isildur                        ['isildur']\n",
      "\n",
      "gandalf                        ['gandalf']\n",
      "\n",
      "morgoth                        ['morgoth']\n",
      "\n",
      "aragorn                        ['aragorn']\n",
      "\n",
      "elrond                         ['elrond']\n",
      "\n",
      "gollum                         ['gollum']\n",
      "\n",
      "smeagol                        ['smeagol']\n",
      "\n",
      "elendil                        ['elendil']\n",
      "\n",
      "arwen                          ['arwen']\n",
      "\n",
      "gilgalad                       ['gilgalad']\n",
      "\n",
      "maia                           ['maia']\n",
      "\n",
      "hobbit                         ['hobbit']\n",
      "\n",
      "balrog                         ['balrog']\n",
      "\n",
      "balrogs                        ['balrogs']\n",
      "\n",
      "vala                           ['vala']\n",
      "\n",
      "wizard                         ['wizard']\n",
      "\n",
      "saruman                        ['saruman']\n",
      "\n",
      "legolas                        ['legolas']\n",
      "\n",
      "celeborn                       ['celeborn']\n",
      "\n",
      "thranduil                      ['thranduil']\n",
      "\n",
      "earendil                       ['earendil']\n",
      "\n",
      "gimli                          ['gimli']\n",
      "\n",
      "eomer                          ['eomer']\n",
      "\n",
      "smaug                          ['smaug']\n",
      "\n",
      "dunedain                       ['dunedain']\n",
      "\n",
      "eowyn                          ['eowyn']\n",
      "\n",
      "feanor                         ['feanor']\n",
      "\n",
      "boromir                        ['boromir']\n",
      "\n",
      "radagast                       ['radagast']\n",
      "\n",
      "noldor                         ['noldor']\n",
      "\n",
      "faramir                        ['faramir']\n",
      "\n",
      "celebrimbor                    ['celebrimbor']\n",
      "\n",
      "tombombadil                    ['tom', 'bombadil']\n",
      "\n",
      "ent                            ['ent']\n",
      "\n",
      "glorfindel                     ['glorfindel']\n",
      "\n",
      "theoden                        ['theoden']\n",
      "\n",
      "urukhai                        ['urukhai']\n",
      "\n",
      "denethor                       ['denethor']\n",
      "\n",
      "denethorii                     ['denethor', 'ii']\n",
      "\n",
      "luthien                        ['luthien']\n",
      "\n",
      "fingolfin                      ['fingolfin']\n",
      "\n",
      "halfelven                      ['halfelven']\n",
      "\n",
      "beorn                          ['beorn']\n",
      "\n",
      "treebeard                      ['treebeard']\n",
      "\n",
      "finwe                          ['finwe']\n",
      "\n",
      "thingol                        ['thingol']\n",
      "\n",
      "beren                          ['beren']\n",
      "\n",
      "goldberry                      ['goldberry']\n",
      "\n",
      "frodobaggins                   ['frodo', 'baggins']\n",
      "\n",
      "balin                          ['balin']\n",
      "\n",
      "melian                         ['melian']\n",
      "\n",
      "bilbobaggins                   ['bilbo', 'baggins']\n",
      "\n",
      "hurin                          ['hurin']\n",
      "\n",
      "maedhros                       ['maedhros']\n",
      "\n",
      "druedain                       ['druedain']\n",
      "\n",
      "peregrintook                   ['peregrin', 'took']\n",
      "\n",
      "samwisegamgee                  ['samwise', 'gamgee']\n",
      "\n",
      "tuorandidril                   ['tuor', 'and', 'idril']\n",
      "\n",
      "turinturambar                  ['turin', 'turambar']\n",
      "\n",
      "bardthebowman                  ['bard', 'the', 'bowman']\n",
      "\n",
      "aelfwine                       ['aelfwine']\n",
      "\n",
      "finrodfelagund                 ['finrod', 'felagund']\n",
      "\n",
      "oldmanwillow                   ['old', 'man', 'willow']\n",
      "\n",
      "finweandmiriel                 ['finwe', 'and', 'miriel']\n",
      "\n",
      "grimawormtongue                ['grima', 'wormtongue']\n",
      "\n",
      "witchkingofangmar              ['witchking', 'of', 'angmar']\n",
      "\n",
      "earendilandelwing              ['earendil', 'and', 'elwing']\n",
      "\n",
      "thorinoakenshield              ['thorin', 'oakenshield']\n",
      "\n",
      "maiarinmiddleearth             ['maiar', 'in', 'middleearth']\n",
      "\n",
      "valarinmiddleearth             ['valar', 'in', 'middleearth']\n",
      "\n",
      "elvesinmiddleearth             ['elves', 'in', 'middleearth']\n",
      "\n",
      "ainurinmiddleearth             ['ainur', 'in', 'middleearth']\n",
      "\n",
      "meninmiddleearth               ['men', 'in', 'middleearth']\n",
      "\n",
      "wizardsinmiddleearth           ['wizards', 'in', 'middleearth']\n",
      "\n",
      "meriadocbrandybuck             ['meriadoc', 'brandybuck']\n",
      "\n",
      "dwarvesinmiddleearth           ['dwarves', 'in', 'middleearth']\n",
      "\n",
      "dragonsinmiddleearth           ['dragons', 'in', 'middleearth']\n",
      "\n"
     ]
    }
   ],
   "source": [
    "c_lotr = get_collection_hit_by_id('Q1204735')\n",
    "show_collection_names(c_lotr)"
   ]
  },
  {
   "cell_type": "code",
   "execution_count": 132,
   "id": "cc99ea20-f265-40a7-84bc-f679f729db59",
   "metadata": {
    "scrolled": true
   },
   "outputs": [
    {
     "name": "stdout",
     "output_type": "stream",
     "text": [
      "=== collection: Venomous snakes (Q7485198) ===\n",
      "members count: 35.0\n",
      "collection types: ['taxon']\n",
      "\n",
      "============================================================\n",
      "\n",
      "boomslang                      ['boomslang']\n",
      "\n",
      "elapidae                       ['elapidae']\n",
      "\n",
      "tigersnake                     ['tiger', 'snake']\n",
      "\n",
      "gaboonviper                    ['gaboon', 'viper']\n",
      "\n",
      "hydrophiinae                   ['hydrophiinae']\n",
      "\n",
      "dugite                         ['dugite']\n",
      "\n",
      "twigsnake                      ['twig', 'snake']\n",
      "\n",
      "acanthophis                    ['acanthophis']\n",
      "\n",
      "forestcobra                    ['forest', 'cobra']\n",
      "\n",
      "lachesismuta                   ['lachesis', 'muta']\n",
      "\n",
      "azemiops                       ['azemiops']\n",
      "\n",
      "browntreesnake                 ['brown', 'tree', 'snake']\n",
      "\n",
      "jamesonsmamba                  ['jamesons', 'mamba']\n",
      "\n",
      "manybandedkrait                ['manybanded', 'krait']\n",
      "\n",
      "easterncopperhead              ['eastern', 'copperhead']\n",
      "\n",
      "bothropsinsularis              ['bothrops', 'insularis']\n",
      "\n",
      "rhabdophistigrinus             ['rhabdophis', 'tigrinus']\n",
      "\n",
      "rednapedsnake                  ['rednaped', 'snake']\n",
      "\n",
      "agkistrodonpiscivorus          ['agkistrodon', 'piscivorus']\n",
      "\n",
      "toxicocalamus                  ['toxicocalamus']\n",
      "\n",
      "boigamelanota                  ['boiga', 'melanota']\n",
      "\n",
      "savannavinesnake               ['savanna', 'vine', 'snake']\n",
      "\n",
      "philodryasolfersii             ['philodryas', 'olfersii']\n",
      "\n",
      "orangenapedsnake               ['orangenaped', 'snake']\n",
      "\n",
      "blackneckedspittingcobra       ['blacknecked', 'spitting', 'cobra']\n",
      "\n",
      "cryptophisnigrescens           ['cryptophis', 'nigrescens']\n",
      "\n",
      "mandalayspittingcobra          ['mandalay', 'spitting', 'cobra']\n",
      "\n",
      "langahamadagascariensis        ['langaha', 'madagascariensis']\n",
      "\n",
      "metlapilcoatlusnummifer        ['metlapilcoatlus', 'nummifer']\n",
      "\n",
      "brownheadedsnake               ['brownheaded', 'snake']\n",
      "\n",
      "yellownapedsnake               ['yellownaped', 'snake']\n",
      "\n",
      "bungarusmagnimaculatus         ['bungarus', 'magnimaculatus']\n",
      "\n",
      "bothriechisnubestris           ['bothriechis', 'nubestris']\n",
      "\n",
      "borikenophisportoricensis      ['borikenophis', 'portoricensis']\n",
      "\n",
      "toxicocalamusloriae            ['toxicocalamus', 'loriae']\n",
      "\n"
     ]
    }
   ],
   "source": [
    "c_snakes = get_collection_hit_by_id('Q7485198')\n",
    "show_collection_names(c_snakes)"
   ]
  },
  {
   "cell_type": "code",
   "execution_count": 187,
   "id": "06b3ed53-927e-4e1b-a2aa-93a3cca167d3",
   "metadata": {},
   "outputs": [
    {
     "name": "stdout",
     "output_type": "stream",
     "text": [
      "=== collection: Marvel Comics characters (Q371776) ===\n",
      "members count: 1935.0\n",
      "collection types: ['fictional character']\n",
      "\n",
      "============================================================\n",
      "\n",
      "moonknight                     ['moon', 'knight']\n",
      "\n",
      "spiderman                      ['spiderman']\n",
      "\n",
      "satan                          ['satan']\n",
      "\n",
      "archangel                      ['archangel']\n",
      "\n",
      "namor                          ['namor']\n",
      "\n",
      "submariner                     ['submariner']\n",
      "\n",
      "ironman                        ['iron', 'man']\n",
      "\n",
      "tonystark                      ['tony', 'stark']\n",
      "\n",
      "ironmaniac                     ['iron', 'maniac']\n",
      "\n",
      "oshtur                         ['oshtur']\n",
      "\n",
      "adamandeve                     ['adam', 'and', 'eve']\n",
      "\n",
      "thanos                         ['thanos']\n",
      "\n",
      "shehulk                        ['shehulk']\n",
      "\n",
      "hulk                           ['hulk']\n",
      "\n",
      "blackbolt                      ['black', 'bolt']\n",
      "\n",
      "utopia                         ['utopia']\n",
      "\n",
      "deadpool                       ['deadpool']\n",
      "\n",
      "demon                          ['demon']\n",
      "\n",
      "kamalakhan                     ['kamala', 'khan']\n",
      "\n",
      "msmarvel                       ['ms', 'marvel']\n",
      "\n",
      "clea                           ['clea']\n",
      "\n",
      "wolverine                      ['wolverine']\n",
      "\n",
      "avengers                       ['avengers']\n",
      "\n",
      "azzuri                         ['azzuri']\n",
      "\n",
      "redeemers                      ['redeemers']\n",
      "\n",
      "peterparker                    ['peter', 'parker']\n",
      "\n",
      "xmen                           ['xmen']\n",
      "\n",
      "modok                          ['modok']\n",
      "\n",
      "zorro                          ['zorro']\n",
      "\n",
      "faustian                       ['faustian']\n",
      "\n",
      "doctordoom                     ['doctor', 'doom']\n",
      "\n",
      "illuminati                     ['illuminati']\n",
      "\n",
      "thor                           ['thor']\n",
      "\n",
      "punisher                       ['punisher']\n",
      "\n",
      "daredevil                      ['daredevil']\n",
      "\n",
      "goddess                        ['goddess']\n",
      "\n",
      "magus                          ['magus']\n",
      "\n",
      "venom                          ['venom']\n",
      "\n",
      "antihero                       ['antihero']\n",
      "\n",
      "ghostrider                     ['ghost', 'rider']\n",
      "\n",
      "vengeance                      ['vengeance']\n",
      "\n",
      "proctor                        ['proctor']\n",
      "\n",
      "galactus                       ['galactus']\n",
      "\n",
      "tyrant                         ['tyrant']\n",
      "\n",
      "redshift                       ['red', 'shift']\n",
      "\n",
      "janefoster                     ['jane', 'foster']\n",
      "\n",
      "blackwidow                     ['black', 'widow']\n",
      "\n",
      "blade                          ['blade']\n",
      "\n",
      "superhero                      ['superhero']\n",
      "\n",
      "magneto                        ['magneto']\n",
      "\n",
      "acolytes                       ['acolytes']\n",
      "\n",
      "kingpin                        ['kingpin']\n",
      "\n",
      "kingkong                       ['king', 'kong']\n",
      "\n",
      "titania                        ['titania']\n",
      "\n",
      "professorx                     ['professor', 'x']\n",
      "\n",
      "jeangrey                       ['jean', 'grey']\n",
      "\n",
      "eternals                       ['eternals']\n",
      "\n",
      "eternal                        ['eternal']\n",
      "\n",
      "olympia                        ['olympia']\n",
      "\n",
      "gwenstacy                      ['gwen', 'stacy']\n",
      "\n",
      "missamerica                    ['miss', 'america']\n",
      "\n",
      "inhumans                       ['inhumans']\n",
      "\n",
      "nahrees                        ['nahrees']\n",
      "\n",
      "perun                          ['perun']\n",
      "\n",
      "skaar                          ['skaar']\n",
      "\n",
      "hobgoblin                      ['hobgoblin']\n",
      "\n",
      "tchalla                        ['tchalla']\n",
      "\n",
      "hawkeye                        ['hawkeye']\n",
      "\n",
      "carnage                        ['carnage']\n",
      "\n",
      "antagonist                     ['antagonist']\n",
      "\n",
      "celestial                      ['celestial']\n",
      "\n",
      "celestials                     ['celestials']\n",
      "\n",
      "thefulcrum                     ['the', 'fulcrum']\n",
      "\n",
      "manthing                       ['manthing']\n",
      "\n",
      "juggernaut                     ['juggernaut']\n",
      "\n",
      "madameweb                      ['madame', 'web']\n",
      "\n",
      "vision                         ['vision']\n",
      "\n",
      "wonderman                      ['wonder', 'man']\n",
      "\n",
      "solardeity                     ['solar', 'deity']\n",
      "\n",
      "knull                          ['knull']\n",
      "\n",
      "kittypryde                     ['kitty', 'pryde']\n",
      "\n",
      "shadowcat                      ['shadowcat']\n",
      "\n",
      "kittypride                     ['kitty', 'pride']\n",
      "\n",
      "shangchi                       ['shangchi']\n",
      "\n",
      "symbiote                       ['symbiote']\n",
      "\n",
      "groot                          ['groot']\n",
      "\n",
      "rogue                          ['rogue']\n",
      "\n",
      "pandemic                       ['pandemic']\n",
      "\n",
      "beyonder                       ['beyonder']\n",
      "\n",
      "chewbacca                      ['chewbacca']\n",
      "\n",
      "hercules                       ['hercules']\n",
      "\n",
      "starlord                       ['starlord']\n",
      "\n",
      "loki                           ['loki']\n",
      "\n",
      "mysterio                       ['mysterio']\n",
      "\n",
      "mysterion                      ['mysterion']\n",
      "\n",
      "brucebanner                    ['bruce', 'banner']\n",
      "\n",
      "mystique                       ['mystique']\n",
      "\n",
      "eternity                       ['eternity']\n",
      "\n",
      "starfox                        ['starfox']\n",
      "\n",
      "blackcat                       ['black', 'cat']\n",
      "\n"
     ]
    }
   ],
   "source": [
    "c_marvel = get_collection_hit_by_id('Q371776')\n",
    "show_collection_names(c_marvel)"
   ]
  },
  {
   "cell_type": "markdown",
   "id": "47c53b8c-cac8-43f7-ad09-f20c9b0aa4af",
   "metadata": {
    "jp-MarkdownHeadingCollapsed": true
   },
   "source": [
    "## Original tokenization scrambling"
   ]
  },
  {
   "cell_type": "code",
   "execution_count": 219,
   "id": "edcd97e6-034b-4dca-8a16-e52a6846338e",
   "metadata": {},
   "outputs": [],
   "source": [
    "from copy import copy"
   ]
  },
  {
   "cell_type": "code",
   "execution_count": 267,
   "id": "98a1ff78-d2d4-4bec-aaf4-226e042bf7a1",
   "metadata": {},
   "outputs": [],
   "source": [
    "def name_tuples_to_bigrams(name_tuples: list[tuple[str, tuple]]) -> list[tuple[str, str]]:\n",
    "    left_names = []\n",
    "    right_names = []\n",
    "    for _, tokenized_name in name_tuples:\n",
    "        if len(tokenized_name) == 1:\n",
    "            pass  # todo: here we could use BigramTokenizer\n",
    "        elif len(tokenized_name) == 2:\n",
    "            left_names.append(tokenized_name[0])\n",
    "            right_names.append(tokenized_name[1])\n",
    "        elif len(tokenized_name) > 2:\n",
    "            left_names.append(tokenized_name[0])\n",
    "            right_names.append(''.join(tokenized_name[1:]))\n",
    "    return left_names, right_names"
   ]
  },
  {
   "cell_type": "code",
   "execution_count": 268,
   "id": "d2a71719-5bed-4d52-90c5-80bbd0842e73",
   "metadata": {},
   "outputs": [],
   "source": [
    "def fs_to_zipped(firsts: list[str], seconds: list[str]) -> list[str]:\n",
    "    return copy(list(map(lambda t: '-'.join(t), zip(firsts, seconds))))"
   ]
  },
  {
   "cell_type": "markdown",
   "id": "8c30da28-79f4-458a-876a-7bfdd6073da7",
   "metadata": {
    "jp-MarkdownHeadingCollapsed": true
   },
   "source": [
    "### Top 10 bigrams swap"
   ]
  },
  {
   "cell_type": "code",
   "execution_count": 269,
   "id": "0a2ed4ad-a78e-43a1-815b-f6bc594debec",
   "metadata": {},
   "outputs": [],
   "source": [
    "def top10_bigram_swap(c_hit: dict, topn=10):\n",
    "    name_tuples = get_normalized_tokenized_tuples(c_hit)\n",
    "    tokenized_names = [t[1] for t in name_tuples if len(t[1]) == 2][:topn]\n",
    "    firsts, seconds = map(list, list(zip(*tokenized_names)))\n",
    "    before = fs_to_zipped(firsts, seconds)\n",
    "    random.shuffle(seconds)\n",
    "    after = fs_to_zipped(firsts, seconds)\n",
    "    show_comparison(before, after)"
   ]
  },
  {
   "cell_type": "code",
   "execution_count": 271,
   "id": "ba8fe862-251d-4c8f-a7cd-5c59b749dd02",
   "metadata": {},
   "outputs": [
    {
     "name": "stdout",
     "output_type": "stream",
     "text": [
      "wax-gourd            --->\twax-aegyptiaca\n",
      "chi-qua              --->\tchi-anguria\n",
      "fresno-chile         --->\tfresno-chile\n",
      "blighia-sapida       --->\tblighia-peruviana\n",
      "asparagus-bean       --->\tasparagus-grandis\n",
      "luffa-aegyptiaca     --->\tluffa-sapida\n",
      "physalis-peruviana   --->\tphysalis-qua\n",
      "coccinia-grandis     --->\tcoccinia-bean\n",
      "cucumis-anguria      --->\tcucumis-gourd\n",
      "luffa-acutangula     --->\tluffa-acutangula\n"
     ]
    }
   ],
   "source": [
    "# fruits\n",
    "top10_bigram_swap(c_vegefruits)"
   ]
  },
  {
   "cell_type": "code",
   "execution_count": 272,
   "id": "f68b4c15-1a7f-4ee4-9cfe-825e1c5d6fff",
   "metadata": {},
   "outputs": [
    {
     "name": "stdout",
     "output_type": "stream",
     "text": [
      "curly-fries          --->\tcurly-potato\n",
      "potato-chip          --->\tpotato-fries\n",
      "cottage-pie          --->\tcottage-fries\n",
      "french-fries         --->\tfrench-tots\n",
      "hash-browns          --->\thash-pie\n",
      "tater-tots           --->\ttater-browns\n",
      "chip-butty           --->\tchip-butty\n",
      "home-fries           --->\thome-salad\n",
      "potato-salad         --->\tpotato-chip\n",
      "baked-potato         --->\tbaked-fries\n"
     ]
    }
   ],
   "source": [
    "# dishes\n",
    "top10_bigram_swap(c_pdishes)"
   ]
  },
  {
   "cell_type": "code",
   "execution_count": 273,
   "id": "df25d571-bb4c-4f2a-b1a8-221e91d51dd9",
   "metadata": {},
   "outputs": [
    {
     "name": "stdout",
     "output_type": "stream",
     "text": [
      "tom-bombadil         --->\ttom-felagund\n",
      "denethor-ii          --->\tdenethor-bombadil\n",
      "frodo-baggins        --->\tfrodo-baggins\n",
      "bilbo-baggins        --->\tbilbo-turambar\n",
      "peregrin-took        --->\tperegrin-oakenshield\n",
      "samwise-gamgee       --->\tsamwise-ii\n",
      "turin-turambar       --->\tturin-took\n",
      "finrod-felagund      --->\tfinrod-baggins\n",
      "grima-wormtongue     --->\tgrima-wormtongue\n",
      "thorin-oakenshield   --->\tthorin-gamgee\n"
     ]
    }
   ],
   "source": [
    "# lotr\n",
    "top10_bigram_swap(c_lotr)"
   ]
  },
  {
   "cell_type": "code",
   "execution_count": 274,
   "id": "3780cdb6-474e-4977-b0e1-2a7cdedd41cb",
   "metadata": {},
   "outputs": [
    {
     "name": "stdout",
     "output_type": "stream",
     "text": [
      "tiger-snake          --->\ttiger-tigrinus\n",
      "gaboon-viper         --->\tgaboon-cobra\n",
      "twig-snake           --->\ttwig-krait\n",
      "forest-cobra         --->\tforest-muta\n",
      "lachesis-muta        --->\tlachesis-mamba\n",
      "jamesons-mamba       --->\tjamesons-viper\n",
      "manybanded-krait     --->\tmanybanded-snake\n",
      "eastern-copperhead   --->\teastern-snake\n",
      "bothrops-insularis   --->\tbothrops-insularis\n",
      "rhabdophis-tigrinus  --->\trhabdophis-copperhead\n"
     ]
    }
   ],
   "source": [
    "# snakes\n",
    "top10_bigram_swap(c_snakes)"
   ]
  },
  {
   "cell_type": "code",
   "execution_count": 275,
   "id": "6b329fd4-34b0-44d7-9b5f-6ec798a6effc",
   "metadata": {},
   "outputs": [
    {
     "name": "stdout",
     "output_type": "stream",
     "text": [
      "moon-knight          --->\tmoon-bolt\n",
      "iron-man             --->\tiron-khan\n",
      "tony-stark           --->\ttony-stark\n",
      "iron-maniac          --->\tiron-parker\n",
      "black-bolt           --->\tblack-man\n",
      "kamala-khan          --->\tkamala-maniac\n",
      "ms-marvel            --->\tms-knight\n",
      "peter-parker         --->\tpeter-rider\n",
      "doctor-doom          --->\tdoctor-marvel\n",
      "ghost-rider          --->\tghost-doom\n"
     ]
    }
   ],
   "source": [
    "# marvel\n",
    "top10_bigram_swap(c_marvel)"
   ]
  },
  {
   "cell_type": "markdown",
   "id": "1294b64d-e163-4037-a331-68f8bd4e840a",
   "metadata": {
    "jp-MarkdownHeadingCollapsed": true
   },
   "source": [
    "### Without skipping non-bigrams (n>2)"
   ]
  },
  {
   "cell_type": "code",
   "execution_count": 276,
   "id": "a7c8190e-fc35-467f-a259-5a97872b1a0d",
   "metadata": {},
   "outputs": [],
   "source": [
    "def top10_bigram_swap_no_skip(c_hit: dict, topn=10):\n",
    "    name_tuples = get_normalized_tokenized_tuples(c_hit)\n",
    "    firsts, seconds = name_tuples_to_bigrams(name_tuples)\n",
    "    firsts, seconds = firsts[:topn], seconds[:topn]\n",
    "    before = copy(list(map(lambda t: '-'.join(t), zip(firsts, seconds))))\n",
    "    random.shuffle(seconds)\n",
    "    after = list(map(lambda t: '-'.join(t), zip(firsts, seconds)))\n",
    "    show_comparison(before, after)"
   ]
  },
  {
   "cell_type": "code",
   "execution_count": 277,
   "id": "5b1cc680-829a-4a83-9e24-afbc3d94ff17",
   "metadata": {
    "scrolled": true
   },
   "outputs": [
    {
     "name": "stdout",
     "output_type": "stream",
     "text": [
      "wax-gourd            --->\twax-aegyptiaca\n",
      "chi-qua              --->\tchi-grandis\n",
      "fresno-chile         --->\tfresno-anguria\n",
      "blighia-sapida       --->\tblighia-qua\n",
      "asparagus-bean       --->\tasparagus-peruviana\n",
      "luffa-aegyptiaca     --->\tluffa-sapida\n",
      "new-mexicochile      --->\tnew-mexicochile\n",
      "physalis-peruviana   --->\tphysalis-bean\n",
      "coccinia-grandis     --->\tcoccinia-gourd\n",
      "cucumis-anguria      --->\tcucumis-chile\n"
     ]
    }
   ],
   "source": [
    "# fruits\n",
    "top10_bigram_swap_no_skip(c_vegefruits)"
   ]
  },
  {
   "cell_type": "code",
   "execution_count": 278,
   "id": "946bbba6-965a-4c2f-a84f-f711dccba773",
   "metadata": {},
   "outputs": [
    {
     "name": "stdout",
     "output_type": "stream",
     "text": [
      "curly-fries          --->\tcurly-fries\n",
      "potato-chip          --->\tpotato-fries\n",
      "cottage-pie          --->\tcottage-potato\n",
      "french-fries         --->\tfrench-browns\n",
      "hash-browns          --->\thash-tots\n",
      "tater-tots           --->\ttater-fries\n",
      "chip-butty           --->\tchip-butty\n",
      "home-fries           --->\thome-pie\n",
      "potato-salad         --->\tpotato-salad\n",
      "baked-potato         --->\tbaked-chip\n"
     ]
    }
   ],
   "source": [
    "# dishes\n",
    "top10_bigram_swap_no_skip(c_pdishes)"
   ]
  },
  {
   "cell_type": "code",
   "execution_count": 279,
   "id": "559784d6-a10b-4448-b417-59ae4e88bf36",
   "metadata": {},
   "outputs": [
    {
     "name": "stdout",
     "output_type": "stream",
     "text": [
      "tom-bombadil         --->\ttom-turambar\n",
      "denethor-ii          --->\tdenethor-gamgee\n",
      "frodo-baggins        --->\tfrodo-baggins\n",
      "bilbo-baggins        --->\tbilbo-felagund\n",
      "peregrin-took        --->\tperegrin-bombadil\n",
      "samwise-gamgee       --->\tsamwise-ii\n",
      "tuor-andidril        --->\ttuor-andidril\n",
      "turin-turambar       --->\tturin-baggins\n",
      "bard-thebowman       --->\tbard-thebowman\n",
      "finrod-felagund      --->\tfinrod-took\n"
     ]
    }
   ],
   "source": [
    "# lotr\n",
    "top10_bigram_swap_no_skip(c_lotr)"
   ]
  },
  {
   "cell_type": "code",
   "execution_count": 280,
   "id": "5e5d5222-7298-48f4-b20d-812d0713ad0b",
   "metadata": {
    "scrolled": true
   },
   "outputs": [
    {
     "name": "stdout",
     "output_type": "stream",
     "text": [
      "tiger-snake          --->\ttiger-cobra\n",
      "gaboon-viper         --->\tgaboon-insularis\n",
      "twig-snake           --->\ttwig-treesnake\n",
      "forest-cobra         --->\tforest-krait\n",
      "lachesis-muta        --->\tlachesis-muta\n",
      "brown-treesnake      --->\tbrown-mamba\n",
      "jamesons-mamba       --->\tjamesons-snake\n",
      "manybanded-krait     --->\tmanybanded-snake\n",
      "eastern-copperhead   --->\teastern-viper\n",
      "bothrops-insularis   --->\tbothrops-copperhead\n"
     ]
    }
   ],
   "source": [
    "# snakes\n",
    "top10_bigram_swap_no_skip(c_snakes)"
   ]
  },
  {
   "cell_type": "code",
   "execution_count": 281,
   "id": "5a5d3cc0-a2f1-4fd1-ac4c-5bd438c9d5e5",
   "metadata": {},
   "outputs": [
    {
     "name": "stdout",
     "output_type": "stream",
     "text": [
      "moon-knight          --->\tmoon-knight\n",
      "iron-man             --->\tiron-doom\n",
      "tony-stark           --->\ttony-stark\n",
      "iron-maniac          --->\tiron-andeve\n",
      "adam-andeve          --->\tadam-khan\n",
      "black-bolt           --->\tblack-parker\n",
      "kamala-khan          --->\tkamala-man\n",
      "ms-marvel            --->\tms-maniac\n",
      "peter-parker         --->\tpeter-marvel\n",
      "doctor-doom          --->\tdoctor-bolt\n"
     ]
    }
   ],
   "source": [
    "# marvel\n",
    "top10_bigram_swap_no_skip(c_marvel)"
   ]
  },
  {
   "cell_type": "markdown",
   "id": "fb875956-6c2b-4b3a-8486-3c967efe82ae",
   "metadata": {},
   "source": [
    "# Deeper tokenization scrambling"
   ]
  },
  {
   "cell_type": "code",
   "execution_count": 295,
   "id": "3356650b-92be-4935-9c53-ca307b582b67",
   "metadata": {},
   "outputs": [],
   "source": [
    "from nltk.corpus import wordnet as wn\n",
    "\n",
    "class BigramWordnetTokenizer:\n",
    "    \"\"\"Tokenize concatenation of two words from WordNet.\"\"\"\n",
    "\n",
    "    def __init__(self):\n",
    "        wn.synsets('dog')\n",
    "\n",
    "    def tokenize(self, word: str) -> list[tuple[str, ...]]:\n",
    "        result = []\n",
    "        if wn.synsets(word):\n",
    "            result.append((word,))\n",
    "\n",
    "        for i in range(1, len(word)):\n",
    "            prefix_synsets = wn.synsets(word[:i])\n",
    "            suffix_synsets = wn.synsets(word[i:])\n",
    "\n",
    "            if prefix_synsets and suffix_synsets:\n",
    "                result.append((word[:i], word[i:]))\n",
    "\n",
    "        return result\n",
    "\n",
    "    def tokenize_best_result(self, word: str) -> tuple[str, ...] | None:\n",
    "        res = self.tokenize(word)\n",
    "        half_len = len(word) / 2\n",
    "        best_tokenization = None\n",
    "\n",
    "        score = lambda tok: abs(len(tok) - half_len)\n",
    "        \n",
    "        for tokenization in res:\n",
    "            if word in tokenization:\n",
    "                continue\n",
    "            if not best_tokenization or score(tokenization) < score(best_tokenization):\n",
    "                best_tokenization = tokenization\n",
    "        return best_tokenization"
   ]
  },
  {
   "cell_type": "code",
   "execution_count": 296,
   "id": "2e61ef19-af40-4842-b9bc-45e7998c68a9",
   "metadata": {},
   "outputs": [],
   "source": [
    "tokenizer = BigramWordnetTokenizer()"
   ]
  },
  {
   "cell_type": "code",
   "execution_count": 297,
   "id": "4db20655-a682-455a-b0a1-a1137a4dce71",
   "metadata": {},
   "outputs": [
    {
     "data": {
      "text/plain": [
       "('pine', 'apple')"
      ]
     },
     "execution_count": 297,
     "metadata": {},
     "output_type": "execute_result"
    }
   ],
   "source": [
    "tokenizer.tokenize_best_result('pineapple')"
   ]
  },
  {
   "cell_type": "code",
   "execution_count": 300,
   "id": "a43c6c2f-15bc-4bb8-9538-842c44a382c1",
   "metadata": {},
   "outputs": [
    {
     "data": {
      "text/plain": [
       "('bat', 'man')"
      ]
     },
     "execution_count": 300,
     "metadata": {},
     "output_type": "execute_result"
    }
   ],
   "source": [
    "tokenizer.tokenize_best_result('batman')"
   ]
  },
  {
   "cell_type": "code",
   "execution_count": 299,
   "id": "c99fcb2c-a46a-4e3e-a883-543f0e62d405",
   "metadata": {},
   "outputs": [
    {
     "data": {
      "text/plain": [
       "('egg', 'plant')"
      ]
     },
     "execution_count": 299,
     "metadata": {},
     "output_type": "execute_result"
    }
   ],
   "source": [
    "tokenizer.tokenize_best_result('eggplant')"
   ]
  },
  {
   "cell_type": "code",
   "execution_count": 298,
   "id": "5dd99495-5384-40d6-8ac0-834d62c3ad0c",
   "metadata": {},
   "outputs": [
    {
     "data": {
      "text/plain": [
       "('sub', 'mariner')"
      ]
     },
     "execution_count": 298,
     "metadata": {},
     "output_type": "execute_result"
    }
   ],
   "source": [
    "tokenizer.tokenize_best_result('submariner')"
   ]
  },
  {
   "cell_type": "code",
   "execution_count": 301,
   "id": "36bdd543-9a17-4a4a-96ab-d4e12a648f42",
   "metadata": {},
   "outputs": [
    {
     "data": {
      "text/plain": [
       "('boom', 'slang')"
      ]
     },
     "execution_count": 301,
     "metadata": {},
     "output_type": "execute_result"
    }
   ],
   "source": [
    "tokenizer.tokenize_best_result('boomslang')"
   ]
  },
  {
   "cell_type": "code",
   "execution_count": 302,
   "id": "3c4f7b2b-0be8-4097-a993-c1821f09ca00",
   "metadata": {},
   "outputs": [
    {
     "data": {
      "text/plain": [
       "('dare', 'devil')"
      ]
     },
     "execution_count": 302,
     "metadata": {},
     "output_type": "execute_result"
    }
   ],
   "source": [
    "tokenizer.tokenize_best_result('daredevil')"
   ]
  },
  {
   "cell_type": "code",
   "execution_count": 305,
   "id": "c3b0178d-c146-4e60-b060-9280e7aad16f",
   "metadata": {},
   "outputs": [],
   "source": [
    "tokenizer.tokenize_best_result('juggernaut')"
   ]
  },
  {
   "cell_type": "code",
   "execution_count": null,
   "id": "3f0be261-6a6a-4ecc-9a3f-e0206d68dda5",
   "metadata": {},
   "outputs": [],
   "source": [
    "# todo: use our bigrams?"
   ]
  }
 ],
 "metadata": {
  "kernelspec": {
   "display_name": "Python 3 (ipykernel)",
   "language": "python",
   "name": "python3"
  },
  "language_info": {
   "codemirror_mode": {
    "name": "ipython",
    "version": 3
   },
   "file_extension": ".py",
   "mimetype": "text/x-python",
   "name": "python",
   "nbconvert_exporter": "python",
   "pygments_lexer": "ipython3",
   "version": "3.10.11"
  }
 },
 "nbformat": 4,
 "nbformat_minor": 5
}
