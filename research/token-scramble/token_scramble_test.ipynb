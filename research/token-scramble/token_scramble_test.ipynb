{
 "cells": [
  {
   "cell_type": "code",
   "execution_count": 11,
   "id": "aa2da9cf-db27-4d94-8602-75b54f83e9d2",
   "metadata": {},
   "outputs": [],
   "source": [
    "import elasticsearch\n",
    "from elasticsearch import Elasticsearch\n",
    "\n",
    "import os\n",
    "from dotenv import load_dotenv\n",
    "from pprint import pprint"
   ]
  },
  {
   "cell_type": "markdown",
   "id": "599eb2d3-7c29-4b65-95fe-0bfef6e9dda6",
   "metadata": {},
   "source": [
    "# Elasticsearch"
   ]
  },
  {
   "cell_type": "code",
   "execution_count": 12,
   "id": "40d8ab43-5aaa-4ff6-bcd9-991bafc46373",
   "metadata": {},
   "outputs": [
    {
     "data": {
      "text/plain": [
       "True"
      ]
     },
     "execution_count": 12,
     "metadata": {},
     "output_type": "execute_result"
    }
   ],
   "source": [
    "load_dotenv()"
   ]
  },
  {
   "cell_type": "code",
   "execution_count": 13,
   "id": "ee175054-d5b7-453c-bfc2-d280e0313012",
   "metadata": {},
   "outputs": [],
   "source": [
    "def connect_to_elasticsearch(\n",
    "        scheme: str,\n",
    "        host: str,\n",
    "        port: int,\n",
    "        username: str,\n",
    "        password: str,\n",
    ") -> Elasticsearch:\n",
    "    return Elasticsearch(\n",
    "        hosts=[{\n",
    "            'scheme': scheme,\n",
    "            'host': host,\n",
    "            'port': port\n",
    "        }],\n",
    "        basic_auth=(username, password),\n",
    "        http_compress=True,\n",
    "        request_timeout=10,\n",
    "    )\n",
    "\n",
    "\n",
    "def index_exists(elastic: Elasticsearch, index_name: str) -> bool:\n",
    "    return elastic.indices.exists(index=index_name)\n",
    "\n",
    "\n",
    "def show_mapping(index: str):\n",
    "    mapping = elastic.indices.get_mapping(index=index)\n",
    "    fields = mapping[os.getenv('ES_INDEX')]['mappings']['properties']\n",
    "    \n",
    "    for field in fields:\n",
    "        pprint(field)\n",
    "        pprint(fields[field])"
   ]
  },
  {
   "cell_type": "code",
   "execution_count": 14,
   "id": "34c7b28d-c160-43a6-91e5-ab6e12399949",
   "metadata": {},
   "outputs": [],
   "source": [
    "index_name = os.getenv('ES_INDEX')\n",
    "\n",
    "elastic = connect_to_elasticsearch(\n",
    "    os.getenv('ES_SCHEME'),\n",
    "    os.getenv('ES_HOST'),\n",
    "    int(os.getenv('ES_PORT')),\n",
    "    os.getenv('ES_USERNAME'),\n",
    "    os.getenv('ES_PASSWORD')\n",
    ")\n",
    "\n",
    "assert index_exists(elastic, index_name)"
   ]
  },
  {
   "cell_type": "code",
   "execution_count": 15,
   "id": "f302b367-7f18-4f8b-9c19-bb6ff3f8de96",
   "metadata": {},
   "outputs": [],
   "source": [
    "# show_mapping(index_name)"
   ]
  },
  {
   "cell_type": "code",
   "execution_count": 16,
   "id": "ac53754c-15c6-45f9-9e82-f11562eacd38",
   "metadata": {},
   "outputs": [],
   "source": [
    "def perform_query(query, limit_names=100) -> dict:\n",
    "\n",
    "    response = elastic.search(\n",
    "        index=index_name,\n",
    "        query=query,\n",
    "        source=True,\n",
    "        fields=['metadata.id', 'data.collection_name', 'metadata.members_count', \n",
    "                'template.collection_types'],\n",
    "        script_fields={\n",
    "            \"script_names\": {\n",
    "                \"script\": {\n",
    "                    \"source\": f\"params['_source'].data.names.stream()\"\n",
    "                             + f\".limit({limit_names})\"\n",
    "                             + \".collect(Collectors.toList())\"\n",
    "                }\n",
    "            }\n",
    "        }\n",
    "    )\n",
    "\n",
    "    first_hit = response['hits']['hits'][0]\n",
    "    \n",
    "    return first_hit"
   ]
  },
  {
   "cell_type": "code",
   "execution_count": 17,
   "id": "ac192375-da7e-404c-a918-a14cb8052b4a",
   "metadata": {},
   "outputs": [],
   "source": [
    "def get_collection_hit_by_id(id_: str):\n",
    "    return perform_query({'match': {'metadata.id.keyword': id_}})"
   ]
  },
  {
   "cell_type": "code",
   "execution_count": 18,
   "id": "386dbd81-d2a5-46af-b170-1f5c17465e41",
   "metadata": {},
   "outputs": [],
   "source": [
    "def get_collection_name_and_names_by_id(id_: str) -> tuple[str, list[str]]:\n",
    "    hit = perform_query({'match': {'metadata.id.keyword': id_}})\n",
    "    return (hit['fields']['data.collection_name'][0], \n",
    "            [r['normalized_name'] for r in hit['fields']['script_names']])"
   ]
  },
  {
   "cell_type": "code",
   "execution_count": 25,
   "id": "7a3cfdf3-a5cc-448f-b6b0-9be554b03849",
   "metadata": {},
   "outputs": [],
   "source": [
    "def get_collection_name_and_names_from_hit(hit: dict) -> tuple[str, list[str]]:\n",
    "    return (hit['fields']['data.collection_name'][0], \n",
    "            [r['normalized_name'] for r in hit['fields']['script_names']])"
   ]
  },
  {
   "cell_type": "code",
   "execution_count": 21,
   "id": "8aae6d00-09f6-47f2-806d-cecb33b19291",
   "metadata": {},
   "outputs": [],
   "source": [
    "def get_collection_types_from_hit(hit: dict) -> list[str]:\n",
    "    return hit['fields']['template.collection_types'][1::2]"
   ]
  },
  {
   "cell_type": "markdown",
   "id": "4e131873-f780-43dd-b34c-e290147f132b",
   "metadata": {},
   "source": [
    "# Experiments"
   ]
  },
  {
   "cell_type": "code",
   "execution_count": 27,
   "id": "f5ca8c67-8954-4782-9f60-6c06d3b15188",
   "metadata": {},
   "outputs": [],
   "source": [
    "import random\n",
    "\n",
    "random.seed(311) "
   ]
  },
  {
   "cell_type": "code",
   "execution_count": 28,
   "id": "7d714d5a-531c-457e-970d-6bc0bb38edf8",
   "metadata": {},
   "outputs": [],
   "source": [
    "def get_normalized_tokenized_tuples(hit: dict) -> list[tuple[str, list[str]]]:\n",
    "    return [(r['normalized_name'], r['tokenized_name']) for r in hit['fields']['script_names']]"
   ]
  },
  {
   "cell_type": "code",
   "execution_count": 29,
   "id": "5fd9e05b-8d50-4a72-9aa1-7c00d3269fdd",
   "metadata": {},
   "outputs": [],
   "source": [
    "def show_comparison(before_names: list[str], after_names: list[str]):\n",
    "    for b, a in zip(before_names, after_names):\n",
    "        print(f'{b: <20} --->\\t{a}')"
   ]
  },
  {
   "cell_type": "code",
   "execution_count": 30,
   "id": "041e2bd4-83f8-4955-9291-8873da897e91",
   "metadata": {
    "scrolled": true
   },
   "outputs": [],
   "source": [
    "def show_collection_names(hit: dict, n : int | None = None):\n",
    "    hit_f = hit['fields']\n",
    "    \n",
    "    print(f\"=== collection: {hit_f['data.collection_name'][0]} ({hit_f['metadata.id'][0]}) ===\")\n",
    "    print(f\"members count: {hit_f['metadata.members_count'][0]}\")\n",
    "    print(f\"collection types: {hit_f['template.collection_types'][1::2]}\")\n",
    "    \n",
    "    print('\\n' + '====='*12 + '\\n')\n",
    "    \n",
    "    for n_name, t_name in list(map(lambda r: (r['normalized_name'], r['tokenized_name']), hit_f['script_names']))[:n]:\n",
    "        print(f'{n_name: <30} {t_name}\\n')"
   ]
  },
  {
   "cell_type": "code",
   "execution_count": 31,
   "id": "2d1aefb5-6de6-42b4-aa8e-d4e39b23e80e",
   "metadata": {
    "scrolled": true
   },
   "outputs": [
    {
     "name": "stdout",
     "output_type": "stream",
     "text": [
      "=== collection: Fruit vegetables (Q8475074) ===\n",
      "members count: 44.0\n",
      "collection types: ['taxon']\n",
      "\n",
      "============================================================\n",
      "\n",
      "maize                          ['maize']\n",
      "\n",
      "tomato                         ['tomato']\n",
      "\n",
      "eggplant                       ['eggplant']\n",
      "\n",
      "cucumber                       ['cucumber']\n",
      "\n",
      "pea                            ['pea']\n",
      "\n",
      "chayote                        ['chayote']\n",
      "\n",
      "jalapeno                       ['jalapeno']\n",
      "\n",
      "capsicum                       ['capsicum']\n",
      "\n",
      "breadfruit                     ['breadfruit']\n",
      "\n",
      "calabash                       ['calabash']\n",
      "\n",
      "tomatillo                      ['tomatillo']\n",
      "\n",
      "luffa                          ['luffa']\n",
      "\n",
      "waxgourd                       ['wax', 'gourd']\n",
      "\n",
      "tinda                          ['tinda']\n",
      "\n",
      "chiqua                         ['chi', 'qua']\n",
      "\n"
     ]
    }
   ],
   "source": [
    "c_vegefruits = get_collection_hit_by_id('Q8475074')\n",
    "show_collection_names(c_vegefruits, n=15)"
   ]
  },
  {
   "cell_type": "code",
   "execution_count": 32,
   "id": "10830e66-9191-45ce-a112-7e1b95716366",
   "metadata": {},
   "outputs": [
    {
     "name": "stdout",
     "output_type": "stream",
     "text": [
      "=== collection: Potato dishes (Q3244225) ===\n",
      "members count: 114.0\n",
      "collection types: ['potato dish']\n",
      "\n",
      "============================================================\n",
      "\n",
      "curlyfries                     ['curly', 'fries']\n",
      "\n",
      "poutine                        ['poutine']\n",
      "\n",
      "potatochip                     ['potato', 'chip']\n",
      "\n",
      "cottagepie                     ['cottage', 'pie']\n",
      "\n",
      "frenchfries                    ['french', 'fries']\n",
      "\n",
      "hashbrowns                     ['hash', 'browns']\n",
      "\n",
      "rosti                          ['rosti']\n",
      "\n",
      "kapsalon                       ['kapsalon']\n",
      "\n",
      "aligot                         ['aligot']\n",
      "\n",
      "knish                          ['knish']\n",
      "\n",
      "latka                          ['latka']\n",
      "\n",
      "latke                          ['latke']\n",
      "\n",
      "tatertots                      ['tater', 'tots']\n",
      "\n",
      "kugel                          ['kugel']\n",
      "\n",
      "cepelinai                      ['cepelinai']\n",
      "\n"
     ]
    }
   ],
   "source": [
    "c_pdishes = get_collection_hit_by_id('Q3244225')\n",
    "show_collection_names(c_pdishes, n=15)"
   ]
  },
  {
   "cell_type": "code",
   "execution_count": 33,
   "id": "07a652f1-3a5c-45a3-807a-aca07e215395",
   "metadata": {
    "scrolled": true
   },
   "outputs": [
    {
     "name": "stdout",
     "output_type": "stream",
     "text": [
      "=== collection: Middle-earth characters (Q1204735) ===\n",
      "members count: 79.0\n",
      "collection types: [\"character from Tolkien's legendarium\"]\n",
      "\n",
      "============================================================\n",
      "\n",
      "sauron                         ['sauron']\n",
      "\n",
      "galadriel                      ['galadriel']\n",
      "\n",
      "isildur                        ['isildur']\n",
      "\n",
      "gandalf                        ['gandalf']\n",
      "\n",
      "morgoth                        ['morgoth']\n",
      "\n",
      "aragorn                        ['aragorn']\n",
      "\n",
      "elrond                         ['elrond']\n",
      "\n",
      "gollum                         ['gollum']\n",
      "\n",
      "smeagol                        ['smeagol']\n",
      "\n",
      "elendil                        ['elendil']\n",
      "\n",
      "arwen                          ['arwen']\n",
      "\n",
      "gilgalad                       ['gilgalad']\n",
      "\n",
      "maia                           ['maia']\n",
      "\n",
      "hobbit                         ['hobbit']\n",
      "\n",
      "balrog                         ['balrog']\n",
      "\n"
     ]
    }
   ],
   "source": [
    "c_lotr = get_collection_hit_by_id('Q1204735')\n",
    "show_collection_names(c_lotr, n=15)"
   ]
  },
  {
   "cell_type": "code",
   "execution_count": 34,
   "id": "cc99ea20-f265-40a7-84bc-f679f729db59",
   "metadata": {
    "scrolled": true
   },
   "outputs": [
    {
     "name": "stdout",
     "output_type": "stream",
     "text": [
      "=== collection: Venomous snakes (Q7485198) ===\n",
      "members count: 35.0\n",
      "collection types: ['taxon']\n",
      "\n",
      "============================================================\n",
      "\n",
      "boomslang                      ['boomslang']\n",
      "\n",
      "elapidae                       ['elapidae']\n",
      "\n",
      "tigersnake                     ['tiger', 'snake']\n",
      "\n",
      "gaboonviper                    ['gaboon', 'viper']\n",
      "\n",
      "hydrophiinae                   ['hydrophiinae']\n",
      "\n",
      "dugite                         ['dugite']\n",
      "\n",
      "twigsnake                      ['twig', 'snake']\n",
      "\n",
      "acanthophis                    ['acanthophis']\n",
      "\n",
      "forestcobra                    ['forest', 'cobra']\n",
      "\n",
      "lachesismuta                   ['lachesis', 'muta']\n",
      "\n",
      "azemiops                       ['azemiops']\n",
      "\n",
      "browntreesnake                 ['brown', 'tree', 'snake']\n",
      "\n",
      "jamesonsmamba                  ['jamesons', 'mamba']\n",
      "\n",
      "manybandedkrait                ['manybanded', 'krait']\n",
      "\n",
      "easterncopperhead              ['eastern', 'copperhead']\n",
      "\n"
     ]
    }
   ],
   "source": [
    "c_snakes = get_collection_hit_by_id('Q7485198')\n",
    "show_collection_names(c_snakes, n=15)"
   ]
  },
  {
   "cell_type": "code",
   "execution_count": 35,
   "id": "06b3ed53-927e-4e1b-a2aa-93a3cca167d3",
   "metadata": {},
   "outputs": [
    {
     "name": "stdout",
     "output_type": "stream",
     "text": [
      "=== collection: Marvel Comics characters (Q371776) ===\n",
      "members count: 1935.0\n",
      "collection types: ['fictional character']\n",
      "\n",
      "============================================================\n",
      "\n",
      "moonknight                     ['moon', 'knight']\n",
      "\n",
      "spiderman                      ['spiderman']\n",
      "\n",
      "satan                          ['satan']\n",
      "\n",
      "archangel                      ['archangel']\n",
      "\n",
      "namor                          ['namor']\n",
      "\n",
      "submariner                     ['submariner']\n",
      "\n",
      "ironman                        ['iron', 'man']\n",
      "\n",
      "tonystark                      ['tony', 'stark']\n",
      "\n",
      "ironmaniac                     ['iron', 'maniac']\n",
      "\n",
      "oshtur                         ['oshtur']\n",
      "\n",
      "adamandeve                     ['adam', 'and', 'eve']\n",
      "\n",
      "thanos                         ['thanos']\n",
      "\n",
      "shehulk                        ['shehulk']\n",
      "\n",
      "hulk                           ['hulk']\n",
      "\n",
      "blackbolt                      ['black', 'bolt']\n",
      "\n",
      "utopia                         ['utopia']\n",
      "\n",
      "deadpool                       ['deadpool']\n",
      "\n",
      "demon                          ['demon']\n",
      "\n",
      "kamalakhan                     ['kamala', 'khan']\n",
      "\n",
      "msmarvel                       ['ms', 'marvel']\n",
      "\n",
      "clea                           ['clea']\n",
      "\n",
      "wolverine                      ['wolverine']\n",
      "\n",
      "avengers                       ['avengers']\n",
      "\n",
      "azzuri                         ['azzuri']\n",
      "\n",
      "redeemers                      ['redeemers']\n",
      "\n"
     ]
    }
   ],
   "source": [
    "c_marvel = get_collection_hit_by_id('Q371776')\n",
    "show_collection_names(c_marvel, n=25)"
   ]
  },
  {
   "cell_type": "markdown",
   "id": "47c53b8c-cac8-43f7-ad09-f20c9b0aa4af",
   "metadata": {},
   "source": [
    "## Original tokenization scrambling"
   ]
  },
  {
   "cell_type": "code",
   "execution_count": 36,
   "id": "edcd97e6-034b-4dca-8a16-e52a6846338e",
   "metadata": {},
   "outputs": [],
   "source": [
    "from copy import copy"
   ]
  },
  {
   "cell_type": "code",
   "execution_count": 37,
   "id": "98a1ff78-d2d4-4bec-aaf4-226e042bf7a1",
   "metadata": {},
   "outputs": [],
   "source": [
    "def name_tuples_to_bigrams(name_tuples: list[tuple[str, tuple]]) -> list[tuple[str, str]]:\n",
    "    left_names = []\n",
    "    right_names = []\n",
    "    for _, tokenized_name in name_tuples:\n",
    "        if len(tokenized_name) == 1:\n",
    "            pass  # todo: here we could use BigramTokenizer\n",
    "        elif len(tokenized_name) == 2:\n",
    "            left_names.append(tokenized_name[0])\n",
    "            right_names.append(tokenized_name[1])\n",
    "        elif len(tokenized_name) > 2:\n",
    "            left_names.append(tokenized_name[0])\n",
    "            right_names.append(''.join(tokenized_name[1:]))\n",
    "    return left_names, right_names"
   ]
  },
  {
   "cell_type": "code",
   "execution_count": 38,
   "id": "d2a71719-5bed-4d52-90c5-80bbd0842e73",
   "metadata": {},
   "outputs": [],
   "source": [
    "def fs_to_zipped(firsts: list[str], seconds: list[str]) -> list[str]:\n",
    "    return copy(list(map(lambda t: '-'.join(t), zip(firsts, seconds))))"
   ]
  },
  {
   "cell_type": "markdown",
   "id": "8c30da28-79f4-458a-876a-7bfdd6073da7",
   "metadata": {},
   "source": [
    "### Top 10 bigrams swap"
   ]
  },
  {
   "cell_type": "code",
   "execution_count": 39,
   "id": "0a2ed4ad-a78e-43a1-815b-f6bc594debec",
   "metadata": {},
   "outputs": [],
   "source": [
    "def top10_bigram_swap(c_hit: dict, topn=10):\n",
    "    name_tuples = get_normalized_tokenized_tuples(c_hit)\n",
    "    tokenized_names = [t[1] for t in name_tuples if len(t[1]) == 2][:topn]\n",
    "    firsts, seconds = map(list, list(zip(*tokenized_names)))\n",
    "    before = fs_to_zipped(firsts, seconds)\n",
    "    random.shuffle(seconds)\n",
    "    after = fs_to_zipped(firsts, seconds)\n",
    "    show_comparison(before, after)"
   ]
  },
  {
   "cell_type": "code",
   "execution_count": 40,
   "id": "ba8fe862-251d-4c8f-a7cd-5c59b749dd02",
   "metadata": {},
   "outputs": [
    {
     "name": "stdout",
     "output_type": "stream",
     "text": [
      "wax-gourd            --->\twax-anguria\n",
      "chi-qua              --->\tchi-gourd\n",
      "fresno-chile         --->\tfresno-aegyptiaca\n",
      "blighia-sapida       --->\tblighia-chile\n",
      "asparagus-bean       --->\tasparagus-grandis\n",
      "luffa-aegyptiaca     --->\tluffa-peruviana\n",
      "physalis-peruviana   --->\tphysalis-sapida\n",
      "coccinia-grandis     --->\tcoccinia-qua\n",
      "cucumis-anguria      --->\tcucumis-acutangula\n",
      "luffa-acutangula     --->\tluffa-bean\n"
     ]
    }
   ],
   "source": [
    "# fruits\n",
    "top10_bigram_swap(c_vegefruits)"
   ]
  },
  {
   "cell_type": "code",
   "execution_count": 41,
   "id": "f68b4c15-1a7f-4ee4-9cfe-825e1c5d6fff",
   "metadata": {},
   "outputs": [
    {
     "name": "stdout",
     "output_type": "stream",
     "text": [
      "curly-fries          --->\tcurly-chip\n",
      "potato-chip          --->\tpotato-fries\n",
      "cottage-pie          --->\tcottage-browns\n",
      "french-fries         --->\tfrench-fries\n",
      "hash-browns          --->\thash-potato\n",
      "tater-tots           --->\ttater-pie\n",
      "chip-butty           --->\tchip-tots\n",
      "home-fries           --->\thome-fries\n",
      "potato-salad         --->\tpotato-butty\n",
      "baked-potato         --->\tbaked-salad\n"
     ]
    }
   ],
   "source": [
    "# dishes\n",
    "top10_bigram_swap(c_pdishes)"
   ]
  },
  {
   "cell_type": "code",
   "execution_count": 42,
   "id": "df25d571-bb4c-4f2a-b1a8-221e91d51dd9",
   "metadata": {},
   "outputs": [
    {
     "name": "stdout",
     "output_type": "stream",
     "text": [
      "tom-bombadil         --->\ttom-gamgee\n",
      "denethor-ii          --->\tdenethor-baggins\n",
      "frodo-baggins        --->\tfrodo-baggins\n",
      "bilbo-baggins        --->\tbilbo-ii\n",
      "peregrin-took        --->\tperegrin-felagund\n",
      "samwise-gamgee       --->\tsamwise-bombadil\n",
      "turin-turambar       --->\tturin-turambar\n",
      "finrod-felagund      --->\tfinrod-wormtongue\n",
      "grima-wormtongue     --->\tgrima-took\n",
      "thorin-oakenshield   --->\tthorin-oakenshield\n"
     ]
    }
   ],
   "source": [
    "# lotr\n",
    "top10_bigram_swap(c_lotr)"
   ]
  },
  {
   "cell_type": "code",
   "execution_count": 43,
   "id": "3780cdb6-474e-4977-b0e1-2a7cdedd41cb",
   "metadata": {},
   "outputs": [
    {
     "name": "stdout",
     "output_type": "stream",
     "text": [
      "tiger-snake          --->\ttiger-viper\n",
      "gaboon-viper         --->\tgaboon-krait\n",
      "twig-snake           --->\ttwig-insularis\n",
      "forest-cobra         --->\tforest-tigrinus\n",
      "lachesis-muta        --->\tlachesis-snake\n",
      "jamesons-mamba       --->\tjamesons-snake\n",
      "manybanded-krait     --->\tmanybanded-cobra\n",
      "eastern-copperhead   --->\teastern-copperhead\n",
      "bothrops-insularis   --->\tbothrops-muta\n",
      "rhabdophis-tigrinus  --->\trhabdophis-mamba\n"
     ]
    }
   ],
   "source": [
    "# snakes\n",
    "top10_bigram_swap(c_snakes)"
   ]
  },
  {
   "cell_type": "code",
   "execution_count": 44,
   "id": "6b329fd4-34b0-44d7-9b5f-6ec798a6effc",
   "metadata": {},
   "outputs": [
    {
     "name": "stdout",
     "output_type": "stream",
     "text": [
      "moon-knight          --->\tmoon-stark\n",
      "iron-man             --->\tiron-bolt\n",
      "tony-stark           --->\ttony-khan\n",
      "iron-maniac          --->\tiron-maniac\n",
      "black-bolt           --->\tblack-knight\n",
      "kamala-khan          --->\tkamala-marvel\n",
      "ms-marvel            --->\tms-rider\n",
      "peter-parker         --->\tpeter-parker\n",
      "doctor-doom          --->\tdoctor-man\n",
      "ghost-rider          --->\tghost-doom\n"
     ]
    }
   ],
   "source": [
    "# marvel\n",
    "top10_bigram_swap(c_marvel)"
   ]
  },
  {
   "cell_type": "markdown",
   "id": "1294b64d-e163-4037-a331-68f8bd4e840a",
   "metadata": {},
   "source": [
    "### Without skipping non-bigrams (n>2)"
   ]
  },
  {
   "cell_type": "code",
   "execution_count": 45,
   "id": "a7c8190e-fc35-467f-a259-5a97872b1a0d",
   "metadata": {},
   "outputs": [],
   "source": [
    "def top10_bigram_swap_no_skip(c_hit: dict, topn=10):\n",
    "    name_tuples = get_normalized_tokenized_tuples(c_hit)\n",
    "    firsts, seconds = name_tuples_to_bigrams(name_tuples)\n",
    "    firsts, seconds = firsts[:topn], seconds[:topn]\n",
    "    before = copy(list(map(lambda t: '-'.join(t), zip(firsts, seconds))))\n",
    "    random.shuffle(seconds)\n",
    "    after = list(map(lambda t: '-'.join(t), zip(firsts, seconds)))\n",
    "    show_comparison(before, after)"
   ]
  },
  {
   "cell_type": "code",
   "execution_count": 46,
   "id": "5b1cc680-829a-4a83-9e24-afbc3d94ff17",
   "metadata": {
    "scrolled": true
   },
   "outputs": [
    {
     "name": "stdout",
     "output_type": "stream",
     "text": [
      "wax-gourd            --->\twax-aegyptiaca\n",
      "chi-qua              --->\tchi-peruviana\n",
      "fresno-chile         --->\tfresno-chile\n",
      "blighia-sapida       --->\tblighia-anguria\n",
      "asparagus-bean       --->\tasparagus-mexicochile\n",
      "luffa-aegyptiaca     --->\tluffa-grandis\n",
      "new-mexicochile      --->\tnew-bean\n",
      "physalis-peruviana   --->\tphysalis-gourd\n",
      "coccinia-grandis     --->\tcoccinia-qua\n",
      "cucumis-anguria      --->\tcucumis-sapida\n"
     ]
    }
   ],
   "source": [
    "# fruits\n",
    "top10_bigram_swap_no_skip(c_vegefruits)"
   ]
  },
  {
   "cell_type": "code",
   "execution_count": 47,
   "id": "946bbba6-965a-4c2f-a84f-f711dccba773",
   "metadata": {},
   "outputs": [
    {
     "name": "stdout",
     "output_type": "stream",
     "text": [
      "curly-fries          --->\tcurly-fries\n",
      "potato-chip          --->\tpotato-fries\n",
      "cottage-pie          --->\tcottage-salad\n",
      "french-fries         --->\tfrench-pie\n",
      "hash-browns          --->\thash-fries\n",
      "tater-tots           --->\ttater-potato\n",
      "chip-butty           --->\tchip-butty\n",
      "home-fries           --->\thome-tots\n",
      "potato-salad         --->\tpotato-chip\n",
      "baked-potato         --->\tbaked-browns\n"
     ]
    }
   ],
   "source": [
    "# dishes\n",
    "top10_bigram_swap_no_skip(c_pdishes)"
   ]
  },
  {
   "cell_type": "code",
   "execution_count": 48,
   "id": "559784d6-a10b-4448-b417-59ae4e88bf36",
   "metadata": {},
   "outputs": [
    {
     "name": "stdout",
     "output_type": "stream",
     "text": [
      "tom-bombadil         --->\ttom-thebowman\n",
      "denethor-ii          --->\tdenethor-andidril\n",
      "frodo-baggins        --->\tfrodo-felagund\n",
      "bilbo-baggins        --->\tbilbo-turambar\n",
      "peregrin-took        --->\tperegrin-gamgee\n",
      "samwise-gamgee       --->\tsamwise-took\n",
      "tuor-andidril        --->\ttuor-bombadil\n",
      "turin-turambar       --->\tturin-ii\n",
      "bard-thebowman       --->\tbard-baggins\n",
      "finrod-felagund      --->\tfinrod-baggins\n"
     ]
    }
   ],
   "source": [
    "# lotr\n",
    "top10_bigram_swap_no_skip(c_lotr)"
   ]
  },
  {
   "cell_type": "code",
   "execution_count": 49,
   "id": "5e5d5222-7298-48f4-b20d-812d0713ad0b",
   "metadata": {
    "scrolled": true
   },
   "outputs": [
    {
     "name": "stdout",
     "output_type": "stream",
     "text": [
      "tiger-snake          --->\ttiger-cobra\n",
      "gaboon-viper         --->\tgaboon-snake\n",
      "twig-snake           --->\ttwig-snake\n",
      "forest-cobra         --->\tforest-insularis\n",
      "lachesis-muta        --->\tlachesis-copperhead\n",
      "brown-treesnake      --->\tbrown-krait\n",
      "jamesons-mamba       --->\tjamesons-mamba\n",
      "manybanded-krait     --->\tmanybanded-treesnake\n",
      "eastern-copperhead   --->\teastern-muta\n",
      "bothrops-insularis   --->\tbothrops-viper\n"
     ]
    }
   ],
   "source": [
    "# snakes\n",
    "top10_bigram_swap_no_skip(c_snakes)"
   ]
  },
  {
   "cell_type": "code",
   "execution_count": 50,
   "id": "5a5d3cc0-a2f1-4fd1-ac4c-5bd438c9d5e5",
   "metadata": {},
   "outputs": [
    {
     "name": "stdout",
     "output_type": "stream",
     "text": [
      "moon-knight          --->\tmoon-maniac\n",
      "iron-man             --->\tiron-parker\n",
      "tony-stark           --->\ttony-knight\n",
      "iron-maniac          --->\tiron-stark\n",
      "adam-andeve          --->\tadam-man\n",
      "black-bolt           --->\tblack-khan\n",
      "kamala-khan          --->\tkamala-marvel\n",
      "ms-marvel            --->\tms-andeve\n",
      "peter-parker         --->\tpeter-bolt\n",
      "doctor-doom          --->\tdoctor-doom\n"
     ]
    }
   ],
   "source": [
    "# marvel\n",
    "top10_bigram_swap_no_skip(c_marvel)"
   ]
  },
  {
   "cell_type": "markdown",
   "id": "fb875956-6c2b-4b3a-8486-3c967efe82ae",
   "metadata": {},
   "source": [
    "# Further tokenization scrambling"
   ]
  },
  {
   "cell_type": "code",
   "execution_count": 51,
   "id": "1ea57bbb-cbe8-4032-ae64-b92e52f9f9a8",
   "metadata": {},
   "outputs": [],
   "source": [
    "from nltk.corpus import wordnet as wn\n",
    "\n",
    "from itertools import chain\n",
    "\n",
    "\n",
    "class LongestBigramTokenizer:\n",
    "    \"\"\"Tokenize concatenation of two words from WordNet (minimize abs(len(b1) - len(b2)) for b1, b2 tokenization).\"\"\"\n",
    "\n",
    "    def __init__(self):\n",
    "        wn.synsets('dog')\n",
    "        self.min_word_len = 3\n",
    "\n",
    "    def get_tokenization(self, word: str) -> tuple[str, str] | None:\n",
    "        if len(word) <= 5:\n",
    "            return None\n",
    "        \n",
    "        for i in self.generate_indices(word):\n",
    "            prefix_synsets = wn.synsets(word[:i])\n",
    "            suffix_synsets = wn.synsets(word[i:])\n",
    "            if prefix_synsets and suffix_synsets:\n",
    "                return (word[:i], word[i:])\n",
    "        \n",
    "        if wn.synsets(word):\n",
    "            return (word, '')\n",
    "        return None\n",
    "\n",
    "    def generate_indices(self, iterable) -> list[int]:\n",
    "        mid = len(iterable) // 2\n",
    "        left_indices = list(reversed(range(mid)))\n",
    "        right_indices = list(range(mid + 1, len(iterable)))\n",
    "        limit = max(len(left_indices), len(right_indices)) - self.min_word_len\n",
    "        return list(chain([mid], *zip(right_indices[:limit], left_indices[:limit])))"
   ]
  },
  {
   "cell_type": "code",
   "execution_count": 52,
   "id": "2e61ef19-af40-4842-b9bc-45e7998c68a9",
   "metadata": {},
   "outputs": [],
   "source": [
    "tokenizer = LongestBigramTokenizer()"
   ]
  },
  {
   "cell_type": "code",
   "execution_count": 53,
   "id": "4db20655-a682-455a-b0a1-a1137a4dce71",
   "metadata": {},
   "outputs": [],
   "source": [
    "tokenizer.get_tokenization('')"
   ]
  },
  {
   "cell_type": "code",
   "execution_count": 54,
   "id": "a43c6c2f-15bc-4bb8-9538-842c44a382c1",
   "metadata": {},
   "outputs": [
    {
     "data": {
      "text/plain": [
       "('bat', 'man')"
      ]
     },
     "execution_count": 54,
     "metadata": {},
     "output_type": "execute_result"
    }
   ],
   "source": [
    "tokenizer.get_tokenization('batman')"
   ]
  },
  {
   "cell_type": "code",
   "execution_count": 55,
   "id": "c99fcb2c-a46a-4e3e-a883-543f0e62d405",
   "metadata": {},
   "outputs": [
    {
     "data": {
      "text/plain": [
       "('egg', 'plant')"
      ]
     },
     "execution_count": 55,
     "metadata": {},
     "output_type": "execute_result"
    }
   ],
   "source": [
    "tokenizer.get_tokenization('eggplant')"
   ]
  },
  {
   "cell_type": "code",
   "execution_count": 56,
   "id": "5dd99495-5384-40d6-8ac0-834d62c3ad0c",
   "metadata": {},
   "outputs": [
    {
     "data": {
      "text/plain": [
       "('sub', 'mariner')"
      ]
     },
     "execution_count": 56,
     "metadata": {},
     "output_type": "execute_result"
    }
   ],
   "source": [
    "tokenizer.get_tokenization('submariner')"
   ]
  },
  {
   "cell_type": "code",
   "execution_count": 57,
   "id": "36bdd543-9a17-4a4a-96ab-d4e12a648f42",
   "metadata": {},
   "outputs": [
    {
     "data": {
      "text/plain": [
       "('boom', 'slang')"
      ]
     },
     "execution_count": 57,
     "metadata": {},
     "output_type": "execute_result"
    }
   ],
   "source": [
    "tokenizer.get_tokenization('boomslang')"
   ]
  },
  {
   "cell_type": "code",
   "execution_count": 58,
   "id": "3c4f7b2b-0be8-4097-a993-c1821f09ca00",
   "metadata": {},
   "outputs": [
    {
     "data": {
      "text/plain": [
       "('dare', 'devil')"
      ]
     },
     "execution_count": 58,
     "metadata": {},
     "output_type": "execute_result"
    }
   ],
   "source": [
    "tokenizer.get_tokenization('daredevil')"
   ]
  },
  {
   "cell_type": "code",
   "execution_count": 59,
   "id": "c3b0178d-c146-4e60-b060-9280e7aad16f",
   "metadata": {
    "scrolled": true
   },
   "outputs": [
    {
     "data": {
      "text/plain": [
       "('juggernaut', '')"
      ]
     },
     "execution_count": 59,
     "metadata": {},
     "output_type": "execute_result"
    }
   ],
   "source": [
    "tokenizer.get_tokenization('juggernaut')"
   ]
  },
  {
   "cell_type": "code",
   "execution_count": 60,
   "id": "a6bbd23d-f2b5-47eb-b9d4-08655d9f9494",
   "metadata": {
    "scrolled": true
   },
   "outputs": [
    {
     "data": {
      "text/plain": [
       "('jaguar', '')"
      ]
     },
     "execution_count": 60,
     "metadata": {},
     "output_type": "execute_result"
    }
   ],
   "source": [
    "tokenizer.get_tokenization('jaguar')"
   ]
  },
  {
   "cell_type": "code",
   "execution_count": 61,
   "id": "6f5bc640-8108-49a0-aea0-722464de3476",
   "metadata": {},
   "outputs": [],
   "source": [
    "tokenizer.get_tokenization('bleblebleble')"
   ]
  },
  {
   "cell_type": "code",
   "execution_count": 62,
   "id": "d05ecadb-c8d4-4fec-8518-c27a3383aef0",
   "metadata": {
    "scrolled": true
   },
   "outputs": [],
   "source": [
    "tokenizer.get_tokenization('anox')"
   ]
  },
  {
   "cell_type": "markdown",
   "id": "2ff68cb4-0975-46bd-aed8-6a8f58951a9a",
   "metadata": {},
   "source": [
    "# Methods comparison report"
   ]
  },
  {
   "cell_type": "code",
   "execution_count": 63,
   "id": "8c98a881-d54f-43d8-a5a7-fe65b93b10bd",
   "metadata": {},
   "outputs": [],
   "source": [
    "tokenizer = LongestBigramTokenizer()\n",
    "\n",
    "def name_tuples_to_bigrams(name_tuples: list[tuple[str, tuple]]) -> tuple[list[str], list[str], list[str]]:\n",
    "    left_names = []\n",
    "    right_names = []\n",
    "    unigrams = []\n",
    "    for name, tokenized_name in name_tuples:\n",
    "        if len(tokenized_name) == 1:\n",
    "            further_tokenized_name = tokenizer.get_tokenization(name)\n",
    "            if further_tokenized_name is None or further_tokenized_name == (name, ''):\n",
    "                unigrams.append(name)\n",
    "            else:\n",
    "                left_names.append(further_tokenized_name[0])\n",
    "                right_names.append(further_tokenized_name[1])\n",
    "        elif len(tokenized_name) == 2:\n",
    "            left_names.append(tokenized_name[0])\n",
    "            right_names.append(tokenized_name[1])\n",
    "        elif len(tokenized_name) > 2:\n",
    "            left_names.append(tokenized_name[0])\n",
    "            right_names.append(''.join(tokenized_name[1:]))  # todo: is this approach ok?\n",
    "    return left_names, right_names, unigrams"
   ]
  },
  {
   "cell_type": "code",
   "execution_count": 64,
   "id": "99ccbd10-b2ef-4b90-91b7-af55a3b96007",
   "metadata": {},
   "outputs": [],
   "source": [
    "from typing import Literal\n",
    "from copy import copy\n",
    "\n",
    "\n",
    "def run_token_scramble(\n",
    "    collection_id: str,\n",
    "    top_n: int,  \n",
    "    mixing: Literal['left-right-skip', 'left-right-with-unigrams', 'full-shuffle']\n",
    "):\n",
    "    name_tuples = get_normalized_tokenized_tuples(get_collection_hit_by_id(collection_id))\n",
    "    left_unigrams, right_unigrams, just_unigrams = name_tuples_to_bigrams(name_tuples)\n",
    "    left_unigrams, right_unigrams, just_unigrams = left_unigrams[:top_n], right_unigrams[:top_n], just_unigrams[:top_n]\n",
    "    original_bigrams = copy([l + r for l, r in zip(left_unigrams, right_unigrams)])\n",
    "\n",
    "    def shuffle_right():\n",
    "        nonlocal left_unigrams, right_unigrams, original_bigrams\n",
    "        shuffle_count = 0\n",
    "        while any([left_unigrams[i] + right_unigrams[i] == ob for i, ob in enumerate(original_bigrams)]) \\\n",
    "               and shuffle_count < 10:\n",
    "            random.shuffle(right_unigrams)\n",
    "            shuffle_count += 1\n",
    "    \n",
    "    if mixing == 'left-right-skip':\n",
    "        shuffle_right()\n",
    "        return list(zip(left_unigrams, right_unigrams))\n",
    "    elif mixing == 'left-right-with-unigrams':\n",
    "        shuffle_right()\n",
    "        # insert random unigrams\n",
    "        unigram_prob = 0.2\n",
    "        for i in range(len(left_unigrams)):\n",
    "            if not just_unigrams:\n",
    "                break\n",
    "            if random.random() < unigram_prob:\n",
    "                if random.random() < 0.5:\n",
    "                    left_unigrams[i] = just_unigrams.pop(0)\n",
    "                else:\n",
    "                    right_unigrams[i] = just_unigrams.pop(0)\n",
    "        return list(zip(left_unigrams, right_unigrams))\n",
    "    elif mixing == 'full-shuffle':\n",
    "        all_unigrams = left_unigrams + right_unigrams + just_unigrams\n",
    "        random.shuffle(all_unigrams)\n",
    "        all_unigrams = all_unigrams[:2*top_n]\n",
    "        return list(zip(all_unigrams[::2], all_unigrams[1::2]))\n",
    "    else:\n",
    "        raise ValueError('Invalid `mixing` value.')"
   ]
  },
  {
   "cell_type": "code",
   "execution_count": 65,
   "id": "1e0ee91f-90a2-40ca-a0c1-3b7e9793c084",
   "metadata": {
    "scrolled": true
   },
   "outputs": [
    {
     "data": {
      "text/plain": [
       "[('moon', 'maniac'),\n",
       " ('arch', 'mariner'),\n",
       " ('sub', 'man'),\n",
       " ('iron', 'khan'),\n",
       " ('tony', 'angel'),\n",
       " ('iron', 'andeve'),\n",
       " ('adam', 'bolt'),\n",
       " ('black', 'stark'),\n",
       " ('dead', 'knight'),\n",
       " ('kamala', 'pool')]"
      ]
     },
     "execution_count": 65,
     "metadata": {},
     "output_type": "execute_result"
    }
   ],
   "source": [
    "run_token_scramble('Q371776', top_n=10, mixing='left-right-skip')"
   ]
  },
  {
   "cell_type": "code",
   "execution_count": 66,
   "id": "5aac7826-4984-4ae3-b240-e1cb7e5e8419",
   "metadata": {
    "scrolled": true
   },
   "outputs": [
    {
     "data": {
      "text/plain": [
       "[('moon', 'pool'),\n",
       " ('arch', 'andeve'),\n",
       " ('sub', 'angel'),\n",
       " ('iron', 'bolt'),\n",
       " ('tony', 'knight'),\n",
       " ('spiderman', 'khan'),\n",
       " ('adam', 'maniac'),\n",
       " ('black', 'stark'),\n",
       " ('dead', 'mariner'),\n",
       " ('kamala', 'man')]"
      ]
     },
     "execution_count": 66,
     "metadata": {},
     "output_type": "execute_result"
    }
   ],
   "source": [
    "run_token_scramble('Q371776', top_n=10, mixing='left-right-with-unigrams')"
   ]
  },
  {
   "cell_type": "code",
   "execution_count": 67,
   "id": "cea4803c-8fc3-4df9-8fc9-351432b2f3b6",
   "metadata": {},
   "outputs": [
    {
     "data": {
      "text/plain": [
       "[('mariner', 'iron'),\n",
       " ('iron', 'spiderman'),\n",
       " ('satan', 'moon'),\n",
       " ('stark', 'namor'),\n",
       " ('arch', 'tony'),\n",
       " ('angel', 'andeve'),\n",
       " ('dead', 'thanos'),\n",
       " ('adam', 'pool'),\n",
       " ('man', 'maniac'),\n",
       " ('hulk', 'utopia')]"
      ]
     },
     "execution_count": 67,
     "metadata": {},
     "output_type": "execute_result"
    }
   ],
   "source": [
    "run_token_scramble('Q371776', top_n=10, mixing='full-shuffle')"
   ]
  },
  {
   "cell_type": "code",
   "execution_count": 68,
   "id": "4a138b79-299a-4652-a0fa-5332e7d7f5ab",
   "metadata": {},
   "outputs": [],
   "source": [
    "import csv\n",
    "from collections import defaultdict\n",
    "\n",
    "\n",
    "def load_collection_ids() -> dict:\n",
    "    filnename = 'test_collections.csv'\n",
    "    res_dict = defaultdict(list)\n",
    "    with open(filnename) as f:\n",
    "        csv_reader = csv.reader(f, delimiter=',')\n",
    "        line_count = 0\n",
    "        for row in csv_reader:\n",
    "            if (id_ := row[6]) and (type_ := row[7]) and type_ != 'type':\n",
    "                type_tuple = tuple(set(type_.strip().split(\", \")))\n",
    "                res_dict[type_tuple].append(id_)\n",
    "    \n",
    "    for type_tuple in res_dict.keys():\n",
    "        res_dict[type_tuple] = list(set(res_dict[type_tuple]))\n",
    "    return res_dict"
   ]
  },
  {
   "cell_type": "code",
   "execution_count": 69,
   "id": "38336981-faa0-4f7c-bd80-d2a63096323b",
   "metadata": {},
   "outputs": [],
   "source": [
    "def run_comparison() -> str:\n",
    "    html = ['<meta charset=\"UTF-8\">']\n",
    "    \n",
    "    collection_type2ids_dict = load_collection_ids()\n",
    "    for type_tuple in sorted(collection_type2ids_dict.keys()):\n",
    "        print(f'processing collections of type: {type_tuple} with ids: {collection_type2ids_dict[type_tuple]}')\n",
    "        html.append(f'<h2>types: {\", \".join(type_tuple)}</h2>')\n",
    "        for c_id in collection_type2ids_dict[type_tuple]:\n",
    "            try:\n",
    "                c_name, c_names = get_collection_name_and_names_by_id(c_id)\n",
    "            except IndexError:\n",
    "                continue\n",
    "            html.append(f'<h3>{c_name} ({c_id})</h3>')\n",
    "            html.append(f'<br><b>top 25 names in collection:</b> {\" \".join(c_names[:25])}</br>')\n",
    "            \n",
    "            for topn in (10, 20):\n",
    "                html.append(f'<h4>top {topn} names token-scramble:</h4>')\n",
    "                html.append('<table>')\n",
    "                html.append('<thead>')\n",
    "                html.append('''<tr>\n",
    "                                <th style=\"width: 34%\">left-right-shuffle</th>\n",
    "                                <th style=\"width: 33%\">l-r-shuffle-with-unigrams</th>\n",
    "                                <th style=\"width: 33%\">full-shuffle</th>\n",
    "                            </tr>''')\n",
    "                html.append('</thead>')\n",
    "\n",
    "                bigrams_lr = run_token_scramble(c_id, top_n=topn, mixing='left-right-skip')\n",
    "                bigrams_lr_unigrams = run_token_scramble(c_id, top_n=topn, mixing='left-right-with-unigrams')\n",
    "                bigrams_full = run_token_scramble(c_id, top_n=topn, mixing='full-shuffle')\n",
    "                \n",
    "                html.append('<tbody>')\n",
    "\n",
    "                def bigrams_to_str(bgrms: list[tuple[str, str]]) -> str:\n",
    "                    return '  '.join(map(lambda t: f'{t[0]}-{t[1]}', bgrms))\n",
    "                \n",
    "                html.append((f'<tr><td>{bigrams_to_str(bigrams_lr)}</td><td>{bigrams_to_str(bigrams_lr_unigrams)}</td>'\n",
    "                             f'<td>{bigrams_to_str(bigrams_full)}</td></tr>'))\n",
    "                \n",
    "                html.append('</tbody>')\n",
    "                html.append('</table>')\n",
    "    \n",
    "    return '\\n'.join(html)"
   ]
  },
  {
   "cell_type": "code",
   "execution_count": 55,
   "id": "714855da-03fe-4355-911f-9480b4761241",
   "metadata": {
    "scrolled": true
   },
   "outputs": [
    {
     "name": "stdout",
     "output_type": "stream",
     "text": [
      "processing collections of type: ('Aztec deity',) with ids: ['Q3032304']\n",
      "processing collections of type: ('CubeSat',) with ids: ['Q2976857']\n",
      "processing collections of type: ('European cuisine',) with ids: ['Q17067317']\n",
      "processing collections of type: ('ISO standard',) with ids: ['Q749445']\n",
      "processing collections of type: ('Internet meme',) with ids: ['Q6023923']\n",
      "processing collections of type: ('Japanese era name',) with ids: ['Q1847640']\n",
      "processing collections of type: ('Latin phrase',) with ids: ['Q87248', 'Q1435931', 'Q1477505', 'Q3409821']\n",
      "processing collections of type: ('Mayan deity',) with ids: ['Q129244']\n",
      "processing collections of type: ('Mediterranean country',) with ids: ['Q4809248']\n",
      "processing collections of type: ('New Gods',) with ids: ['Q278238']\n",
      "processing collections of type: ('Notorious Markets',) with ids: ['Q105081725']\n",
      "processing collections of type: ('United States executive order', 'presidential directive') with ids: ['Q104922747']\n",
      "processing collections of type: ('VoIP software',) with ids: ['Q1311010']\n",
      "processing collections of type: ('aircraft',) with ids: ['Q6605088', 'Q715657', 'Q3242927', 'Q60519306', 'Q27664430', 'Q6605092']\n",
      "processing collections of type: ('aircraft carrier',) with ids: ['Q1646209']\n",
      "processing collections of type: ('aircraft engine',) with ids: ['Q930689']\n",
      "processing collections of type: ('airplane',) with ids: ['Q3074361']\n",
      "processing collections of type: ('airport',) with ids: ['Q680751', 'Q1319462', 'Q376428']\n",
      "processing collections of type: ('album',) with ids: ['Q4431809', 'Q7166218', 'Q20893928', 'Q20735643', 'Q6605531', 'Q6843306', 'Q48835646', 'Q6605529', 'Q8763088', 'Q9729708', 'Q28739144', 'Q8880931', 'Q6605532', 'Q7166259', 'Q7031902', 'Q65720575', 'Q7165495', 'Q55780256', 'Q7166211', 'Q1297466', 'Q8882867']\n",
      "processing collections of type: ('animated film',) with ids: ['Q65071834']\n",
      "processing collections of type: ('anime television series',) with ids: ['Q20426451']\n",
      "processing collections of type: ('apple cultivar',) with ids: ['Q63671498', 'Q493703']\n",
      "processing collections of type: ('association football club',) with ids: ['Q6439002', 'Q6436474', 'Q8369416', 'Q8463711', 'Q8463864', 'Q6645457', 'Q6436289']\n",
      "processing collections of type: ('association football club', 'sports club') with ids: ['Q6620730']\n",
      "processing collections of type: ('automobile model',) with ids: ['Q6278615', 'Q8430408', 'Q6278618', 'Q6937204', 'Q6278609', 'Q8447540', 'Q6929265', 'Q6278620', 'Q7037482', 'Q9057217', 'Q6278623', 'Q8727255', 'Q7037666', 'Q6425262', 'Q6278613', 'Q6278617', 'Q6278612']\n",
      "processing collections of type: ('automobile model', 'vehicle') with ids: ['Q97358341']\n",
      "processing collections of type: ('aviation accident',) with ids: ['Q3834411', 'Q354069']\n",
      "processing collections of type: ('award',) with ids: ['Q16155336', 'Q45026688', 'Q6604825', 'Q6606702', 'Q18348368']\n",
      "processing collections of type: ('award', 'nomination') with ids: ['Q3254226']\n",
      "processing collections of type: ('bank',) with ids: ['Q1446155', 'Q2605066', 'Q1093437', 'Q254121', 'Q6607217', 'Q6607173']\n",
      "processing collections of type: ('big cat',) with ids: ['Q48803653']\n",
      "processing collections of type: ('birds',) with ids: ['Q250759']\n",
      "processing collections of type: ('book',) with ids: ['Q6569300', 'Q6569282', 'Q2306460', 'Q23295857', 'Q6629074', 'Q2509951', 'Q6567146']\n",
      "processing collections of type: ('brand',) with ids: ['Q17101835']\n",
      "processing collections of type: ('building',) with ids: ['Q1431703', 'Q6629070', 'Q6642374']\n",
      "processing collections of type: ('building', 'work') with ids: ['Q6645634']\n",
      "processing collections of type: ('business',) with ids: ['Q6634956', 'Q3087586', 'Q1864658', 'Q1860757']\n",
      "processing collections of type: ('business', 'food manufacturer') with ids: ['Q3242941']\n",
      "processing collections of type: ('café chain',) with ids: ['Q767876']\n",
      "processing collections of type: ('camera',) with ids: ['Q6597372', 'Q10753559', 'Q21068176']\n",
      "processing collections of type: ('car brand',) with ids: ['Q233327']\n",
      "processing collections of type: ('cat breed',) with ids: ['Q16000183', 'Q42707']\n",
      "processing collections of type: ('circle of latitude',) with ids: ['Q18348508']\n",
      "processing collections of type: ('city',) with ids: ['Q2926780', 'Q1079848', 'Q3255238', 'Q1852719', 'Q6627203', 'Q12155440', 'Q209208', 'Q1124670', 'Q2809955', 'Q6609837']\n",
      "processing collections of type: ('city', 'bid for sporting event') with ids: ['Q6607538']\n",
      "processing collections of type: ('city of Switzerland',) with ids: ['Q191108']\n",
      "processing collections of type: ('city \\u200b\\u200bin Ukraine',) with ids: ['Q200209']\n",
      "processing collections of type: ('coffee drink',) with ids: ['Q749182']\n",
      "processing collections of type: ('comics character',) with ids: ['Q6240182', 'Q60064551']\n",
      "processing collections of type: ('commune of France',) with ids: ['Q651572']\n",
      "processing collections of type: ('company',) with ids: ['Q20715709', 'Q269548', 'Q6596115', 'Q19429007', 'Q16056393']\n",
      "processing collections of type: ('company', 'business') with ids: ['Q16056657', 'Q16192200']\n",
      "processing collections of type: ('concert tour',) with ids: ['Q8672728', 'Q925427']\n",
      "processing collections of type: ('conflagration',) with ids: ['Q2967170']\n",
      "processing collections of type: ('copper mine',) with ids: ['Q6613673']\n",
      "processing collections of type: ('country',) with ids: ['Q4349502', 'Q3019095', 'Q6158032', 'Q2977071', 'Q459589']\n",
      "processing collections of type: ('country', 'copyright term') with ids: ['Q3041655']\n",
      "processing collections of type: ('creative work',) with ids: ['Q60519080', 'Q3884078']\n",
      "processing collections of type: ('cult film', 'film') with ids: ['Q6614871']\n",
      "processing collections of type: ('cyberattack',) with ids: ['Q7806033']\n",
      "processing collections of type: ('deity',) with ids: ['Q9384249']\n",
      "processing collections of type: ('diamond mine',) with ids: ['Q87769621']\n",
      "processing collections of type: ('disaster',) with ids: ['Q6616809']\n",
      "processing collections of type: ('disease',) with ids: ['Q7215443', 'Q6616874', 'Q6616883', 'Q8382036', 'Q6616852', 'Q6573725']\n",
      "processing collections of type: ('dish',) with ids: ['Q19839599']\n",
      "processing collections of type: ('dog',) with ids: ['Q1057619']\n",
      "processing collections of type: ('dog breed', 'taxon') with ids: ['Q21078']\n",
      "processing collections of type: ('dog crossbreed',) with ids: ['Q38896']\n",
      "processing collections of type: ('drug',) with ids: ['Q17086901']\n",
      "processing collections of type: ('engine',) with ids: ['Q6605119']\n",
      "processing collections of type: ('event',) with ids: ['Q11711946']\n",
      "processing collections of type: ('explosion',) with ids: ['Q111758']\n",
      "processing collections of type: ('fictional character',) with ids: ['Q1046150', 'Q11297973', 'Q11819106', 'Q6640449', 'Q1660472', 'Q2408134', 'Q845423', 'Q6600473', 'Q3833900', 'Q6589348', 'Q6589343', 'Q6562628', 'Q3253077', 'Q1973354', 'Q6599718', 'Q6628689', 'Q3221173', 'Q6599477', 'Q113214105', 'Q2334111', 'Q2365866', 'Q6571987', 'Q4808829', 'Q3267831', 'Q614085', 'Q1615183', 'Q6604513', 'Q6569544', 'Q6572468', 'Q11819190', 'Q23763036', 'Q20657193', 'Q97358737', 'Q6572011', 'Q2711172', 'Q6568192', 'Q16000160', 'Q4432887', 'Q6571450', 'Q899273', 'Q115474828', 'Q6600248', 'Q6569036', 'Q2013424', 'Q6601364', 'Q3900375', 'Q611315', 'Q42880564', 'Q2252005', 'Q934595', 'Q4736593', 'Q19864097', 'Q6644820', 'Q109974521', 'Q6568636', 'Q14949774', 'Q60772876', 'Q48976713', 'Q65080520', 'Q96251657', 'Q6600020', 'Q6149566', 'Q2278346', 'Q2645394', 'Q5073794']\n",
      "processing collections of type: ('fictional country',) with ids: ['Q24735548']\n",
      "processing collections of type: ('fictional planet',) with ids: ['Q8085585', 'Q1575120', 'Q108061205']\n",
      "processing collections of type: ('fictional planet', 'fictional moon') with ids: ['Q2294199']\n",
      "processing collections of type: ('fictional species',) with ids: ['Q3971250']\n",
      "processing collections of type: ('film',) with ids: ['Q1741678', 'Q3243749', 'Q24905751', 'Q15298003', 'Q6397523', 'Q8314124', 'Q17085462', 'Q30626795', 'Q7141745', 'Q2377605', 'Q27450225', 'Q11267773', 'Q6620047', 'Q4679724', 'Q16864447', 'Q6582902', 'Q21068057', 'Q7521076', 'Q4934072', 'Q4030043', 'Q6833470', 'Q16148930', 'Q5352741', 'Q24904880', 'Q16255063', 'Q63807185', 'Q11877618', 'Q10859479', 'Q6398223', 'Q7141609', 'Q2235180', 'Q6837121', 'Q2296890', 'Q8285034', 'Q4913463', 'Q2564359', 'Q7237123', 'Q17156913', 'Q7446753', 'Q2476255', 'Q1369019', 'Q28530984', 'Q6833400', 'Q20704581', 'Q18131022', 'Q7237396', 'Q7141687', 'Q6334398', 'Q7141690', 'Q6836730', 'Q6564870', 'Q8562503', 'Q18358294', 'Q17275628', 'Q25040817', 'Q8452096', 'Q16003910', 'Q7141607', 'Q7141701', 'Q8453126', 'Q8763124', 'Q7142195', 'Q23995044', 'Q9756224', 'Q754017', 'Q3249632', 'Q1040119', 'Q6372366', 'Q6620067', 'Q9756082', 'Q8452029', 'Q776622', 'Q3822091', 'Q6634064', 'Q2443977', 'Q7141341', 'Q6836797', 'Q22029192', 'Q2261846', 'Q19891449', 'Q6571123', 'Q7358023', 'Q20684223', 'Q107395285', 'Q7455579', 'Q7524124', 'Q7141686', 'Q8451972', 'Q6607954', 'Q6561446', 'Q13630445', 'Q28441520', 'Q2912182', 'Q18011125', 'Q25055080', 'Q6426282', 'Q9474015', 'Q2381160', 'Q6823684', 'Q27764553', 'Q6838746', 'Q6735257', 'Q28723778', 'Q6620058', 'Q6619920', 'Q59773643', 'Q376479', 'Q52451094', 'Q7141697', 'Q15854651', 'Q13639350', 'Q6841210', 'Q1091334', 'Q13262253', 'Q8217181', 'Q7861635', 'Q3650416', 'Q9756161', 'Q8873640', 'Q2526538', 'Q8455200', 'Q25129764', 'Q753340', 'Q4932844', 'Q753322', 'Q6620092', 'Q6739062', 'Q9756138', 'Q4437584', 'Q6620139', 'Q6429231', 'Q7141689', 'Q15732375', 'Q60764178', 'Q32672310', 'Q109538724', 'Q9849934', 'Q18924378', 'Q6836426', 'Q24905168', 'Q6838777', 'Q8455267', 'Q8245039', 'Q6323160', 'Q6835622', 'Q909572', 'Q16251350']\n",
      "processing collections of type: ('fire deity',) with ids: ['Q22123181']\n",
      "processing collections of type: ('fire station',) with ids: ['Q61718811']\n",
      "processing collections of type: ('first generation computer',) with ids: ['Q1137429']\n",
      "processing collections of type: ('free and open-source video game', 'video game') with ids: ['Q1862824']\n",
      "processing collections of type: ('fruit',) with ids: ['Q497975']\n",
      "processing collections of type: ('game',) with ids: ['Q3244001']\n",
      "processing collections of type: ('gas-filled tube', 'vacuum tube model', 'Vacuum tube designation system') with ids: ['Q6644531']\n",
      "processing collections of type: ('geographic location', 'balloon aerial photograph') with ids: ['Q7426085']\n",
      "processing collections of type: ('given name',) with ids: ['Q1093854', 'Q3834710', 'Q2259094']\n",
      "processing collections of type: ('given name', 'family name') with ids: ['Q4090677']\n",
      "processing collections of type: ('god game', 'video game') with ids: ['Q5114205']\n",
      "processing collections of type: ('hacker group',) with ids: ['Q3769423']\n",
      "processing collections of type: ('hash function',) with ids: ['Q6622021']\n",
      "processing collections of type: ('higher education institution', 'university') with ids: ['Q449294']\n",
      "processing collections of type: ('hot beverage',) with ids: ['Q18348952']\n",
      "processing collections of type: ('house cat',) with ids: ['Q39087177', 'Q587529']\n",
      "processing collections of type: ('human',) with ids: ['Q217762', 'Q6562472', 'Q6575474', 'Q8247879', 'Q16150188', 'Q1839992', 'Q839198', 'Q11811836', 'Q8247974', 'Q888021', 'Q6561970', 'Q6598710', 'Q1187301', 'Q6573707', 'Q6353228', 'Q726872', 'Q6647036', 'Q6571256', 'Q13286093', 'Q7042724', 'Q8644262', 'Q1845766', 'Q6640272', 'Q1863553', 'Q8217900', 'Q6632763', 'Q55758181', 'Q2043029', 'Q6567315', 'Q887629', 'Q7196004', 'Q7041025', 'Q8396087', 'Q7205250', 'Q8505271', 'Q7234382', 'Q6561621', 'Q8680103', 'Q6299253', 'Q6565110', 'Q7214267', 'Q6581609', 'Q9068571', 'Q7764552', 'Q6625179', 'Q7214898', 'Q5467229', 'Q11722581', 'Q7775552', 'Q6571120', 'Q8473610', 'Q8961898', 'Q6648148', 'Q7205290', 'Q6603958', 'Q7214838', 'Q9673355', 'Q7598352', 'Q6603156', 'Q3350334', 'Q15311210', 'Q7126518', 'Q1558647', 'Q372283', 'Q55939204', 'Q7089176', 'Q3650235', 'Q4357906', 'Q6603241', 'Q1288539', 'Q4889256', 'Q7747538', 'Q30676587', 'Q6343162', 'Q3251694', 'Q6572661', 'Q5532615', 'Q7663252', 'Q8634751', 'Q1336751', 'Q77299919', 'Q19820229', 'Q6570323', 'Q1860973', 'Q662542', 'Q460938', 'Q19881259', 'Q721851', 'Q6574515', 'Q7119869', 'Q7433705', 'Q5506075', 'Q6592743', 'Q16815186', 'Q7895077', 'Q46111985', 'Q2738084', 'Q11811782', 'Q6377980', 'Q16200753', 'Q8217191', 'Q8315556', 'Q15100942', 'Q7830776', 'Q28443158', 'Q6998682', 'Q8339443', 'Q2033554', 'Q8609416', 'Q8969749', 'Q5506104', 'Q7040913', 'Q6998155', 'Q1783598', 'Q7020602', 'Q6571982', 'Q55928064', 'Q6575554', 'Q6571980', 'Q5389385', 'Q8217883', 'Q2314105', 'Q8414859', 'Q104144547', 'Q60107', 'Q463236', 'Q7041084', 'Q29580', 'Q1269105', 'Q721218', 'Q3279368', 'Q6609410', 'Q8733719', 'Q897599', 'Q3643623', 'Q1455236', 'Q8396090', 'Q8206361', 'Q6595235', 'Q6299259', 'Q23705689', 'Q54059', 'Q7034448', 'Q6594359', 'Q21995369', 'Q7894823', 'Q8246554', 'Q7150472', 'Q1862467', 'Q1872689', 'Q6921587', 'Q6634051', 'Q6629543', 'Q7078735', 'Q6563428', 'Q6597374', 'Q16843626', 'Q6299255', 'Q727152', 'Q6575064', 'Q6603141', 'Q100741686', 'Q45209583', 'Q534630', 'Q13644296', 'Q8377580', 'Q7126227', 'Q6594590', 'Q132309', 'Q7917069', 'Q15309182', 'Q6996828', 'Q2914239', 'Q2904879', 'Q1828673', 'Q15206019', 'Q7178083', 'Q6603679', 'Q6561638', 'Q16155103', 'Q6629067', 'Q6647300', 'Q6614977', 'Q101428899', 'Q108731569', 'Q6000846', 'Q678278', 'Q4201076', 'Q693651', 'Q6568669', 'Q11796224', 'Q1262807', 'Q249466', 'Q6643443', 'Q7114169', 'Q6634866', 'Q47494854', 'Q9683277', 'Q3489718', 'Q25031976', 'Q1229528', 'Q14914736', 'Q8474280', 'Q8798455', 'Q1535884', 'Q16149293', 'Q6572931', 'Q8763100', 'Q6615201', 'Q8285202', 'Q4431733', 'Q6640362', 'Q687810', 'Q16149039', 'Q6549716', 'Q304551', 'Q8217845', 'Q3523447', 'Q8688250', 'Q283321', 'Q7139499']\n",
      "processing collections of type: ('human', 'Greek deity') with ids: ['Q516588']\n",
      "processing collections of type: ('human', 'association football player') with ids: ['Q945035']\n",
      "processing collections of type: ('human', 'athlete') with ids: ['Q6379578']\n",
      "processing collections of type: ('human', 'criminal') with ids: ['Q86754653']\n",
      "processing collections of type: ('human', 'engine') with ids: ['Q2723810']\n",
      "processing collections of type: ('human', 'fictional character') with ids: ['Q6619674']\n",
      "processing collections of type: ('human', 'officer') with ids: ['Q969375']\n",
      "processing collections of type: ('human', 'video game developer') with ids: ['Q3253626']\n",
      "processing collections of type: ('hydroelectric power station',) with ids: ['Q221144']\n",
      "processing collections of type: ('ice hockey player', 'human') with ids: ['Q1111244']\n",
      "processing collections of type: ('inflatable',) with ids: ['Q6624030']\n",
      "processing collections of type: ('instant messaging client',) with ids: ['Q2618972']\n",
      "processing collections of type: ('international sport governing body',) with ids: ['Q1346006']\n",
      "processing collections of type: ('island',) with ids: ['Q786880']\n",
      "processing collections of type: ('island nation',) with ids: ['Q6859151']\n",
      "processing collections of type: ('lake',) with ids: ['Q688064']\n",
      "processing collections of type: ('language certificate', 'language assessment') with ids: ['Q1359656']\n",
      "processing collections of type: ('legislation',) with ids: ['Q6602828']\n",
      "processing collections of type: ('light gun',) with ids: ['Q5306540']\n",
      "processing collections of type: ('light novel',) with ids: ['Q17002912']\n",
      "processing collections of type: ('light source',) with ids: ['Q65037198']\n",
      "processing collections of type: ('liqueur',) with ids: ['Q6625475']\n",
      "processing collections of type: ('lottery',) with ids: ['Q6639545']\n",
      "processing collections of type: ('magazine',) with ids: ['Q21067743']\n",
      "processing collections of type: ('manga',) with ids: ['Q25384724']\n",
      "processing collections of type: ('manga series',) with ids: ['Q7034480']\n",
      "processing collections of type: ('marketplace',) with ids: ['Q6627205']\n",
      "processing collections of type: ('mathematical group',) with ids: ['Q5419318']\n",
      "processing collections of type: ('medical test type',) with ids: ['Q60543739']\n",
      "processing collections of type: ('military equipment',) with ids: ['Q4338081']\n",
      "processing collections of type: ('mine',) with ids: ['Q6628616', 'Q17098761', 'Q6628642', 'Q6628628', 'Q15733884', 'Q6628626']\n",
      "processing collections of type: ('mineral species',) with ids: ['Q7174244']\n",
      "processing collections of type: ('mining company',) with ids: ['Q6271557']\n",
      "processing collections of type: ('minor planet',) with ids: ['Q6684357', 'Q26707466']\n",
      "processing collections of type: ('minor planet', 'human', 'asteroid') with ids: ['Q37651']\n",
      "processing collections of type: ('missile',) with ids: ['Q3244242']\n",
      "processing collections of type: ('mobile app',) with ids: ['Q6629066']\n",
      "processing collections of type: ('mobile software',) with ids: ['Q6156448']\n",
      "processing collections of type: ('mode of transport', 'automobile model') with ids: ['Q3564027', 'Q5620399', 'Q6565471', 'Q16797231']\n",
      "processing collections of type: ('mode of transport', 'electric car') with ids: ['Q5195122']\n",
      "processing collections of type: ('mountain',) with ids: ['Q5758454', 'Q1834082', 'Q1834036', 'Q873951', 'Q574742', 'Q16638846', 'Q3392706', 'Q6622432', 'Q669684']\n",
      "processing collections of type: ('municipality of Switzerland',) with ids: ['Q689212']\n",
      "processing collections of type: ('museum',) with ids: ['Q1771711']\n",
      "processing collections of type: ('musical', 'television series', 'discography', 'video clip', 'film') with ids: ['Q16246470']\n",
      "processing collections of type: ('musical group',) with ids: ['Q6624012', 'Q1853906', 'Q16154691']\n",
      "processing collections of type: ('musical work/composition',) with ids: ['Q2743899', 'Q375345']\n",
      "processing collections of type: ('musical work/composition', 'jazz standard') with ids: ['Q1553781']\n",
      "processing collections of type: ('musical work/composition', 'song') with ids: ['Q2669121']\n",
      "processing collections of type: ('musician', 'human') with ids: ['Q8817278']\n",
      "processing collections of type: ('naval vessel', 'ship') with ids: ['Q1253416']\n",
      "processing collections of type: ('newspaper',) with ids: ['Q1723168', 'Q7054831']\n",
      "processing collections of type: ('novel',) with ids: ['Q6563228', 'Q4434309', 'Q107128548']\n",
      "processing collections of type: ('nuclear weapons test',) with ids: ['Q1863664', 'Q17194312']\n",
      "processing collections of type: ('operating system',) with ids: ['Q24885025']\n",
      "processing collections of type: ('organization',) with ids: ['Q17099139', 'Q6624144', 'Q21015588']\n",
      "processing collections of type: ('painting',) with ids: ['Q1368268', 'Q8778220', 'Q8950204', 'Q3884090']\n",
      "processing collections of type: ('paraphilia',) with ids: ['Q2654782']\n",
      "processing collections of type: ('photograph',) with ids: ['Q477949']\n",
      "processing collections of type: ('pirate', 'human') with ids: ['Q2995372']\n",
      "processing collections of type: ('political party',) with ids: ['Q6619376', 'Q6634221']\n",
      "processing collections of type: ('power station',) with ids: ['Q3255143', 'Q360124', 'Q4120404']\n",
      "processing collections of type: ('printer',) with ids: ['Q3620912']\n",
      "processing collections of type: ('prison',) with ids: ['Q6565028']\n",
      "processing collections of type: ('prize',) with ids: ['Q6608830', 'Q16224910']\n",
      "processing collections of type: ('product',) with ids: ['Q438342']\n",
      "processing collections of type: ('pseudoscience',) with ids: ['Q4437154']\n",
      "processing collections of type: ('public company',) with ids: ['Q7110135', 'Q6762709']\n",
      "processing collections of type: ('questionable disease',) with ids: ['Q21068022']\n",
      "processing collections of type: ('radio station',) with ids: ['Q6560242']\n",
      "processing collections of type: ('railway traction vehicle',) with ids: ['Q601094']\n",
      "processing collections of type: ('record label',) with ids: ['Q1061114', 'Q6597380']\n",
      "processing collections of type: ('resource record',) with ids: ['Q716511']\n",
      "processing collections of type: ('river',) with ids: ['Q1122609', 'Q375760']\n",
      "processing collections of type: ('road',) with ids: ['Q27949002', 'Q27949003']\n",
      "processing collections of type: ('sex museum',) with ids: ['Q50114313']\n",
      "processing collections of type: ('sex position',) with ids: ['Q7037102']\n",
      "processing collections of type: ('ship',) with ids: ['Q3041611', 'Q8737541', 'Q8737547']\n",
      "processing collections of type: ('short film', 'film') with ids: ['Q8247989']\n",
      "processing collections of type: ('single',) with ids: ['Q6439854', 'Q7032827', 'Q6830279', 'Q7233259', 'Q7470652', 'Q7032812', 'Q7217096', 'Q8589867']\n",
      "processing collections of type: ('social networking service',) with ids: ['Q931685']\n",
      "processing collections of type: ('software',) with ids: ['Q7454567']\n",
      "processing collections of type: ('software feature',) with ids: ['Q266134']\n",
      "processing collections of type: ('software framework',) with ids: ['Q1863837']\n",
      "processing collections of type: ('software testing tool',) with ids: ['Q6645157']\n",
      "processing collections of type: ('song',) with ids: ['Q9054092', 'Q7211334', 'Q1278951', 'Q5885684', 'Q99476670', 'Q6640073', 'Q8300289', 'Q25214594', 'Q16838569', 'Q7940279', 'Q104859708', 'Q8572139', 'Q8763942', 'Q48797879', 'Q85781016', 'Q8764268', 'Q724712', 'Q47090183', 'Q8317026']\n",
      "processing collections of type: ('sovereign state',) with ids: ['Q4366558']\n",
      "processing collections of type: ('space probe',) with ids: ['Q1088197']\n",
      "processing collections of type: ('sport film', 'film') with ids: ['Q19331956']\n",
      "processing collections of type: ('sport rivalry',) with ids: ['Q16672878']\n",
      "processing collections of type: ('sporting event',) with ids: ['Q5110843']\n",
      "processing collections of type: ('sports competition',) with ids: ['Q3138464']\n",
      "processing collections of type: ('sports team', 'association football club') with ids: ['Q2214955']\n",
      "processing collections of type: ('state',) with ids: ['Q6623344']\n",
      "processing collections of type: ('state', 'European Union border') with ids: ['Q551072']\n",
      "processing collections of type: ('station',) with ids: ['Q41171881']\n",
      "processing collections of type: ('stock market index',) with ids: ['Q7722563']\n",
      "processing collections of type: ('structure fire', 'conflagration') with ids: ['Q3792644']\n",
      "processing collections of type: ('tangible good',) with ids: ['Q6597376', 'Q612370']\n",
      "processing collections of type: ('taxon',) with ids: ['Q7158061', 'Q13252972', 'Q7352275', 'Q8759613', 'Q8475079', 'Q30676302', 'Q8475074', 'Q8374995', 'Q8562719', 'Q7461140', 'Q9168449', 'Q6132343']\n",
      "processing collections of type: ('telephone numbering plan',) with ids: ['Q7696617']\n",
      "processing collections of type: ('television channel',) with ids: ['Q2961819']\n",
      "processing collections of type: ('television network',) with ids: ['Q3087456']\n",
      "processing collections of type: ('television program',) with ids: ['Q2237450', 'Q60770311', 'Q976537', 'Q21068137', 'Q19753554', 'Q6635291', 'Q6631825', 'Q6635110', 'Q6635142', 'Q6635119', 'Q6635421', 'Q6565364', 'Q6635307']\n",
      "processing collections of type: ('television series',) with ids: ['Q8836353']\n",
      "processing collections of type: ('television series episode',) with ids: ['Q2698259', 'Q6599734', 'Q39502929', 'Q460681', 'Q6568190', 'Q461268', 'Q6348762', 'Q2280596', 'Q3546606', 'Q4436793', 'Q1586144', 'Q6572020', 'Q465841', 'Q56073551', 'Q15944570', 'Q5473402', 'Q1880082', 'Q15995631', 'Q2251901', 'Q19829542', 'Q12052379', 'Q1851420', 'Q25038341', 'Q4437832', 'Q2471890', 'Q40553711']\n",
      "processing collections of type: ('television station',) with ids: ['Q17332326']\n",
      "processing collections of type: ('temple',) with ids: ['Q15711507']\n",
      "processing collections of type: ('territory',) with ids: ['Q1424014']\n",
      "processing collections of type: ('test',) with ids: ['Q6642935']\n",
      "processing collections of type: ('theonym',) with ids: ['Q821090']\n",
      "processing collections of type: ('thoroughfare',) with ids: ['Q6636813']\n",
      "processing collections of type: ('thunder god',) with ids: ['Q24284129']\n",
      "processing collections of type: ('transcontinental country',) with ids: ['Q113237304']\n",
      "processing collections of type: ('type of sport',) with ids: ['Q212664']\n",
      "processing collections of type: ('typeface',) with ids: ['Q2258110']\n",
      "processing collections of type: ('university',) with ids: ['Q6619383', 'Q688134']\n",
      "processing collections of type: ('university', 'engineer school') with ids: ['Q3025021']\n",
      "processing collections of type: ('vehicle registration plate',) with ids: ['Q7918525', 'Q7918557', 'Q7918529', 'Q254262', 'Q7918497', 'Q7918467', 'Q7918479', 'Q584676', 'Q1503941']\n",
      "processing collections of type: ('video game',) with ids: ['Q1374203', 'Q12734041', 'Q7468173', 'Q6849526', 'Q28454822', 'Q15102072', 'Q21463300', 'Q3242788', 'Q6849913', 'Q61014576', 'Q15981309', 'Q21068355', 'Q586366', 'Q8480516', 'Q7715000', 'Q3834892', 'Q2035754', 'Q8625071', 'Q65268196', 'Q1101766', 'Q27486373', 'Q2483809', 'Q6849936', 'Q371057', 'Q99485876', 'Q549923', 'Q6561808', 'Q85780815', 'Q6571544', 'Q18218452', 'Q2248804', 'Q60519230', 'Q3245107', 'Q17042460', 'Q97357615', 'Q6621972', 'Q6845226']\n",
      "processing collections of type: ('video game', 'game') with ids: ['Q3244026']\n",
      "processing collections of type: ('war',) with ids: ['Q6581909', 'Q12106309']\n",
      "processing collections of type: ('website',) with ids: ['Q870398', 'Q52460189']\n",
      "processing collections of type: ('work',) with ids: ['Q6645732']\n"
     ]
    }
   ],
   "source": [
    "html_str = run_comparison()"
   ]
  },
  {
   "cell_type": "code",
   "execution_count": 56,
   "id": "08077dbe-ccd8-4a69-9c34-473b8a039efd",
   "metadata": {},
   "outputs": [],
   "source": [
    "with open('token-scramble-report.html', 'w') as f:\n",
    "    f.write(html_str)"
   ]
  },
  {
   "cell_type": "markdown",
   "id": "830312a8-d904-4f5e-8578-cce0797f32bc",
   "metadata": {},
   "source": [
    "**Comparison 2**"
   ]
  },
  {
   "cell_type": "code",
   "execution_count": 70,
   "id": "1b7cba97-01f0-4ec7-9261-8d78a3fcfad7",
   "metadata": {},
   "outputs": [],
   "source": [
    "with open('test_collections_2.txt') as f:\n",
    "    collections_ids_2 = list(map(lambda s: s.strip(), f.readlines()))"
   ]
  },
  {
   "cell_type": "code",
   "execution_count": 71,
   "id": "38948113-826b-4f1d-8e25-d426ca74fd3a",
   "metadata": {},
   "outputs": [
    {
     "data": {
      "text/plain": [
       "['Q6562472', 'Q8247879', 'Q839198', 'Q6353228', 'Q1845766']"
      ]
     },
     "execution_count": 71,
     "metadata": {},
     "output_type": "execute_result"
    }
   ],
   "source": [
    "collections_ids_2[:5]"
   ]
  },
  {
   "cell_type": "code",
   "execution_count": 75,
   "id": "007192d5-1490-4d45-8506-a2ce5df376b2",
   "metadata": {},
   "outputs": [],
   "source": [
    "def run_comparison2() -> str:\n",
    "    html = ['<meta charset=\"UTF-8\">']\n",
    "    \n",
    "    collection_type2ids_dict = load_collection_ids()\n",
    "#    for type_tuple in sorted(collection_type2ids_dict.keys()):\n",
    "#        print(f'processing collections of type: {type_tuple} with ids: {collection_type2ids_dict[type_tuple]}')\n",
    "#        html.append(f'<h2>types: {\", \".join(type_tuple)}</h2>')\n",
    "    for c_id in collections_ids_2:\n",
    "        try:\n",
    "            c_hit = get_collection_hit_by_id(c_id)\n",
    "            c_types = get_collection_types_from_hit(c_hit)\n",
    "            c_name, c_names = get_collection_name_and_names_from_hit(c_hit)\n",
    "            print(f'processing collection {c_name} with id {c_id}')\n",
    "        except IndexError:\n",
    "            continue\n",
    "        html.append(f'<h3>{c_name} ({c_id}), tyype: {\" ,\".join(c_types)}</h3>')\n",
    "        html.append(f'<br><b>top 25 names in collection:</b> {\" \".join(c_names[:25])}</br>')\n",
    "        \n",
    "        for topn in (10, 20):\n",
    "            html.append(f'<h4>top {topn} names token-scramble:</h4>')\n",
    "            html.append('<table>')\n",
    "            html.append('<thead>')\n",
    "            html.append('''<tr>\n",
    "                            <th style=\"width: 34%\">left-right-shuffle</th>\n",
    "                            <th style=\"width: 33%\">l-r-shuffle-with-unigrams</th>\n",
    "                            <th style=\"width: 33%\">full-shuffle</th>\n",
    "                        </tr>''')\n",
    "            html.append('</thead>')\n",
    "\n",
    "            bigrams_lr = run_token_scramble(c_id, top_n=topn, mixing='left-right-skip')\n",
    "            bigrams_lr_unigrams = run_token_scramble(c_id, top_n=topn, mixing='left-right-with-unigrams')\n",
    "            bigrams_full = run_token_scramble(c_id, top_n=topn, mixing='full-shuffle')\n",
    "            \n",
    "            html.append('<tbody>')\n",
    "\n",
    "            def bigrams_to_str(bgrms: list[tuple[str, str]]) -> str:\n",
    "                return '  '.join(map(lambda t: f'{t[0]}-{t[1]}', bgrms))\n",
    "            \n",
    "            html.append((f'<tr><td>{bigrams_to_str(bigrams_lr)}</td><td>{bigrams_to_str(bigrams_lr_unigrams)}</td>'\n",
    "                         f'<td>{bigrams_to_str(bigrams_full)}</td></tr>'))\n",
    "            \n",
    "            html.append('</tbody>')\n",
    "            html.append('</table>')\n",
    "    \n",
    "    return '\\n'.join(html)"
   ]
  },
  {
   "cell_type": "code",
   "execution_count": 76,
   "id": "a7160352-8d82-4bac-aa03-f1f24e9b0ecd",
   "metadata": {},
   "outputs": [
    {
     "name": "stdout",
     "output_type": "stream",
     "text": [
      "processing collection Assemblies of God people with id Q6562472\n",
      "processing collection American rock guitarists with id Q8247879\n",
      "processing collection Polish painters with id Q839198\n",
      "processing collection Footballers with 400 or more La Liga appearances with id Q6353228\n",
      "processing collection Artists who reached number one in the United States with id Q1845766\n",
      "processing collection Britney Spears albums with id Q6843306\n",
      "processing collection Pink Floyd live albums with id Q8763088\n",
      "processing collection Films based on English-language comics with id Q1741678\n",
      "processing collection 2012 films with id Q6582902\n",
      "processing collection Fruits originating in Asia with id Q8475079\n",
      "processing collection Fruit vegetables with id Q8475074\n",
      "processing collection Tropical fruit with id Q7461140\n",
      "processing collection Songs recorded by Britney Spears with id Q1278951\n",
      "processing collection Bryan Adams songs with id Q8317026\n",
      "processing collection Iron Man enemies with id Q1660472\n",
      "processing collection The Incredible Hulk characters with id Q6599718\n",
      "processing collection Marvel 1602 characters with id Q6589343\n",
      "processing collection Most expensive buildings with id Q6629070\n",
      "processing collection Cities by GDP with id Q1079848\n",
      "processing collection PC games  with id Q12734041\n",
      "processing collection Most expensive paintings with id Q1368268\n",
      "processing collection Battleships of France with id Q3041611\n",
      "processing collection Awards and nominations received by Amy Adams with id Q16155336\n",
      "processing collection Rivers of France with id Q1122609\n",
      "processing collection Compositions by Johann Sebastian Bach with id Q375345\n",
      "processing collection Compositions by Krzysztof Penderecki with id Q2743899\n",
      "processing collection 2008 singles with id Q6439854\n",
      "processing collection Chicago Fire episodes with id Q12052379\n",
      "processing collection Aircraft of World War II with id Q715657\n",
      "processing collection Airports in Switzerland with id Q680751\n",
      "processing collection ABC radio stations with id Q6560242\n",
      "processing collection Intergovernmental organizations with id Q6624144\n",
      "processing collection Sex worker organizations with id Q21015588\n",
      "processing collection Most expensive books and manuscripts with id Q6629074\n",
      "processing collection Model car brands with id Q17101835\n",
      "processing collection Apple cultivars with id Q493703\n",
      "processing collection Luxury vehicles with id Q6937204\n",
      "processing collection Birds of Ukraine with id Q250759\n",
      "processing collection Private-equity firms with id Q6634956\n",
      "processing collection Cult films with id Q6614871\n",
      "processing collection Culinary fruits with id Q497975\n",
      "processing collection Most-downloaded Google Play applications with id Q6629066\n",
      "processing collection Sex positions with id Q7037102\n",
      "processing collection Google software with id Q7454567\n",
      "processing collection Missions to the outer planets with id Q1088197\n",
      "processing collection Ancient Greek temples with id Q15711507\n",
      "processing collection Thunder gods with id Q24284129\n",
      "processing collection Sports with id Q212664\n",
      "processing collection Works designed with the golden ratio with id Q6645732\n"
     ]
    }
   ],
   "source": [
    "html_str_2 = run_comparison2()"
   ]
  },
  {
   "cell_type": "code",
   "execution_count": 77,
   "id": "f8ad47c3-284a-4aac-be35-3533b2ab155d",
   "metadata": {},
   "outputs": [],
   "source": [
    "with open('token-scramble-report2.html', 'w') as f:\n",
    "    f.write(html_str_2)"
   ]
  }
 ],
 "metadata": {
  "kernelspec": {
   "display_name": "Python 3 (ipykernel)",
   "language": "python",
   "name": "python3"
  },
  "language_info": {
   "codemirror_mode": {
    "name": "ipython",
    "version": 3
   },
   "file_extension": ".py",
   "mimetype": "text/x-python",
   "name": "python",
   "nbconvert_exporter": "python",
   "pygments_lexer": "ipython3",
   "version": "3.10.11"
  }
 },
 "nbformat": 4,
 "nbformat_minor": 5
}
