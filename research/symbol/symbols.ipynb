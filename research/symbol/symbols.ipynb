{
 "cells": [
  {
   "cell_type": "markdown",
   "id": "d7acc389",
   "metadata": {},
   "source": [
    "# Symbols mapping"
   ]
  },
  {
   "cell_type": "markdown",
   "id": "b74d3ef0",
   "metadata": {},
   "source": [
    "## Obtaining all valid symbols"
   ]
  },
  {
   "cell_type": "code",
   "execution_count": 2,
   "id": "29025d3c",
   "metadata": {},
   "outputs": [],
   "source": [
    "import myunicode"
   ]
  },
  {
   "cell_type": "code",
   "execution_count": 6,
   "id": "7e51d4c5",
   "metadata": {},
   "outputs": [],
   "source": [
    "from itertools import count\n",
    "\n",
    "def all_unicode_iterator():\n",
    "    for code in count(0):\n",
    "        try:\n",
    "            chr(code)\n",
    "        except ValueError:\n",
    "            return\n",
    "        \n",
    "        yield chr(code)"
   ]
  },
  {
   "cell_type": "code",
   "execution_count": 11,
   "id": "47673225",
   "metadata": {},
   "outputs": [],
   "source": [
    "all_currency_symbols = [char for char in all_unicode_iterator() if myunicode.category(char) == 'Sc']\n",
    "all_math_symbols     = [char for char in all_unicode_iterator() if myunicode.category(char) == 'Sm']\n",
    "all_other_symbols    = [char for char in all_unicode_iterator() if myunicode.category(char) == 'So']"
   ]
  },
  {
   "cell_type": "code",
   "execution_count": 12,
   "id": "1dd5f972",
   "metadata": {},
   "outputs": [
    {
     "data": {
      "text/plain": [
       "(63, 948, 6605)"
      ]
     },
     "execution_count": 12,
     "metadata": {},
     "output_type": "execute_result"
    }
   ],
   "source": [
    "len(all_currency_symbols), len(all_math_symbols), len(all_other_symbols)"
   ]
  },
  {
   "cell_type": "code",
   "execution_count": 13,
   "id": "17b6fb76",
   "metadata": {},
   "outputs": [],
   "source": [
    "def is_normalized(char: str) -> bool:\n",
    "    try:\n",
    "        return myunicode.ens_normalize(char) == char\n",
    "    except ValueError:\n",
    "        return False"
   ]
  },
  {
   "cell_type": "code",
   "execution_count": 37,
   "id": "3d5d48bf",
   "metadata": {},
   "outputs": [],
   "source": [
    "def is_valid(char: str) -> bool:\n",
    "    return is_normalized(char) and not myunicode.is_emoji(char)"
   ]
  },
  {
   "cell_type": "code",
   "execution_count": 40,
   "id": "665c1b74",
   "metadata": {},
   "outputs": [],
   "source": [
    "valid_currency_symbols = [char for char in all_currency_symbols if is_valid(char)]\n",
    "valid_math_symbols     = [char for char in all_math_symbols if is_valid(char)]\n",
    "valid_other_symbols    = [char for char in all_other_symbols if is_valid(char)]"
   ]
  },
  {
   "cell_type": "code",
   "execution_count": 41,
   "id": "854cd8e1",
   "metadata": {},
   "outputs": [
    {
     "data": {
      "text/plain": [
       "(55, 102, 1943)"
      ]
     },
     "execution_count": 41,
     "metadata": {},
     "output_type": "execute_result"
    }
   ],
   "source": [
    "len(valid_currency_symbols), len(valid_math_symbols), len(valid_other_symbols)"
   ]
  },
  {
   "cell_type": "markdown",
   "id": "dbc2e4e7",
   "metadata": {},
   "source": [
    "## Math and Currencies mapping made by hand"
   ]
  },
  {
   "cell_type": "code",
   "execution_count": 65,
   "id": "2def4690",
   "metadata": {},
   "outputs": [],
   "source": [
    "# for symb in valid_currency_symbols:\n",
    "#     print(f\"{repr(symb)}: [{repr(myunicode.name(symb))}]\")\n",
    "\n",
    "# print()\n",
    "\n",
    "# for symb in valid_math_symbols:\n",
    "#     print(f\"{repr(symb)}: [{repr(myunicode.name(symb))}]\")"
   ]
  },
  {
   "cell_type": "code",
   "execution_count": 66,
   "id": "4dfd322f",
   "metadata": {},
   "outputs": [],
   "source": [
    "currency_mapping = {\n",
    "    '$': ['DOLLAR'],\n",
    "    '¢': ['CENT'],\n",
    "    '£': ['POUND'],\n",
    "    '¤': ['CURRENCY'],\n",
    "    '¥': ['YEN'],\n",
    "    '֏': ['DRAM'],\n",
    "    '؋': ['AFGHANI'],\n",
    "    '߾': ['NKO DOROME SIGN'], #\n",
    "    '߿': ['NKO TAMAN SIGN'], #\n",
    "    '৲': ['RUPEE'],\n",
    "    '৳': ['RUPEE'],\n",
    "    '৻': ['GANDA'],\n",
    "    '૱': ['RUPEE'],\n",
    "    '௹': ['RUPEE'],\n",
    "    '฿': ['BAHT'],\n",
    "    '៛': ['RIEL'],\n",
    "    '₠': ['EURO'],\n",
    "    '₡': ['COLON'],\n",
    "    '₢': ['CRUZEIRO'],\n",
    "    '₣': ['FRANC'],\n",
    "    '₤': ['LIRA'],\n",
    "    '₥': ['MILL'],\n",
    "    '₦': ['NAIRA'],\n",
    "    '₧': ['PESETA'],\n",
    "    '₩': ['WON'],\n",
    "    '₪': ['SHEQEL'],\n",
    "    '₫': ['DONG'],\n",
    "    '€': ['EURO'],\n",
    "    '₭': ['KIP'],\n",
    "    '₮': ['TUGRIK'],\n",
    "    '₯': ['DRACHMA'],\n",
    "    '₰': ['PENNY'],\n",
    "    '₱': ['PESO'],\n",
    "    '₲': ['GUARANI'],\n",
    "    '₳': ['AUSTRAL'],\n",
    "    '₴': ['HRYVNIA'],\n",
    "    '₵': ['CEDI'],\n",
    "    '₶': ['LIVRE TOURNOIS SIGN'], #\n",
    "    '₷': ['SPESMILO'],\n",
    "    '₸': ['TENGE'],\n",
    "    '₹': ['RUPEE'],\n",
    "    '₺': ['LIRA'],\n",
    "    '₻': ['NORDIC MARK SIGN'], #\n",
    "    '₼': ['MANAT'],\n",
    "    '₽': ['RUBLE'],\n",
    "    '₾': ['LARI'],\n",
    "    '₿': ['BITCOIN'],\n",
    "    '\\u20c0': ['SOM'],\n",
    "    '꠸': ['RUPEE'],\n",
    "    '𑿝': ['KAACU'],\n",
    "    '𑿞': ['PANAM'],\n",
    "    '𑿟': ['PON'],\n",
    "    '𑿠': ['VARAAKAN'],\n",
    "    '𞋿': ['WANCHO NGUN SIGN'], #\n",
    "    '𞲰': ['INDIC SIYAQ RUPEE MARK'], #\n",
    "}"
   ]
  },
  {
   "cell_type": "code",
   "execution_count": 67,
   "id": "27ee417e",
   "metadata": {},
   "outputs": [],
   "source": [
    "math_mapping = {\n",
    "    '¬': ['NOT', 'NEGATION'],\n",
    "    '±': ['PLUS-MINUS', 'UNCERTAINTY', 'ERROR'],  # ??\n",
    "    '∓': ['MINUS-PLUS'], # ??\n",
    "    '϶': ['EPSILON'],\n",
    "    '؆': ['ROOT'],\n",
    "    '؇': ['ROOT'],\n",
    "    '؈': ['RAY'],\n",
    "    '⁄': ['FRACTION'],\n",
    "    '℘': ['SCRIPT CAPITAL P'],  #\n",
    "    \n",
    "    '←': ['LEFTWARDS', 'LEFT', 'ARROW'],\n",
    "    '↑': ['UPWARDS', 'UP', 'ARROW'],\n",
    "    '→': ['RIGHTWARDS', 'RIGHT', 'ARROW'],\n",
    "    '↓': ['DOWNWARDS', 'DOWN', 'ARROW'],\n",
    "    '↚': ['LEFTWARDS', 'ARROW', 'STROKE'], # ??\n",
    "    '↛': ['RIGHTWARDS', 'ARROW', 'STROKE'], # ??\n",
    "    '↠': ['RIGHTWARDS', 'ARROW'], # ??\n",
    "    '↣': ['RIGHTWARDS', 'ARROW'], # ??\n",
    "    '↦': ['RIGHTWARDS', 'ARROW'], # ??\n",
    "    '↮': ['ARROW', 'STROKE'], # ??\n",
    "    '⇎': ['ARROW', 'STROKE'], #\n",
    "    '⇏': ['RIGHTWARDS', 'ARROW', 'STROKE'], # ??\n",
    "    '⇒': ['RIGHTWARDS', 'RIGHT', 'ARROW'],\n",
    "    '⇔': ['LEFT RIGHT DOUBLE ARROW'], #\n",
    "    '⇴': ['ARROW'], # ??\n",
    "    '⇵': ['DOWNWARDS ARROW LEFTWARDS OF UPWARDS ARROW'], #\n",
    "    '⇶': ['THREE RIGHTWARDS ARROWS'], #\n",
    "    '⇷': ['LEFTWARDS', 'ARROW', 'STROKE'],\n",
    "    '⇸': ['RIGHTWARDS', 'ARROW', 'STROKE'],\n",
    "    '⇹': ['LEFT RIGHT ARROW WITH VERTICAL STROKE'], #\n",
    "    '⇺': ['LEFTWARDS ARROW WITH DOUBLE VERTICAL STROKE'], #\n",
    "    '⇻': ['RIGHTWARDS ARROW WITH DOUBLE VERTICAL STROKE'], #\n",
    "    '⇼': ['LEFT RIGHT ARROW WITH DOUBLE VERTICAL STROKE'], #\n",
    "    '⇽': ['LEFTWARDS OPEN-HEADED ARROW'], #\n",
    "    '⇾': ['RIGHTWARDS OPEN-HEADED ARROW'], #\n",
    "    '⇿': ['LEFT RIGHT OPEN-HEADED ARROW'], #\n",
    "    '⟰': ['UPWARDS', 'ARROW'],\n",
    "    '⟱': ['DOWNWARDS', 'ARROW'],\n",
    "    '⬰': ['LEFT ARROW WITH SMALL CIRCLE'], #\n",
    "    '⬱': ['THREE LEFTWARDS ARROWS'], #\n",
    "    '⬲': ['LEFT ARROW WITH CIRCLED PLUS'], #\n",
    "    '⬳': ['LONG LEFTWARDS SQUIGGLE ARROW'], #\n",
    "    '⬴': ['LEFTWARDS TWO-HEADED ARROW WITH VERTICAL STROKE'], #\n",
    "    '⬵': ['LEFTWARDS TWO-HEADED ARROW WITH DOUBLE VERTICAL STROKE'], #\n",
    "    '⬶': ['LEFTWARDS TWO-HEADED ARROW FROM BAR'], #\n",
    "    '⬷': ['LEFTWARDS TWO-HEADED TRIPLE DASH ARROW'], #\n",
    "    '⬸': ['LEFTWARDS ARROW WITH DOTTED STEM'], #\n",
    "    '⬹': ['LEFTWARDS ARROW WITH TAIL WITH VERTICAL STROKE'], #\n",
    "    '⬺': ['LEFTWARDS ARROW WITH TAIL WITH DOUBLE VERTICAL STROKE'], #\n",
    "    '⬻': ['LEFTWARDS TWO-HEADED ARROW WITH TAIL'], #\n",
    "    '⬼': ['LEFTWARDS TWO-HEADED ARROW WITH TAIL WITH VERTICAL STROKE'], #\n",
    "    '⬽': ['LEFTWARDS TWO-HEADED ARROW WITH TAIL WITH DOUBLE VERTICAL STROKE'], #\n",
    "    '⬾': ['LEFTWARDS ARROW THROUGH X'], #\n",
    "    '⬿': ['WAVE ARROW POINTING DIRECTLY LEFT'], #\n",
    "    '⭀': ['EQUALS SIGN ABOVE LEFTWARDS ARROW'], #\n",
    "    '⭁': ['REVERSE TILDE OPERATOR ABOVE LEFTWARDS ARROW'], #\n",
    "    '⭂': ['LEFTWARDS ARROW ABOVE REVERSE ALMOST EQUAL TO'], #\n",
    "    '⭃': ['RIGHTWARDS ARROW THROUGH GREATER-THAN'], #\n",
    "    '⭄': ['RIGHTWARDS ARROW THROUGH SUPERSET'], #\n",
    "    '⭇': ['REVERSE TILDE OPERATOR ABOVE RIGHTWARDS ARROW'], #\n",
    "    '⭈': ['RIGHTWARDS ARROW ABOVE REVERSE ALMOST EQUAL TO'], #\n",
    "    '⭉': ['TILDE OPERATOR ABOVE LEFTWARDS ARROW'], #\n",
    "    '⭊': ['LEFTWARDS ARROW ABOVE ALMOST EQUAL TO'], #\n",
    "\n",
    "    \n",
    "    '∀': ['FORALL', 'ALL', 'EVERY'],\n",
    "    '∂': ['DIFFERENTIAL', 'DERIVATIVE'],\n",
    "    '∏': ['PRODUCT'],\n",
    "    '∐': ['COPRODUCT'],\n",
    "    '∑': ['SUMMATION', 'SUM', 'SIGMA'],\n",
    "    '√': ['ROOT', 'SQRT'],\n",
    "    '∝': ['PROPORTIONAL'],\n",
    "    '∞': ['INFINITY'],\n",
    "    '∫': ['INTEGRAL'],\n",
    "    '∮': ['CONTOUR', 'INTEGRAL'], # CONTOUR?\n",
    "    '≋': ['TILDE'],\n",
    "    '⊕': ['PLUS'],\n",
    "    '⊖': ['MINUS'],\n",
    "    '⊗': ['TIMES'],\n",
    "    '⊘': ['DIVISION'],\n",
    "    '⊙': ['DOT'],\n",
    "    '⊚': ['RING'],\n",
    "    '⊛': ['ASTERISK'],\n",
    "    '⊜': ['EQUALS'],\n",
    "    '⊝': ['DASH'],\n",
    "    '⊞': ['PLUS'],\n",
    "    '⊟': ['MINUS'],\n",
    "    '⊠': ['TIMES'],\n",
    "    '⊡': ['DOT'],\n",
    "    \n",
    "    '⊶': ['ORIGINAL'],\n",
    "    '⊷': ['IMAGE'],\n",
    "    '⋈': ['BOWTIE'],\n",
    "    '▷': ['RIGHT', 'TRIANGLE'],\n",
    "    '◁': ['LEFT', 'TRIANGLE'],\n",
    "    '◸': ['UPPERLEFT', 'TRIANGLE'],\n",
    "    '◹': ['UPPERRIGHT', 'TRIANGLE'],\n",
    "    '◺': ['LOWERLEFT', 'TRIANGLE'],\n",
    "    '◿': ['LOWERRIGHT', 'TRIANGLE'],\n",
    "    '⟀': ['ANGLE', 'ORIGIN', 'SPACE', 'COORDINATES'],\n",
    "    '⟁': ['TRIANGLE'],\n",
    "    '⟂': ['PERPENDICULAR'],\n",
    "\n",
    "    '⭋': ['LEFTWARDS ARROW ABOVE REVERSE TILDE OPERATOR'], #\n",
    "    '⭌': ['RIGHTWARDS ARROW ABOVE REVERSE TILDE OPERATOR'], #\n",
    "    '𞻰': ['ARABIC MATHEMATICAL OPERATOR MEEM WITH HAH WITH TATWEEL'], #\n",
    "    '𞻱': ['ARABIC MATHEMATICAL OPERATOR HAH WITH DAL'], #\n",
    "}"
   ]
  },
  {
   "cell_type": "markdown",
   "id": "29b07426",
   "metadata": {},
   "source": [
    "## Extracting mapping"
   ]
  },
  {
   "cell_type": "code",
   "execution_count": 42,
   "id": "79389288",
   "metadata": {},
   "outputs": [],
   "source": [
    "used_symbols = set()\n",
    "# TODO remove all language-specific symbols"
   ]
  },
  {
   "cell_type": "markdown",
   "id": "b09d8fd7",
   "metadata": {},
   "source": [
    "### Extracting all one-word symbols"
   ]
  },
  {
   "cell_type": "code",
   "execution_count": 43,
   "id": "b673ab8b",
   "metadata": {},
   "outputs": [],
   "source": [
    "def char_name(char: str) -> str:\n",
    "    return myunicode.name(char)"
   ]
  },
  {
   "cell_type": "code",
   "execution_count": 50,
   "id": "e4453247",
   "metadata": {},
   "outputs": [],
   "source": [
    "one_word_other_symbols = {\n",
    "    char: char_name(char)\n",
    "    for char in valid_other_symbols if len(char_name(char).split()) == 1\n",
    "}"
   ]
  },
  {
   "cell_type": "code",
   "execution_count": 45,
   "id": "d866165d",
   "metadata": {},
   "outputs": [
    {
     "data": {
      "text/plain": [
       "(0, 4, 33)"
      ]
     },
     "execution_count": 45,
     "metadata": {},
     "output_type": "execute_result"
    }
   ],
   "source": [
    "len(one_word_other_symbols)"
   ]
  },
  {
   "cell_type": "code",
   "execution_count": 47,
   "id": "24b6a522",
   "metadata": {},
   "outputs": [
    {
     "data": {
      "text/plain": [
       "{'℈': 'SCRUPLE',\n",
       " '℟': 'RESPONSE',\n",
       " '℣': 'VERSICLE',\n",
       " '⅍': 'AKTIESELSKAB',\n",
       " '⌂': 'HOUSE',\n",
       " '⌅': 'PROJECTIVE',\n",
       " '⌆': 'PERSPECTIVE',\n",
       " '⌒': 'ARC',\n",
       " '⌓': 'SEGMENT',\n",
       " '⌔': 'SECTOR',\n",
       " '⌭': 'CYLINDRICITY',\n",
       " '⌯': 'SYMMETRY',\n",
       " '⌳': 'SLOPE',\n",
       " '⏛': 'FUSE',\n",
       " '⏥': 'FLATNESS',\n",
       " '◉': 'FISHEYE',\n",
       " '◎': 'BULLSEYE',\n",
       " '⯗': 'TRANSPLUTO',\n",
       " '⯘': 'PROSERPINA',\n",
       " '⯙': 'ASTRAEA',\n",
       " '⯚': 'HYGIEA',\n",
       " '⯛': 'PHOLUS',\n",
       " '⯜': 'NESSUS',\n",
       " '⯠': 'CUPIDO',\n",
       " '⯡': 'HADES',\n",
       " '⯢': 'ZEUS',\n",
       " '⯣': 'KRONOS',\n",
       " '⯤': 'APOLLON',\n",
       " '⯥': 'ADMETOS',\n",
       " '⯦': 'VULCANUS',\n",
       " '⯧': 'POSEIDON',\n",
       " '⯲': 'SEDNA',\n",
       " '🥆': 'RIFLE'}"
      ]
     },
     "execution_count": 47,
     "metadata": {},
     "output_type": "execute_result"
    }
   ],
   "source": [
    "one_word_other_symbols"
   ]
  },
  {
   "cell_type": "code",
   "execution_count": 48,
   "id": "a64448f1",
   "metadata": {},
   "outputs": [],
   "source": [
    "used_symbols.update(one_word_other_symbols.keys())"
   ]
  },
  {
   "cell_type": "markdown",
   "id": "4c6b0ee6",
   "metadata": {},
   "source": [
    "### Extracting the mapping from the names"
   ]
  },
  {
   "cell_type": "code",
   "execution_count": null,
   "id": "e216a478",
   "metadata": {},
   "outputs": [],
   "source": [
    "currency_symbols2tokens = {\n",
    "    char: char_name(char)\n",
    "    for char in valid_currency_symbols if len(char_name(char).split()) == 1\n",
    "}\n",
    "math_symbols2tokens = {\n",
    "    char: char_name(char)\n",
    "    for char in valid_math_symbols if len(char_name(char).split()) == 1\n",
    "}\n",
    "other_symbols2tokens = {\n",
    "    char: char_name(char)\n",
    "    for char in valid_other_symbols if len(char_name(char).split()) == 1\n",
    "}"
   ]
  },
  {
   "cell_type": "code",
   "execution_count": null,
   "id": "1cda00d0",
   "metadata": {},
   "outputs": [],
   "source": []
  },
  {
   "cell_type": "code",
   "execution_count": null,
   "id": "3a6a8fe7",
   "metadata": {},
   "outputs": [],
   "source": []
  }
 ],
 "metadata": {
  "kernelspec": {
   "display_name": "asdf-py310",
   "language": "python",
   "name": "asdf-py310"
  },
  "language_info": {
   "codemirror_mode": {
    "name": "ipython",
    "version": 3
   },
   "file_extension": ".py",
   "mimetype": "text/x-python",
   "name": "python",
   "nbconvert_exporter": "python",
   "pygments_lexer": "ipython3",
   "version": "3.10.5"
  }
 },
 "nbformat": 4,
 "nbformat_minor": 5
}
