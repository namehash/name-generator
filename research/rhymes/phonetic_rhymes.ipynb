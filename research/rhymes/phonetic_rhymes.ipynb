{
 "cells": [
  {
   "cell_type": "code",
   "execution_count": 1,
   "id": "f676255c",
   "metadata": {},
   "outputs": [
    {
     "name": "stdout",
     "output_type": "stream",
     "text": [
      "Requirement already satisfied: pronouncing in /home/byczong/anaconda3/envs/ds310/lib/python3.10/site-packages (0.2.0)\r\n",
      "Requirement already satisfied: cmudict>=0.4.0 in /home/byczong/anaconda3/envs/ds310/lib/python3.10/site-packages (from pronouncing) (1.0.13)\r\n",
      "Requirement already satisfied: importlib-metadata<6.0.0,>=5.1.0 in /home/byczong/anaconda3/envs/ds310/lib/python3.10/site-packages (from cmudict>=0.4.0->pronouncing) (5.2.0)\r\n",
      "Requirement already satisfied: importlib-resources<6.0.0,>=5.10.1 in /home/byczong/anaconda3/envs/ds310/lib/python3.10/site-packages (from cmudict>=0.4.0->pronouncing) (5.12.0)\r\n",
      "Requirement already satisfied: zipp>=0.5 in /home/byczong/anaconda3/envs/ds310/lib/python3.10/site-packages (from importlib-metadata<6.0.0,>=5.1.0->cmudict>=0.4.0->pronouncing) (3.15.0)\r\n"
     ]
    }
   ],
   "source": [
    "!pip install pronouncing"
   ]
  },
  {
   "cell_type": "code",
   "execution_count": 2,
   "id": "0f6b2e3f",
   "metadata": {},
   "outputs": [
    {
     "name": "stdout",
     "output_type": "stream",
     "text": [
      "Collecting Metaphone\n",
      "  Downloading Metaphone-0.6.tar.gz (14 kB)\n",
      "  Preparing metadata (setup.py) ... \u001b[?25ldone\n",
      "\u001b[?25hBuilding wheels for collected packages: Metaphone\n",
      "  Building wheel for Metaphone (setup.py) ... \u001b[?25ldone\n",
      "\u001b[?25h  Created wheel for Metaphone: filename=Metaphone-0.6-py3-none-any.whl size=13902 sha256=018fc34d9085ec7a233d64dee2185133aeeb18655454a66ca82ce9bf5d9f2cc4\n",
      "  Stored in directory: /home/byczong/.cache/pip/wheels/23/dd/1d/6cdd346605db62bde1f60954155e9ce48f4681c243f265b704\n",
      "Successfully built Metaphone\n",
      "Installing collected packages: Metaphone\n",
      "Successfully installed Metaphone-0.6\n"
     ]
    }
   ],
   "source": [
    "!pip install Metaphone"
   ]
  },
  {
   "cell_type": "code",
   "execution_count": 60,
   "id": "c6f98334",
   "metadata": {},
   "outputs": [],
   "source": [
    "import pronouncing\n",
    "from metaphone import doublemetaphone\n",
    "import re"
   ]
  },
  {
   "cell_type": "markdown",
   "id": "3b284dde",
   "metadata": {},
   "source": [
    "### Finding rhymes"
   ]
  },
  {
   "cell_type": "markdown",
   "id": "8db31305",
   "metadata": {},
   "source": [
    "- Goal: Find set of words (unigrams) that rhyme with a given word\n",
    "\n",
    "- Rough algorithm plan:\n",
    "    - Input: `s`: str\n",
    "    - Expand any abbreviations, symbols and numbers in `s` ('mr' -> 'mister', '%' -> 'percent')\n",
    "    - Convert with the chosen phonetic algorithm (Soundex, Metaphone ...) to phonetic form (as pronounced in English)\n",
    "    - Find similar, existing words (from unigrams file) based on matching suffixes (need to choose the appropriate suffix lenght)"
   ]
  },
  {
   "cell_type": "markdown",
   "id": "8118567f",
   "metadata": {},
   "source": [
    "- https://en.wikipedia.org/wiki/Soundex\n",
    "    - (1918)\n",
    "- https://en.wikipedia.org/wiki/Metaphone\n",
    "    - Metaphone (1990)\n",
    "    - Double Metaphone (2000)\n",
    "    - Metaphone 3 (2009) - commercial product"
   ]
  },
  {
   "cell_type": "markdown",
   "id": "4e7c5ef2",
   "metadata": {},
   "source": [
    "**CMU ARPABET dictionary**"
   ]
  },
  {
   "cell_type": "code",
   "execution_count": 4,
   "id": "e9a7499c",
   "metadata": {},
   "outputs": [
    {
     "data": {
      "text/plain": [
       "['S AY1 Z']"
      ]
     },
     "execution_count": 4,
     "metadata": {},
     "output_type": "execute_result"
    }
   ],
   "source": [
    "pronouncing.phones_for_word(\"sighs\")"
   ]
  },
  {
   "cell_type": "code",
   "execution_count": 5,
   "id": "8b3ce803",
   "metadata": {},
   "outputs": [
    {
     "data": {
      "text/plain": [
       "['mailings', 'railings', 'tailings']"
      ]
     },
     "execution_count": 5,
     "metadata": {},
     "output_type": "execute_result"
    }
   ],
   "source": [
    "pronouncing.rhymes(\"failings\")"
   ]
  },
  {
   "cell_type": "markdown",
   "id": "0113ede9",
   "metadata": {},
   "source": [
    "**Double Metaphone**"
   ]
  },
  {
   "cell_type": "markdown",
   "id": "527b98fc",
   "metadata": {},
   "source": [
    "- does not take vowels (other than the first character) into account :(\n",
    "- it can return both a primary and a secondary code for a string"
   ]
  },
  {
   "cell_type": "code",
   "execution_count": 44,
   "id": "d204b7d7",
   "metadata": {},
   "outputs": [],
   "source": [
    "def comp(t1, t2):\n",
    "    print(f'{t1}\\n{t2}')"
   ]
  },
  {
   "cell_type": "code",
   "execution_count": 45,
   "id": "92af3bb9",
   "metadata": {},
   "outputs": [
    {
     "name": "stdout",
     "output_type": "stream",
     "text": [
      "('XL', '')\n",
      "('SML', 'XML')\n"
     ]
    }
   ],
   "source": [
    "comp(doublemetaphone(\"shell\"), doublemetaphone(\"smell\"))"
   ]
  },
  {
   "cell_type": "code",
   "execution_count": 46,
   "id": "dc9c4fa1",
   "metadata": {},
   "outputs": [
    {
     "name": "stdout",
     "output_type": "stream",
     "text": [
      "('JNRT', 'KNRT')\n",
      "('TJNRT', 'TKNRT')\n"
     ]
    }
   ],
   "source": [
    "comp(doublemetaphone(\"generate\"), doublemetaphone(\"degenerate\"))"
   ]
  },
  {
   "cell_type": "markdown",
   "id": "dce2a31d",
   "metadata": {},
   "source": [
    "Example \"rhyme representation\" algorithm:\n",
    "\n",
    "- Input string s\n",
    "- m = doublemetaphone(s)\n",
    "- result = insert the vowels from s inside m  # (todo: how)\n",
    "- in order to find set of rhymes match same suffixes # (todo: how long should the suffix be)"
   ]
  },
  {
   "cell_type": "code",
   "execution_count": 55,
   "id": "8c7592e8",
   "metadata": {},
   "outputs": [
    {
     "name": "stdout",
     "output_type": "stream",
     "text": [
      "generate\n",
      "JNRT\n"
     ]
    },
    {
     "data": {
      "text/plain": [
       "'TJeNeRaTe'"
      ]
     },
     "execution_count": 55,
     "metadata": {},
     "output_type": "execute_result"
    }
   ],
   "source": [
    "comp('generate',\n",
    "     doublemetaphone('generate')[0])\n",
    "'TJeNeRaTe'"
   ]
  },
  {
   "cell_type": "code",
   "execution_count": 58,
   "id": "f7120efe",
   "metadata": {},
   "outputs": [
    {
     "name": "stdout",
     "output_type": "stream",
     "text": [
      "failings\n",
      "FLNKS\n"
     ]
    },
    {
     "data": {
      "text/plain": [
       "'FaiLiNKS'"
      ]
     },
     "execution_count": 58,
     "metadata": {},
     "output_type": "execute_result"
    }
   ],
   "source": [
    "comp('failings',\n",
    "     doublemetaphone('failings')[0])\n",
    "'FaiLiNKS'"
   ]
  },
  {
   "cell_type": "code",
   "execution_count": 73,
   "id": "8b2a4755",
   "metadata": {},
   "outputs": [],
   "source": [
    "vowels = 'aeiouy'\n",
    "\n",
    "def encode_into_rhyme_repr(s: str) -> str:\n",
    "    # get the doublemetaphone repr of s\n",
    "    m = doublemetaphone(s)[0]\n",
    "    \n",
    "    # find the position (relative from the end) of the second vowel in s \n",
    "    # (if the vowel is not the first letter and if there are at least 2 vowels in s)\n",
    "    \n",
    "    # addtionally:\n",
    "    \n",
    "    # ends with a vowel => find the position of the second vowel\n",
    "    # no vowel in s[-2:] => find the position of the first vowel\n",
    "    total_vowel_count = sum([c in vowels for c in s])\n",
    "\n",
    "    pos = -1\n",
    "    vowel_count = 0\n",
    "    for i, c in enumerate(reversed(m)):\n",
    "        pos = -1 - i\n",
    "        print(m[pos])"
   ]
  },
  {
   "cell_type": "code",
   "execution_count": 74,
   "id": "97fd457b",
   "metadata": {},
   "outputs": [
    {
     "name": "stdout",
     "output_type": "stream",
     "text": [
      "K\n",
      "N\n",
      "S\n",
      "P\n"
     ]
    }
   ],
   "source": [
    "encode_into_rhyme_repr('byczong')"
   ]
  }
 ],
 "metadata": {
  "kernelspec": {
   "display_name": "Python 3 (ipykernel)",
   "language": "python",
   "name": "python3"
  },
  "language_info": {
   "codemirror_mode": {
    "name": "ipython",
    "version": 3
   },
   "file_extension": ".py",
   "mimetype": "text/x-python",
   "name": "python",
   "nbconvert_exporter": "python",
   "pygments_lexer": "ipython3",
   "version": "3.10.11"
  }
 },
 "nbformat": 4,
 "nbformat_minor": 5
}
