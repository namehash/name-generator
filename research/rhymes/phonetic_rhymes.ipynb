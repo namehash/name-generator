{
 "cells": [
  {
   "cell_type": "code",
   "execution_count": 1,
   "id": "f676255c",
   "metadata": {},
   "outputs": [
    {
     "name": "stdout",
     "output_type": "stream",
     "text": [
      "Requirement already satisfied: pronouncing in /home/byczong/anaconda3/envs/ds310/lib/python3.10/site-packages (0.2.0)\r\n",
      "Requirement already satisfied: cmudict>=0.4.0 in /home/byczong/anaconda3/envs/ds310/lib/python3.10/site-packages (from pronouncing) (1.0.13)\r\n",
      "Requirement already satisfied: importlib-metadata<6.0.0,>=5.1.0 in /home/byczong/anaconda3/envs/ds310/lib/python3.10/site-packages (from cmudict>=0.4.0->pronouncing) (5.2.0)\r\n",
      "Requirement already satisfied: importlib-resources<6.0.0,>=5.10.1 in /home/byczong/anaconda3/envs/ds310/lib/python3.10/site-packages (from cmudict>=0.4.0->pronouncing) (5.12.0)\r\n",
      "Requirement already satisfied: zipp>=0.5 in /home/byczong/anaconda3/envs/ds310/lib/python3.10/site-packages (from importlib-metadata<6.0.0,>=5.1.0->cmudict>=0.4.0->pronouncing) (3.15.0)\r\n"
     ]
    }
   ],
   "source": [
    "# !pip install pronouncing"
   ]
  },
  {
   "cell_type": "code",
   "execution_count": 2,
   "id": "0f6b2e3f",
   "metadata": {},
   "outputs": [
    {
     "name": "stdout",
     "output_type": "stream",
     "text": [
      "Collecting Metaphone\n",
      "  Downloading Metaphone-0.6.tar.gz (14 kB)\n",
      "  Preparing metadata (setup.py) ... \u001B[?25ldone\n",
      "\u001B[?25hBuilding wheels for collected packages: Metaphone\n",
      "  Building wheel for Metaphone (setup.py) ... \u001B[?25ldone\n",
      "\u001B[?25h  Created wheel for Metaphone: filename=Metaphone-0.6-py3-none-any.whl size=13902 sha256=018fc34d9085ec7a233d64dee2185133aeeb18655454a66ca82ce9bf5d9f2cc4\n",
      "  Stored in directory: /home/byczong/.cache/pip/wheels/23/dd/1d/6cdd346605db62bde1f60954155e9ce48f4681c243f265b704\n",
      "Successfully built Metaphone\n",
      "Installing collected packages: Metaphone\n",
      "Successfully installed Metaphone-0.6\n"
     ]
    }
   ],
   "source": [
    "# !pip install Metaphone"
   ]
  },
  {
   "cell_type": "code",
   "execution_count": 1,
   "id": "c6f98334",
   "metadata": {},
   "outputs": [],
   "source": [
    "import pronouncing\n",
    "from metaphone import doublemetaphone\n",
    "import re"
   ]
  },
  {
   "cell_type": "markdown",
   "id": "3b284dde",
   "metadata": {},
   "source": [
    "### Finding rhymes"
   ]
  },
  {
   "cell_type": "markdown",
   "id": "8db31305",
   "metadata": {},
   "source": [
    "- Goal: Find set of words (unigrams) that rhyme with a given word\n",
    "\n",
    "- Rough algorithm plan:\n",
    "    - Input: `s`: str\n",
    "    - Expand any abbreviations, symbols and numbers in `s` ('mr' -> 'mister', '%' -> 'percent')\n",
    "    - Convert with the chosen phonetic algorithm (Soundex, Metaphone ...) to phonetic form (as pronounced in English)\n",
    "    - Find similar, existing words (from unigrams file) based on matching suffixes (need to choose the appropriate suffix lenght)"
   ]
  },
  {
   "cell_type": "markdown",
   "id": "8118567f",
   "metadata": {},
   "source": [
    "- https://en.wikipedia.org/wiki/Soundex\n",
    "    - (1918)\n",
    "- https://en.wikipedia.org/wiki/Metaphone\n",
    "    - Metaphone (1990)\n",
    "    - Double Metaphone (2000)\n",
    "    - Metaphone 3 (2009) - commercial product"
   ]
  },
  {
   "cell_type": "markdown",
   "id": "4e7c5ef2",
   "metadata": {},
   "source": [
    "**CMU ARPABET dictionary**"
   ]
  },
  {
   "cell_type": "code",
   "execution_count": 3,
   "id": "e9a7499c",
   "metadata": {
    "scrolled": true
   },
   "outputs": [
    {
     "data": {
      "text/plain": [
       "['S AY1 Z']"
      ]
     },
     "execution_count": 3,
     "metadata": {},
     "output_type": "execute_result"
    }
   ],
   "source": [
    "pronouncing.phones_for_word(\"sighs\")"
   ]
  },
  {
   "cell_type": "code",
   "execution_count": 4,
   "id": "8b3ce803",
   "metadata": {},
   "outputs": [
    {
     "data": {
      "text/plain": [
       "['mailings', 'railings', 'tailings']"
      ]
     },
     "execution_count": 4,
     "metadata": {},
     "output_type": "execute_result"
    }
   ],
   "source": [
    "pronouncing.rhymes(\"failings\")"
   ]
  },
  {
   "cell_type": "markdown",
   "id": "0113ede9",
   "metadata": {},
   "source": [
    "**Double Metaphone**"
   ]
  },
  {
   "cell_type": "markdown",
   "id": "527b98fc",
   "metadata": {},
   "source": [
    "- does not take vowels (other than the first character) into account :(\n",
    "- it can return both a primary and a secondary code for a string"
   ]
  },
  {
   "cell_type": "code",
   "execution_count": 5,
   "id": "d204b7d7",
   "metadata": {},
   "outputs": [],
   "source": [
    "def comp(t1, t2):\n",
    "    print(f'{t1}\\n{t2}')"
   ]
  },
  {
   "cell_type": "code",
   "execution_count": 6,
   "id": "92af3bb9",
   "metadata": {},
   "outputs": [
    {
     "name": "stdout",
     "output_type": "stream",
     "text": [
      "('XL', '')\n",
      "('SML', 'XML')\n"
     ]
    }
   ],
   "source": [
    "comp(doublemetaphone(\"shell\"), doublemetaphone(\"smell\"))"
   ]
  },
  {
   "cell_type": "code",
   "execution_count": 7,
   "id": "dc9c4fa1",
   "metadata": {},
   "outputs": [
    {
     "name": "stdout",
     "output_type": "stream",
     "text": [
      "('JNRT', 'KNRT')\n",
      "('TJNRT', 'TKNRT')\n"
     ]
    }
   ],
   "source": [
    "comp(doublemetaphone(\"generate\"), doublemetaphone(\"degenerate\"))"
   ]
  },
  {
   "cell_type": "code",
   "execution_count": 20,
   "id": "6a745a40",
   "metadata": {},
   "outputs": [
    {
     "name": "stdout",
     "output_type": "stream",
     "text": [
      "('MKL', '')\n",
      "('KKKL', '')\n"
     ]
    }
   ],
   "source": [
    "comp(doublemetaphone(\"mykola\"), doublemetaphone(\"cocacola\"))"
   ]
  },
  {
   "cell_type": "code",
   "execution_count": 21,
   "id": "254d45bb",
   "metadata": {},
   "outputs": [
    {
     "name": "stdout",
     "output_type": "stream",
     "text": [
      "('MKL', '')\n",
      "('KKKL', '')\n"
     ]
    }
   ],
   "source": [
    "comp(doublemetaphone(\"mykole\"), doublemetaphone(\"cocacola\"))"
   ]
  },
  {
   "cell_type": "markdown",
   "id": "dce2a31d",
   "metadata": {},
   "source": [
    "**Example \"rhyme representation\" algorithm**\n",
    "\n",
    "- Input string s\n",
    "- m = doublemetaphone(s)\n",
    "- result = insert the vowels from s inside m  # (todo: how)\n",
    "- in order to find set of rhymes match same suffixes # (todo: how long should the suffix be)"
   ]
  },
  {
   "cell_type": "code",
   "execution_count": 9,
   "id": "8c7592e8",
   "metadata": {},
   "outputs": [
    {
     "name": "stdout",
     "output_type": "stream",
     "text": [
      "generate\n",
      "JNRT\n"
     ]
    },
    {
     "data": {
      "text/plain": [
       "'TJeNeRaTe'"
      ]
     },
     "execution_count": 9,
     "metadata": {},
     "output_type": "execute_result"
    }
   ],
   "source": [
    "comp('generate',\n",
    "     doublemetaphone('generate')[0])\n",
    "'TJeNeRaTe'"
   ]
  },
  {
   "cell_type": "code",
   "execution_count": 10,
   "id": "f7120efe",
   "metadata": {},
   "outputs": [
    {
     "name": "stdout",
     "output_type": "stream",
     "text": [
      "failings\n",
      "FLNKS\n"
     ]
    },
    {
     "data": {
      "text/plain": [
       "'FaiLiNKS'"
      ]
     },
     "execution_count": 10,
     "metadata": {},
     "output_type": "execute_result"
    }
   ],
   "source": [
    "comp('failings',\n",
    "     doublemetaphone('failings')[0])\n",
    "'FaiLiNKS'"
   ]
  },
  {
   "cell_type": "code",
   "execution_count": 12,
   "id": "336476f1",
   "metadata": {},
   "outputs": [
    {
     "name": "stdout",
     "output_type": "stream",
     "text": [
      "mykola\n",
      "('MKL', '')\n"
     ]
    },
    {
     "data": {
      "text/plain": [
       "'MyKoLa'"
      ]
     },
     "execution_count": 12,
     "metadata": {},
     "output_type": "execute_result"
    }
   ],
   "source": [
    "comp(\"mykola\", \n",
    "     doublemetaphone(\"mykola\"))\n",
    "\n",
    "'MyKoLa'"
   ]
  },
  {
   "cell_type": "code",
   "execution_count": 16,
   "id": "fdb915ed",
   "metadata": {},
   "outputs": [
    {
     "name": "stdout",
     "output_type": "stream",
     "text": [
      "mass\n",
      "('MS', '')\n"
     ]
    },
    {
     "data": {
      "text/plain": [
       "'MaS'"
      ]
     },
     "execution_count": 16,
     "metadata": {},
     "output_type": "execute_result"
    }
   ],
   "source": [
    "comp(\"mass\", \n",
    "     doublemetaphone(\"mass\"))\n",
    "\n",
    "'MaS'"
   ]
  },
  {
   "cell_type": "markdown",
   "id": "c6c6ef2d",
   "metadata": {},
   "source": [
    "**ARPABET model?**"
   ]
  },
  {
   "cell_type": "code",
   "execution_count": 1,
   "id": "bd64fe40",
   "metadata": {},
   "outputs": [
    {
     "name": "stdout",
     "output_type": "stream",
     "text": [
      "Collecting g2p_en\n",
      "  Downloading g2p_en-2.1.0-py3-none-any.whl (3.1 MB)\n",
      "\u001B[2K     \u001B[38;2;114;156;31m━━━━━━━━━━━━━━━━━━━━━━━━━━━━━━━━━━━━━━━━\u001B[0m \u001B[32m3.1/3.1 MB\u001B[0m \u001B[31m13.3 MB/s\u001B[0m eta \u001B[36m0:00:00\u001B[0m MB/s\u001B[0m eta \u001B[36m0:00:01\u001B[0m01\u001B[0m\n",
      "\u001B[?25hRequirement already satisfied: numpy>=1.13.1 in /home/byczong/anaconda3/envs/ds310/lib/python3.10/site-packages (from g2p_en) (1.24.3)\n",
      "Collecting nltk>=3.2.4 (from g2p_en)\n",
      "  Downloading nltk-3.8.1-py3-none-any.whl (1.5 MB)\n",
      "\u001B[2K     \u001B[38;2;114;156;31m━━━━━━━━━━━━━━━━━━━━━━━━━━━━━━━━━━━━━━━━\u001B[0m \u001B[32m1.5/1.5 MB\u001B[0m \u001B[31m35.6 MB/s\u001B[0m eta \u001B[36m0:00:00\u001B[0m MB/s\u001B[0m eta \u001B[36m0:00:01\u001B[0m\n",
      "\u001B[?25hCollecting inflect>=0.3.1 (from g2p_en)\n",
      "  Downloading inflect-6.0.4-py3-none-any.whl (34 kB)\n",
      "Collecting distance>=0.1.3 (from g2p_en)\n",
      "  Downloading Distance-0.1.3.tar.gz (180 kB)\n",
      "\u001B[2K     \u001B[38;2;114;156;31m━━━━━━━━━━━━━━━━━━━━━━━━━━━━━━━━━━━━━━\u001B[0m \u001B[32m180.3/180.3 kB\u001B[0m \u001B[31m39.0 MB/s\u001B[0m eta \u001B[36m0:00:00\u001B[0m\n",
      "\u001B[?25h  Preparing metadata (setup.py) ... \u001B[?25ldone\n",
      "\u001B[?25hCollecting pydantic>=1.9.1 (from inflect>=0.3.1->g2p_en)\n",
      "  Downloading pydantic-1.10.8-cp310-cp310-manylinux_2_17_x86_64.manylinux2014_x86_64.whl (3.1 MB)\n",
      "\u001B[2K     \u001B[38;2;114;156;31m━━━━━━━━━━━━━━━━━━━━━━━━━━━━━━━━━━━━━━━━\u001B[0m \u001B[32m3.1/3.1 MB\u001B[0m \u001B[31m25.2 MB/s\u001B[0m eta \u001B[36m0:00:00\u001B[0m MB/s\u001B[0m eta \u001B[36m0:00:01\u001B[0m\n",
      "\u001B[?25hCollecting click (from nltk>=3.2.4->g2p_en)\n",
      "  Using cached click-8.1.3-py3-none-any.whl (96 kB)\n",
      "Requirement already satisfied: joblib in /home/byczong/anaconda3/envs/ds310/lib/python3.10/site-packages (from nltk>=3.2.4->g2p_en) (1.1.1)\n",
      "Collecting regex>=2021.8.3 (from nltk>=3.2.4->g2p_en)\n",
      "  Downloading regex-2023.5.5-cp310-cp310-manylinux_2_17_x86_64.manylinux2014_x86_64.whl (769 kB)\n",
      "\u001B[2K     \u001B[38;2;114;156;31m━━━━━━━━━━━━━━━━━━━━━━━━━━━━━━━━━━━━━━\u001B[0m \u001B[32m769.7/769.7 kB\u001B[0m \u001B[31m27.9 MB/s\u001B[0m eta \u001B[36m0:00:00\u001B[0m\n",
      "\u001B[?25hCollecting tqdm (from nltk>=3.2.4->g2p_en)\n",
      "  Using cached tqdm-4.65.0-py3-none-any.whl (77 kB)\n",
      "Requirement already satisfied: typing-extensions>=4.2.0 in /home/byczong/anaconda3/envs/ds310/lib/python3.10/site-packages (from pydantic>=1.9.1->inflect>=0.3.1->g2p_en) (4.5.0)\n",
      "Building wheels for collected packages: distance\n",
      "  Building wheel for distance (setup.py) ... \u001B[?25ldone\n",
      "\u001B[?25h  Created wheel for distance: filename=Distance-0.1.3-py3-none-any.whl size=16257 sha256=6855ca828b654137aa2675111fc8b255445fc58e4a09c938845dd3ad82ea7d3d\n",
      "  Stored in directory: /home/byczong/.cache/pip/wheels/e8/bb/de/f71bf63559ea9a921059a5405806f7ff6ed612a9231c4a9309\n",
      "Successfully built distance\n",
      "Installing collected packages: distance, tqdm, regex, pydantic, click, nltk, inflect, g2p_en\n",
      "Successfully installed click-8.1.3 distance-0.1.3 g2p_en-2.1.0 inflect-6.0.4 nltk-3.8.1 pydantic-1.10.8 regex-2023.5.5 tqdm-4.65.0\n"
     ]
    }
   ],
   "source": [
    "!pip install g2p_en"
   ]
  },
  {
   "cell_type": "code",
   "execution_count": 30,
   "id": "6828ef80",
   "metadata": {
    "scrolled": true
   },
   "outputs": [
    {
     "name": "stdout",
     "output_type": "stream",
     "text": [
      "['K', 'W', 'ER1', 'T', 'IY0', 'AH0', 'W', 'AH0', 'M']\n",
      "0.017724068999996234 s\n"
     ]
    }
   ],
   "source": [
    "from time import perf_counter\n",
    "from g2p_en import G2p\n",
    "\n",
    "\n",
    "g2p = G2p()\n",
    "\n",
    "t1 = perf_counter()\n",
    "out = g2p(\"qwertyuiop\")\n",
    "print(out)\n",
    "t2 = perf_counter()\n",
    "\n",
    "print(f'{t2-t1} s')"
   ]
  },
  {
   "cell_type": "code",
   "execution_count": 23,
   "id": "14ba5597",
   "metadata": {},
   "outputs": [
    {
     "data": {
      "text/plain": [
       "['abortionist', 'africanist', 'agonist', 'anticommunist', 'arsonist']"
      ]
     },
     "execution_count": 23,
     "metadata": {},
     "output_type": "execute_result"
    }
   ],
   "source": [
    "pronouncing.search('N IH0 S T$')[:5]"
   ]
  },
  {
   "cell_type": "code",
   "execution_count": 25,
   "id": "ad22e9c1",
   "metadata": {},
   "outputs": [
    {
     "data": {
      "text/plain": [
       "['ahlers',\n",
       " 'collars',\n",
       " \"collor's\",\n",
       " \"controllers'\",\n",
       " \"dollar's\",\n",
       " 'dollars',\n",
       " \"dollars'\",\n",
       " 'hollars',\n",
       " 'hollers',\n",
       " \"mahler's\",\n",
       " \"scholar's\",\n",
       " 'scholars',\n",
       " 'sollars',\n",
       " 'sollers',\n",
       " 'wahlers',\n",
       " 'zollars']"
      ]
     },
     "execution_count": 25,
     "metadata": {},
     "output_type": "execute_result"
    }
   ],
   "source": [
    "pronouncing.search('AA1 L ER0 Z$')"
   ]
  },
  {
   "cell_type": "markdown",
   "source": [
    "**Modify double metaphone to preserve vowels**"
   ],
   "metadata": {
    "collapsed": false,
    "pycharm": {
     "name": "#%% md\n"
    }
   }
  }
 ],
 "metadata": {
  "kernelspec": {
   "display_name": "Python 3 (ipykernel)",
   "language": "python",
   "name": "python3"
  },
  "language_info": {
   "codemirror_mode": {
    "name": "ipython",
    "version": 3
   },
   "file_extension": ".py",
   "mimetype": "text/x-python",
   "name": "python",
   "nbconvert_exporter": "python",
   "pygments_lexer": "ipython3",
   "version": "3.10.11"
  }
 },
 "nbformat": 4,
 "nbformat_minor": 5
}